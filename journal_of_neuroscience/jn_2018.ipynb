{
 "cells": [
  {
   "cell_type": "code",
   "execution_count": 1,
   "metadata": {},
   "outputs": [],
   "source": [
    "#导入相关模块\n",
    "import numpy as np\n",
    "import pandas as pd\n",
    "import csv"
   ]
  },
  {
   "cell_type": "code",
   "execution_count": 41,
   "metadata": {},
   "outputs": [
    {
     "data": {
      "text/html": [
       "<div>\n",
       "<style scoped>\n",
       "    .dataframe tbody tr th:only-of-type {\n",
       "        vertical-align: middle;\n",
       "    }\n",
       "\n",
       "    .dataframe tbody tr th {\n",
       "        vertical-align: top;\n",
       "    }\n",
       "\n",
       "    .dataframe thead th {\n",
       "        text-align: right;\n",
       "    }\n",
       "</style>\n",
       "<table border=\"1\" class=\"dataframe\">\n",
       "  <thead>\n",
       "    <tr style=\"text-align: right;\">\n",
       "      <th></th>\n",
       "      <th>CK1α Collaborates with DOUBLETIME to Regulate PERIOD Function in the   Circadian Clock</th>\n",
       "      <th>['casein kinase 1', 'circadian clock', 'CK1alpha', 'Drosophila', 'phosphorylation']</th>\n",
       "      <th>12 December 2018,</th>\n",
       "    </tr>\n",
       "  </thead>\n",
       "  <tbody>\n",
       "    <tr>\n",
       "      <th>0</th>\n",
       "      <td>Asymmetric and Distant Effects of a Unilateral...</td>\n",
       "      <td>['cortical lesion', 'diaschisis', 'manual dext...</td>\n",
       "      <td>12 December 2018,</td>\n",
       "    </tr>\n",
       "    <tr>\n",
       "      <th>1</th>\n",
       "      <td>Membrane Potential Correlates of Network Decor...</td>\n",
       "      <td>['barrel cortex', 'cholinergic', 'decorrelatio...</td>\n",
       "      <td>12 December 2018,</td>\n",
       "    </tr>\n",
       "    <tr>\n",
       "      <th>2</th>\n",
       "      <td>Detailed Visual Cortical Responses Generated b...</td>\n",
       "      <td>['neurophysiology', 'orientation selectivity',...</td>\n",
       "      <td>12 December 2018,</td>\n",
       "    </tr>\n",
       "    <tr>\n",
       "      <th>3</th>\n",
       "      <td>Integration of Small- and Wide-Field Visual Fe...</td>\n",
       "      <td>['dipteran TSDN', 'motion vision', 'optic flow...</td>\n",
       "      <td>12 December 2018,</td>\n",
       "    </tr>\n",
       "    <tr>\n",
       "      <th>4</th>\n",
       "      <td>Functional MRI in Macaque Monkeys during Task ...</td>\n",
       "      <td>['cognitive control', 'executive control', 'fM...</td>\n",
       "      <td>12 December 2018,</td>\n",
       "    </tr>\n",
       "  </tbody>\n",
       "</table>\n",
       "</div>"
      ],
      "text/plain": [
       "  CK1α Collaborates with DOUBLETIME to Regulate PERIOD Function in the   Circadian Clock  \\\n",
       "0  Asymmetric and Distant Effects of a Unilateral...                                       \n",
       "1  Membrane Potential Correlates of Network Decor...                                       \n",
       "2  Detailed Visual Cortical Responses Generated b...                                       \n",
       "3  Integration of Small- and Wide-Field Visual Fe...                                       \n",
       "4  Functional MRI in Macaque Monkeys during Task ...                                       \n",
       "\n",
       "  ['casein kinase 1', 'circadian clock', 'CK1alpha', 'Drosophila', 'phosphorylation']  \\\n",
       "0  ['cortical lesion', 'diaschisis', 'manual dext...                                    \n",
       "1  ['barrel cortex', 'cholinergic', 'decorrelatio...                                    \n",
       "2  ['neurophysiology', 'orientation selectivity',...                                    \n",
       "3  ['dipteran TSDN', 'motion vision', 'optic flow...                                    \n",
       "4  ['cognitive control', 'executive control', 'fM...                                    \n",
       "\n",
       "   12 December 2018,    \n",
       "0  12 December 2018,    \n",
       "1  12 December 2018,    \n",
       "2  12 December 2018,    \n",
       "3  12 December 2018,    \n",
       "4  12 December 2018,    "
      ]
     },
     "execution_count": 41,
     "metadata": {},
     "output_type": "execute_result"
    }
   ],
   "source": [
    "#读取数据并查看前五行数据\n",
    "df=pd.read_csv('jofneuro_v38_2018.csv')\n",
    "df[:5]"
   ]
  },
  {
   "cell_type": "code",
   "execution_count": 43,
   "metadata": {},
   "outputs": [
    {
     "data": {
      "text/html": [
       "<div>\n",
       "<style scoped>\n",
       "    .dataframe tbody tr th:only-of-type {\n",
       "        vertical-align: middle;\n",
       "    }\n",
       "\n",
       "    .dataframe tbody tr th {\n",
       "        vertical-align: top;\n",
       "    }\n",
       "\n",
       "    .dataframe thead th {\n",
       "        text-align: right;\n",
       "    }\n",
       "</style>\n",
       "<table border=\"1\" class=\"dataframe\">\n",
       "  <thead>\n",
       "    <tr style=\"text-align: right;\">\n",
       "      <th></th>\n",
       "      <th>paper title</th>\n",
       "      <th>keywords</th>\n",
       "      <th>publish_date</th>\n",
       "    </tr>\n",
       "  </thead>\n",
       "  <tbody>\n",
       "    <tr>\n",
       "      <th>0</th>\n",
       "      <td>Asymmetric and Distant Effects of a Unilateral...</td>\n",
       "      <td>['cortical lesion', 'diaschisis', 'manual dext...</td>\n",
       "      <td>12 December 2018,</td>\n",
       "    </tr>\n",
       "    <tr>\n",
       "      <th>1</th>\n",
       "      <td>Membrane Potential Correlates of Network Decor...</td>\n",
       "      <td>['barrel cortex', 'cholinergic', 'decorrelatio...</td>\n",
       "      <td>12 December 2018,</td>\n",
       "    </tr>\n",
       "    <tr>\n",
       "      <th>2</th>\n",
       "      <td>Detailed Visual Cortical Responses Generated b...</td>\n",
       "      <td>['neurophysiology', 'orientation selectivity',...</td>\n",
       "      <td>12 December 2018,</td>\n",
       "    </tr>\n",
       "    <tr>\n",
       "      <th>3</th>\n",
       "      <td>Integration of Small- and Wide-Field Visual Fe...</td>\n",
       "      <td>['dipteran TSDN', 'motion vision', 'optic flow...</td>\n",
       "      <td>12 December 2018,</td>\n",
       "    </tr>\n",
       "    <tr>\n",
       "      <th>4</th>\n",
       "      <td>Functional MRI in Macaque Monkeys during Task ...</td>\n",
       "      <td>['cognitive control', 'executive control', 'fM...</td>\n",
       "      <td>12 December 2018,</td>\n",
       "    </tr>\n",
       "  </tbody>\n",
       "</table>\n",
       "</div>"
      ],
      "text/plain": [
       "                                         paper title  \\\n",
       "0  Asymmetric and Distant Effects of a Unilateral...   \n",
       "1  Membrane Potential Correlates of Network Decor...   \n",
       "2  Detailed Visual Cortical Responses Generated b...   \n",
       "3  Integration of Small- and Wide-Field Visual Fe...   \n",
       "4  Functional MRI in Macaque Monkeys during Task ...   \n",
       "\n",
       "                                            keywords         publish_date  \n",
       "0  ['cortical lesion', 'diaschisis', 'manual dext...  12 December 2018,    \n",
       "1  ['barrel cortex', 'cholinergic', 'decorrelatio...  12 December 2018,    \n",
       "2  ['neurophysiology', 'orientation selectivity',...  12 December 2018,    \n",
       "3  ['dipteran TSDN', 'motion vision', 'optic flow...  12 December 2018,    \n",
       "4  ['cognitive control', 'executive control', 'fM...  12 December 2018,    "
      ]
     },
     "execution_count": 43,
     "metadata": {},
     "output_type": "execute_result"
    }
   ],
   "source": [
    "#添加每列字段并查看\n",
    "df.columns=['paper title','keywords','publish_date']\n",
    "df[:5]"
   ]
  },
  {
   "cell_type": "code",
   "execution_count": 46,
   "metadata": {},
   "outputs": [
    {
     "name": "stdout",
     "output_type": "stream",
     "text": [
      "[['cortical lesion', 'diaschisis', 'manual dexterity', 'motor cortex', 'nonhuman primate'], ['barrel cortex', 'cholinergic', 'decorrelation', 'in-vivo intracellular recordings', 'nucleus basalis', 'SNR'], ['neurophysiology', 'orientation selectivity', 'primary visual cortex', 'visual cortex', 'visual pathway', 'visual rehabilitation'], ['dipteran TSDN', 'motion vision', 'optic flow', 'target detection', 'target tracking'], ['cognitive control', 'executive control', 'fMRI', 'macaque', 'task-switch'], ['\"Alzheimers disease\"', 'glutamate', 'microtubule-associated protein tau', 'prion protein', 'synaptic plasticity'], ['electrophysiology', 'hippocampus', 'MAM', 'poly I:C', 'schizophrenia', 'thalamus'], ['cocaine', 'CRF', 'dopamine', 'prefrontal', 'reinstatement', 'stress'], ['bacterial lipoprotein', 'brain infection', 'PET', 'regional correlation', 'synaptic dysfunction'], ['cholinergic', 'DBS', 'GPi', 'human', 'microstimulation'], ['binocular enucleation', 'homeostatic plasticity', 'inhibitory synapses', 'parvalbumin-positive neuron', 'retinoic acid receptor'], ['DNA methylation', 'DNMT3b', 'epigenetic', 'GPR151', 'KLF5', 'neuropathic pain'], ['congenital', 'cytomegalovirus', 'deafness', 'hyposmia', 'interneuron', 'olfactory bulb'], ['ACC', 'FABP3', 'GABA', 'GAD', '67', 'parvalbumin', 'PUFA'], ['CB1', 'DSI', 'endocannabinoid', 'heterologous desensitization', 'hypothalamus', 'mGluR'], ['aging', 'area 7a', 'dendritic spines', 'primate', 'thin spines', 'working memory'], ['5-HT2A', 'inflammation', 'medullary dorsal horn', 'pain', 'PKC-gamma', 'serotonin'], ['feedback control', 'internal model', 'intersegmental dynamics', 'motor learning', 'reflex', 'voluntary movements'], ['eye movements', 'frontal eye field', 'primates', 'reward', 'smooth pursuit'], ['communication through coherence', 'EEG-TMS', 'effective cortico-cortical connectivity', 'human', 'interhemispheric communication', 'motor cortex'], ['corticospinal', 'DREADD', 'light-sheet microscopy', 'motor control', 'retrograde gene therapy', 'supraspinal centers'], ['memory', 'parietal lobe', 'recollection', 'transcranial magnetic stimulation'], ['31', 'P magnetic resonance spectroscopy', 'inorganic phosphate', 'pH', 'phosphocreatine', 'thalamus'], ['brainstem pain modulation', 'functional connectivity', 'migraine', 'orofacial pain', 'periaqueductal gray matter', 'spinal trigeminal nucleus'], ['actin', 'cytoskeleton', 'dendritic arborization', 'dendritic spines', 'pointed end'], ['actin', '\"Alzheimers disease\"', 'amyloid-β oligomers', 'cofilin', 'fasudil', 'Rho-associated protein'], ['axonal transport', 'clostridial neurotoxins', 'dystonia', 'spasticity', 'synaptic transmission', 'transcytosis'], ['locomotion', 'reflex', 'spinal cord', 'split-belt'], ['cerebellum', 'eye movement', 'goldfish', 'motor learning', 'optokinetic response', 'prediction'], ['lateral geniculate nucleus', 'primate', 'vision'], ['consolidation', 'episodic memory retrieval', 'hippocampus', 'medial prefrontal cortex', 'pattern separation', 'temporal context'], ['consolidation', 'episodic', 'hippocampus', 'memory', 'odor', 'respiration'], ['categorization', 'navigation', 'occipital place area', 'parahippocampal place area', 'retrosplenial complex', 'scene recognition'], ['default mode network', 'dorsal attention network', 'electrocorticography', 'intracranial EEG', 'network neuroscience'], ['consciousness', 'decision-making', 'prediction error', 'reinforcement learning'], ['cues', 'decision making', 'gambling', 'pupillometry', 'reward', 'risk'], ['Gallayas', 'locus ceruleus', 'sleep deprivation', 'tauopathy'], ['AMPAR', 'palmitoylation', 'GluA', 'seizure', 'epilepsy'], ['aggrecan', 'inhibitory', 'interneuron', 'neuronal plasticity', 'parvalbumin', 'perineuronal nets'], ['calretinin neurons', 'electron microscopy', 'emotion', 'memory', 'parvalbumin neurons', 'PTSD'], ['AAV', 'arousal', 'DREADD', 'EEG', 'neural circuits', 'REM sleep'], ['adaptation', 'cross-orientation suppression', 'macaque', 'V1'], ['decision-making'], ['motor execution', 'movement variability', 'efference copy', 'local feedback model', 'neural integrator', 'oculomotor'], ['Drosophila', 'glutamatergic neurons', 'nutrient-sensing', 'SOCE'], ['BCI', 'ECoG', 'electrocorticography', 'ipsilateral', 'reach'], ['event boundaries', 'hippocampus', 'long-term memory', 'movie', 'segmentation'], ['contrast gain control', 'lateral interactions', 'population coding', 'striate cortex', 'visual cortex', 'voltage-sensitive dye imaging'], ['associative memory', 'encoding', 'fMRI', 'parahippocampal cortex', 'pattern differentiation', 'value'], ['action observation', 'fMRI', 'MVPA', 'sequence learning'], ['cerebral ischemia', 'IL-2/IL-2 antibody complex', 'neuroprotection', 'regulatory T cells'], ['acylsulfonamide', 'congenital insensitivity to pain', 'drug development', 'Nav1.7', 'pain', 'tamoxifen'], ['cerebellar granule cells', 'dentate gyrus granule cells', 'Homer protein', 'inter-receptor crosstalk', 'metabotropic glutamate receptors', 'NMDA receptors'], ['calretinin', 'neurogenesis', 'olfactory bulb', 'periglomerular cell'], ['GABA', 'B', 'GPCR', 'hippocampus', 'ion channels', 'neuromodulation', 'RGS'], ['MYRF', 'oligodendrocyte differentiation', 'self-cleavage', 'TMEM98'], ['cortical inactivation', 'hindlimb', 'intracortical microstimulation', 'motor cortex', 'plasticity', 'spinal cord injury'], ['articulatory gestures', 'brain–computer interface', 'encoding', 'phonemes', 'segments', 'speech production'], ['agranular', 'AI', 'calcium channel', 'parvalbumin', 'STP', 'VGCC'], ['attractor networks', 'classifier', 'committee machines', 'perceptron', 'sparse connectivity'], ['corticothalamic', 'downstates', 'iEEG', 'sleep', 'spindles', 'theta'], ['dopaminergic', 'itch', 'modulation', 'scratching'], ['acute pain', 'DRG', 'Kv1.2', 'MBD1', 'mu opioid receptor', 'neuropathic pain'], ['context', 'fear conditioning', 'hippocampus', 'memory', 'rat', 'thalamus'], ['auditory cortex', 'habituation', 'long-term memory'], ['fMRS', 'GABA', 'glutamate', 'rs-fMRI', 'visual discriminatory performance', 'visual system'], ['amitriptyline', 'antidepressants', 'duloxetine', 'neuropathic pain', 'TLR2', 'TNF-α'], ['AMPA receptor', 'frontotemporal dementia', '\"Parkinsons disease\"', 'synaptic plasticity', 'synuclein', 'tau'], ['angiopoietin', 'blood–brain barrier', 'cerebral blood flow', 'juvenile', 'miRNA', 'Tie2 receptor'], ['axonal branching', 'cGMP signaling', 'Npr2', 'phosphorylation', 'sensory axons'], ['basal ganglia', 'motor exploration', 'reinforcement learning', 'social context', 'songbird', 'vocal learning'], ['awake reactivation', 'fMRI', 'learning', 'perceptual decision making', 'V1'], ['chronic social defeat stress', 'LRRK2', 'LTP', 'nucleus accumbens', 'resilience', 'striatum'], ['hippocampal projecting neuron', 'intralaminar connectivity', 'parahippocampal region', 'principal neuron', 'reelin-positive neuron'], ['cell types', 'classification', 'retina'], ['cat', 'motoneuron', 'mouse', 'subprimary range'], ['behavior', 'cognition', 'functional connectivity', 'individual', 'structural connectivity'], ['GWAS', 'heritability', 'perceptual rivalry', 'structural MRI', 'voluntary modulation'], ['functional magnetic resonance image', 'inferior frontal gyrus', 'McGurk effect', 'motor cortex', 'multisensory illusion', 'transcranial magnetic stimulation'], ['event', 'fMRI', 'narrative', 'perception', 'schema', 'script'], ['ataxia', 'Mecr', 'mitochondria', 'mitochondrial fatty acid synthesis', 'neurodegeneration', 'Purkinje cells'], ['amygdala', 'fear memory', 'Neogenin', 'synaptic transmission'], ['analysis', 'gene expression', 'lineage', 'oligodendrocytes', 'PDGFRα', 'transgenic mice'], ['axon', 'cerebellum', 'GABA', 'genetic model', 'inferior olive', 'motor learning'], ['binocular vision', 'disparity selectivity', 'emergence', 'Hebbian learning', 'natural statistics', 'STDP'], ['attractor model', 'Bayesian', 'beads task', 'disconfirmatory bias', 'psychosis', 'schizophrenia'], ['action selection', 'attention', 'conflict', 'midfrontal theta', 'motor cortex', 'visual cortex'], ['cocaine', 'CREST', 'epigenetics', 'LTP', 'nucleosome remodeling', 'nucleus accumbens'], ['attention', 'cognitive control', 'event-related brain potentials', 'visual search', 'working memory'], ['basal ganglia', 'category learning', 'computational model', 'physiological data', 'prefrontal cortex'], ['dendrite spine', 'microcephaly', 'neuroexcitation', 'postnatal stunting', 'shortened lifespan', 'sociability'], ['DMT1', 'iron uptake', 'myelination', 'oligodendrocyte', 'remyelination'], ['CACHD1', 'Ca', 'V', '3 calcium channel', 'T-type calcium current', 'α2δ auxiliary subunit'], ['calcium-dependent inactivation', 'hippocampus', 'l', '-type calcium channels', 'Stac protein'], ['hippocampus', 'metabotropic glutamate receptors', 'muscarinic receptors', 'SK channels', 'spike timing-dependent plasticity', 'synaptic plasticity'], ['CNS remyelination', 'Foxj1', 'peripheral nerve', 'Schwann cells'], ['cortical projections', 'DBS', 'deep-brain stimulation', 'electrocorticography', 'globus pallidus', 'hyperdirect pathway'], ['calcium imaging', 'honeybee', 'latency coding', 'odor coding', 'olfation', 'two-photon microscopy'], ['amygdala', 'body', 'connectivity', 'emotion', 'lobectomy', 'MVPA'], ['H2Bub', 'mGluR5', 'neuropathic pain', 'pRNAPII', 'RNF20'], ['consciousness', 'dream', 'high-density EEG', 'sleep', 'slow wave'], ['amnesiac', 'dorsal paired medial neurons', 'Drosophila', 'mushroom body', 'olfactory memory'], ['adolescent', 'EEG', 'sleep', 'twin'], ['α-synuclein', 'modifier', 'neurodegeneration', 'pooled screen', 'protein dosage', 'shRNA'], ['alpha2a-adrenergic receptor', 'anxiety', 'bed nucleus of the stria terminalis', 'guanfacine', 'HCN channels', 'norepinephrine'], ['AMPA', 'amygdala', 'dendritic spine', 'EAE', 'microglia', 'multiple sclerosis'], ['cocaine', 'feedforward inhibition', 'interneuron', 'medium spiny neuron', 'nucleus accumbens', 'synaptic transmission'], ['Dmrt', 'dorsoventral patterning', 'Emx2', 'Gsx2', 'pallium–subpallium boundary', 'telencephalon'], ['autonomic nervous system', 'frontotemporal dementia', 'parasympathetic', 'salience network', 'sympathetic'], ['addiction circuitry', 'chemogenetics', 'cocaine use disorder', 'relapse', 'viral vectors'], ['familiarity', 'macaque', 'suppression', 'V2'], ['Cancer borealis', 'Cancer borealis', 'tachykinin-related peptide 1a', 'oxotremorine', 'proctolin', 'red pigment concentrating hormone', 'stomatogastric ganglion'], ['abstraction', 'consolidation', 'predictive coding', 'sequence learning', 'sleep'], ['descending pain modulation', 'expectation', 'mental imagery', 'naloxone', 'pain modulation', 'pain relief'], ['circadian', 'Drosophila', 'KV4', 'Shaker', 'sleep'], ['anxiety', 'CCR2 antagonist', 'ethanol drinking', 'lateral hypothalamus', 'neuroimmune', 'prenatal'], ['\"Alzheimers disease\"', 'Amyloid beta (Aβ)', 'Intraneuronal Aβ', 'Fcγ-receptor IIb', 'TOM1', 'miR-126'], ['CA3', 'dentate gyrus', 'epilepsy', 'fast ripples', 'hippocampus', 'traumatic brain injury'], ['analgesia', 'descending pain pathway', 'GABA', 'B', 'receptor', 'opioids', 'periqueductal gray', 'RGS proteins'], ['glia', 'mechanical stimulus', 'retina', 'swelling', 'temperature', 'TRPV4'], ['D', '4', 'receptors', 'dopamine', 'dorsal horn spinal cord', 'lamina I neurons', 'nociception'], ['cortex', 'preterm', 'resting state', 'spontaneous activity', 'thalamus'], ['EMG', 'ICMS', 'motor cortex', 'muscle synergies', 'nonnegative matrix factorization'], ['corticothalamic', 'layer 1', 'motor cortex', 'thalamocortical', 'ventromedial thalamus'], ['cholinergic', 'neurocircuitry', 'prepulse inhibition', 'sensorimotor gating', 'startle'], ['cerebellum', 'computer simulation', 'forebrain', 'persistent input', 'thalamus', 'trace eyelid conditioning'], ['cytokine', 'dopamine', 'immune system', 'learning and memory', 'motivation', 'voltammetry'], ['confidence', 'integration-to-bound', 'macaque', 'perceptual decision making', 'psychophysical reverse correlation', 'pupillometry'], ['associative learning', 'conditioned inhibition', 'dopamine', 'prediction error', 'rat', 'ventral tegmental area'], ['cognition', 'dendritic spine', 'microglia', 'obesity', 'synapse'], ['beta bursts', 'beta oscillations', 'motor performance', '\"Parkinsons disease\"', 'reaching movement', 'subthalamic nucleus'], ['axon damage', 'CLARITY', 'myelin', 'nerve conduction', 'node of Ranvier', 'paranode'], ['aging', 'LRP4', 'neuromuscular junction', 'SGα'], ['appetite', 'astrocytes', 'ATP', 'cholecystokinin', 'dorsomedial hypothalamus', 'GABA'], ['GPCR', 'metabotropic glutamate receptors', 'neurotransmitter receptors', 'recycling', 'SNX1', 'trafficking'], ['activity dependent', 'axo-glial', 'axonal', 'calcium imaging', 'myelination', 'neuromuscular'], ['central pattern generator', 'neuromodulation', 'peptide', 'stomatogastric'], ['cortical functional specialization', 'fMRI', 'human auditory cortex', 'sound localization'], ['cerebral cortex', 'computational model', 'gamma-band', 'synchrony'], ['object recognition', 'perception', 'transformation', 'viewpoint invariance', 'visual representations'], ['alpha band', 'EEG', 'retrospective cue', 'selective attention', 'working memory'], ['decision threshold', 'divided attention', 'event-related potential', 'evidence accumulation', 'multiple-choice decision-making', 'steady-state visually evoked potential'], ['development', 'E/R flip', 'episodic memory', 'fMRI', 'lifespan', 'posteromedial cortex'], ['associative learning', 'biophysical modeling', 'electrocorticography', 'prediction', 'predictive coding'], ['amygdala', 'cognitive control', 'extinction learning', 'eye movement desensitization and reprocessing (EMDR)', 'functional MRI', 'Pavlovian fear conditioning'], ['auditory', 'binaural', 'brainstem', 'central processing disorder'], ['auditory', 'autism', 'brainstem', 'neurodevelopment', 'sensory processing', 'startle'], ['diabetes', 'inflammation', 'interferon', 'microbleeds', 'microglia', 'repair'], ['DMT1', 'dopaminergic neurons', 'iron deposition', 'motoric defects', 'nitric oxide', 'S-nitrosylation'], ['adhesion GPCR', 'BAI1', 'dendritic spines', 'Neuroligin', 'Rac1', 'synaptogenesis'], ['activity dependence', 'cholinergic interneuron', 'complement protein C1q', 'corticospinal tract', 'phagocytic microglia'], ['c-Abl', 'Eph receptors', 'PTPRJ', 'PTPRO', 'R3 RPTPs', 'topographic maps'], ['chondroitin sulfate proteoglycan', 'hippocampus', 'neurogenesis', 'enriched environment'], ['aging', 'fluoxetine', 'inhibitory neurons', 'mice', 'two-photon microscopy', 'visually evoked potential'], ['averaged evoked potential', 'consciousness', 'electrocorticography', 'high gamma', 'human auditory cortex', 'propofol'], ['auditory cortex', 'fear discrimination', 'fear generalization', 'gamma and theta activity', 'prefrontal cortex'], ['cognition', 'fMRI', 'posterior parietal cortex', 'schizophrenia', 'working memory'], ['attention', 'consciousness', 'crowding', 'fMRI', 'object recognition', 'visual cortex'], ['aging', 'fMRI', 'hippocampus', 'learning', 'memory', 'striatum'], ['addiction', 'behavior', 'electrophysiology', 'insula', 'rat', 'reward'], ['chronic pain', 'FKBP5', 'functional genetics', 'microRNA', 'post-traumatic stress', 'RNA structure'], ['acquired epilepsy', 'coincidence', 'epilepsy', 'epileptogenesis'], ['CXCL2', 'Macrophage', 'multiple sclerosis', 'Neutrophil', 'TRP channel', 'TRPM2'], ['GABA', 'hippocampus', 'inhibition', 'iPSC', 'picrotoxin', 'tonic'], ['mitochondria', 'motor neuron', 'neuropeptide', 'Nrf2/SKN-1', 'oxidative stress', 'sphingosine kinase'], ['GABA', 'glycine', 'iPSC', 'mGluR', 'MNTB', 'neuromodulation'], ['5-HT1A receptor', 'alternative splicing', 'major depression', 'RNA splice factors', 'RNA stability', 'serotonin'], ['ischemia', 'mitochondria', 'mitochondrial fission', 'neuroprotection', 'protein kinase', 'protein phosphorylation'], ['calcium channels', 'cell adhesion molecules', 'live cell imaging', 'neurexins', 'patch-clamp electrophysiology', 'synaptic transmission'], ['basal ganglia', 'dendrites', 'initial segment', 'pacemaking'], ['dendrite', 'synaptic transmission', 'synchronization'], ['frontal eye fields', 'local field potential', 'macaque', 'prefrontal cortex', 'working memory'], ['associations', 'fMRI', 'hippocampus', 'objects', 'scenes', 'space'], ['extrapolation', 'eye movements', 'latency', 'motion', 'motion-induced position shifts', 'saccades'], ['autobiographical memory', 'episodic memory', 'hippocampus', 'medulloblastoma', 'neurogenesis', 'radiotherapy'], ['cortical gain', 'fear conditioning', 'frontal cortex', 'magnetoencephalography', 'steady-state visual evoked fields', 'visual cortex'], ['14-3-3 proteins', 'aggregation', 'α-synuclein', 'dementia with Lewy bodies', 'exosome', '\"Parkinsons disease\"'], ['amputation', 'anterior cingulate cortex', 'long-term potentiation', 'mice', 'phantom pain', 'synaptic tagging'], ['Exoc7', 'exocyst', 'exocytosis', 'membrane trafficking', 'plasticity', 'synaptic growth'], ['estrogen', 'estrogen receptor alpha', 'long-term potentiation', 'LTP', 'object location memory', 'TrkB'], ['calcium imaging', 'spike deconvolution', 'spike inference'], ['calcium', 'circadian', 'light', 'neuropeptide', 'suprachiasmatic', 'vasoactive intestinal peptide'], ['CaMKII', 'conduction velocity', 'interspike interval', 'optic nerve', 'retino-geniculate synapse'], ['drift-diffusion model', 'event-related potentials', 'social decision making'], ['chemogenetics', 'DREADD', 'prefrontal', 'stereology', 'working memory'], ['belief update', 'computational modeling', 'DCM', 'optimism bias', 'value', 'vmPFC'], ['analgesia', 'biased signal transduction', 'estrogen', 'kappa opioid receptor', 'morphine', 'sex differences'], ['behavior', 'development', 'hormone', 'mast cells', 'microglia', 'sex differences'], ['autistic disorder', 'disease models', 'ion channel', 'prefrontal cortex', 'synaptic transmission', 'UBE3A'], ['GPCR', 'itch', 'nociception', 'pain', 'sphingosine 1-phosphate', 'TRP channel'], ['cortical layers', 'experience-dependent development', 'feature selectivity', 'spike synchrony', 'visual cortex', 'visual deprivation'], ['pain', 'descending inhibition', 'mu opioid receptors', 'optogenetics', 'electrophysiology'], ['auditory cortex', 'cortical implant', 'hearing', 'neuroprosthetic', 'oscillation'], ['feedback processing', 'motor control', 'motor variability', 'nonhuman primates', 'primary motor cortex', 'reaching'], ['auditory cortex', 'columnar processing', 'spectrotemporal modulations', 'tonotopy', 'ultra-high field fMRI'], ['anterograde amnesia', 'episodic', 'macaque', 'memory', 'retrograde amnesia', 'rhesus'], ['attention', 'cortical reinstatement', 'episodic memory', 'goal-directed cognition', 'memory reactivation', 'parietal cortex'], ['GABA', 'healthy aging', 'magnetic resonance spectroscopy', 'proactive inhibition', 'reactive inhibition'], ['child development', 'diffusion magnetic resonance imaging', 'language', 'LENA', 'socioeconomic status', 'turn taking'], ['aging', 'functional magnetic resonance imaging (fMRI)', 'individual differences', 'inhibitory control', 'network connectivity', 'regional activity'], ['anxiety', 'information processing', 'optimism', 'risk', 'stress', 'threat'], ['autism', 'E/I balance', 'gamma', 'magnetoencephalography', 'movement', 'young children'], ['Dravet syndrome', 'epilepsy', 'fast-spiking interneurons', 'interneurons', 'Nav1.1', 'SCN1A'], ['ion channel', 'membrane contact sites', 'neuron', 'subcellular'], ['afterdischarge', 'diacylglycerol', 'inositol trisphosphate', 'mollusk', 'neuroendocrine cell', 'voltage dependence'], ['ADMA', 'aging', 'CREB1', 'motoneuron', 'neurodegeneration', 'PRMT8'], ['development', 'excitability', 'mouse embryo', 'persistent sodium current', 'Renshaw cell', 'spontaneous network activity'], ['ASIC3', 'CSF-c neurons', 'hypothalamus', 'mechanosensor', 'pH sensor', 'somatostatin'], ['brainstem', 'CPG', 'descending control', 'locomotion', 'neonatal rat', 'spinal cord'], ['auditory processing', 'lexical access', 'MEG', 'speech'], ['beta oscillations', 'computational model', 'coxtex', 'temporal surprise'], ['amygdala', 'anxiety', 'bed nucleus of the stria terminalis', 'fMRI', 'heritability', 'rhesus monkey'], ['chromatin', 'epigenetics', 'gene expression', 'hippocampus', 'histone methylation', 'retrieval'], ['hippocampus', 'reinforcement learning', 'reward', 'spacing', 'striatum'], ['Alk', 'Drosophila', 'memory constraint', 'mushroom bodies', 'PSD-LTM'], ['ALS', 'C9orf72 dipeptide repeats', 'cell-autonomous', 'excitotoxicity', 'FTD', 'selective neurotoxicity'], ['4.1N', 'cerebellum', 'IP6K2', 'synapse'], ['LTD', 'optogenetic', 'PACAP-38', 'synaptic plasticity', 'trigeminal ganglion', 'TRPV1'], ['Arx', 'cerebral cortex', 'estrogen', 'interneuron', 'parvalbumin', 'somatostatin'], ['episodic memory', 'hippocampus', 'rate remapping', 'single unit recording', 'subiculum', 'visual scene'], ['acoustic trauma', 'cholinergic receptor', 'hearing loss', 'medial olivocochlear system', 'ribbon synapse'], ['atomoxetine', 'dopamine', 'fMRI', 'functional connectivity', 'norepinephrine', 'receptors'], ['adolescence', 'fMRI', 'longitudinal', 'motivation', 'nucleus accumbens', 'VTA'], ['alpha', 'attention', 'magnetoencephalography', 'neural oscillations', 'sensory memory', 'temporal expectations'], ['dampening', 'expectation', 'perception', 'prediction', 'scaling', 'sharpening'], ['adaptation', 'expectation', 'inferior temporal cortex', 'macaque', 'predictive coding', 'repetition suppression'], ['axon wiring', 'behavior', 'cilia', 'ciliopathies', 'olfactory bulb', 'olfactory sensory neuron'], ['axonal', 'biogenesis', 'mitochondrial', 'neurodegeneration', '\"Parkinsons disease\"', 'rotenone'], ['craving', 'DNA methyl transferase', 'epigenetic', 'psychostimulant', 'relapse', 'striatum'], ['chaperone', 'misfolding', 'neurodegeneration', 'photoreceptors', 'proteasome', 'proteostasis'], ['circuit', 'hippocampus', 'interneuron', 'prefrontal cortex', 'projection neuron', 'synapse'], ['DTI', 'GABA', 'M1', 'MRS', 'plasticity', 'tDCS'], ['cluster analysis', 'external tufted cell', 'interneuron', 'juxtaglomerular', 'olfactory bulb', 'periglomerular'], ['cerebellum', 'eyelid conditioning', 'modeling', 'Purkinje cell', 'tetrode recordings', 'trace conditioning'], ['discrimination threshold', 'grasping', 'power grip', 'sensory gating', 'sensory information', 'somatosensory cortex'], ['adaptive behavior', 'barn owl', 'behavioral bias', 'hearing', 'sensory reliability', 'sound localization'], ['bold variability', 'chronic pain', 'fMRI', 'low-frequency oscillations'], ['deep neural network', 'human', 'monkey', 'object recognition', 'vision'], ['decision-making', 'frontal cortex', 'macaque', 'metacognition', 'rule use', 'saccades'], ['aging', 'compensation', 'fMRI', 'memory', 'multivariate', 'prefrontal'], ['consolidation', 'EEG', 'long-term memory', 'sleep', 'tACS'], ['analgesics', 'axon initial segment', 'chronic pain', 'cognitive impairment', 'medial prefrontal cortex', 'metformin'], ['angiotensin II', 'AT2R', 'neuroimmune interaction', 'oxidative stress', 'pain', 'TRPA1'], ['autoimmunity', 'CNS', 'neuroinflammation', 'T cells'], ['AChRs', 'HPO-30', 'levamisole', 'neuromuscular junction'], ['endocannabinoids', 'GPCR', 'medium spiny neurons', 'NMDAR', 'RGS', 'striatum'], ['exocytosis', 'neurosecretion', 'synapse', 'synaptobrevin'], ['BDNF', 'CNS', 'neurotrophins', 'oligodendrocytes', 'remyelination', 'TrkB'], ['AMPA', 'cocaine', 'glutamate', 'reinstatement', 'self-administration', 'spiny neurons'], ['efficient coding', 'population coding', 'visual working memory'], ['associative learning', 'Bayesian modeling', 'causal reasoning', 'context', 'fMRI', 'structure learning'], ['bistable perception', 'fMRI', 'parietal cortex', 'pattern motion', 'perceptual organization', 'predictive coding'], ['decision making', 'information gathering', 'noradrenaline'], ['aging', 'auditory nerve', 'compensatory gain', 'EFR', 'hidden hearing loss', 'synaptopathy'], ['autophagy', 'E3 ubiquitin ligase', 'Hsp70', 'ischemic preconditioning', 'mitochondria', 'mitophagy'], ['attentional set shift', 'endocrine disruptor', 'mPFC', 'neuron number', 'phthalates', 'synapse number'], ['cytokeratin 14', 'neurotrophin', 'plasticity', 'taste', 'terminal field', 'ubiquitin'], ['CHRM3', 'demyelination', 'human', 'lentivirus', 'remyelination', 'transplantation'], ['dopamine', 'motivation', 'nucleus accumbens', 'reward', 'voltammetry'], ['acetylcholine', 'chrna5', 'habenula', 'interpeduncular nucleus', 'nicotine', 'optogenetics'], ['behavior', 'binocularity', 'giant neurons', 'in vivo', 'intracellular recording', 'insect vision', 'optic neuropils'], ['binaural hearing', 'cochlear implant', 'inferior colliculus', 'interaural time difference', 'lateral lemniscus', 'temporal processing'], ['audio', 'loudness', 'neural coding', 'perception', 'spike precision', 'timbre'], ['basolateral amygdala', 'connectivity', 'disinhibition', 'GABA', 'interneurons', 'synapse'], ['grid cells', 'linear track', 'medial entorhinal cortex', 'remapping', 'spatial navigation'], ['adult neurogenesis', 'hippocampus', 'learning and memory', 'memory capacity', 'synaptic plasticity'], ['expectation', 'hippocampal subfields', 'perceptual inference', 'predictive coding', 'shape perception'], ['aging', 'degeneration', 'neuroepithelium', 'olfactory', 'stem'], ['dorsal horn', 'LTP', 'nociception', 'pain', 'spinal cord', 'synapse'], ['16p11', 'autism', 'cortical development', 'ERK MAP kinases', 'neurodevelopment'], ['LAR-RPTPs', 'presynaptic assembly', 'protein–protein interaction', 'PTPσ', 'synaptic adhesion molecule'], ['brain', 'galectin-3', 'M2 macrophage', 'neurocysticercosis', 'neuroinflammation', 'neutrophil turnover'], ['attention', 'avian', 'figure-ground segregation', 'optic tectum', 'superior colliculus', 'visual search'], ['CA1 radial axis', 'landmark', 'medial septum', 'path-integration', 'place cells', 'treadmill'], ['cerebellum', 'CRF', 'CRFR1', 'eyeblink conditioning', 'granule cells'], ['absence epilepsy', 'channelopathy', 'HCN channels', 'thalamocortical rhythms', 'thalamus'], ['\"Alzheimers disease\"', 'apolipoprotein E', 'energy metabolism', 'glucose', 'glycolysis', 'ketone body'], ['\"Alzheimers disease\"', 'amyloid plaques', 'aspirin', 'lysosomal biogenesis', 'PPARα', 'TFEB'], ['adoptive transfer', 'cerebral ischemia', 'lipopolysaccharide', 'monocytes', 'neuroprotection'], ['ADHD', 'fMRI', 'goal-directed behavior', 'motivation', 'orbitofrontal cortex', 'reward'], ['FOXM1', 'Frizzled-1', 'MCAO', 'PIWI1a', 'stroke', 'wnt3a'], ['adult neurogenesis', 'dentate gyrus', 'G protein', 'GABA', 'B', 'GABAergic', 'interneuron'], ['complement', 'rehabilitation', 'thrombolysis'], ['competing endogenous RNA', 'long noncoding RNA', 'migration', 'peripheral nerve injury', 'Schwann cell'], ['axon–glia interaction', 'electron microscopy', 'myelin', 'oligodendrocyte', 'radial sorting', 'Schwann cell'], ['auditory processing', 'dendritic maturation', 'endbulb synapse', 'fragile X mental retardation protein', 'trans-synaptic regulation'], ['excitability', 'neuromodulation', 'priming', 'task-switch'], ['basal ganglia', 'cerebellum', 'motor thalamus', 'movement initiation', 'movement vigor', 'Parkinson disease'], ['expectation', 'human fMRI', 'pain', 'predictive coding', 'somatosensory perception'], ['aggression', 'moral judgment', 'prefrontal', 'transcranial direct current stimulation', 'violence'], ['myelin regulatory factor gene', 'NanoSIMS', 'oligodendrocyte precursor cell', 'oligodendroglia', 'oxidative stress', 'proliferation and differentiation'], ['metabolism', 'myelin', 'NAD', '+', 'NAMPT', 'peripheral neuropathy', 'Schwann cell'], ['addiction', 'basal ganglia', 'dorsolateral striatum', 'dopamine', 'electrophysiology', 'nAChR'], ['axonal health', 'motor coordination', 'myelination', 'nerve conduction', 'nodal restoration', 'nodes of Ranvier'], ['behavior', 'C. elegans', 'calcium', 'circuit', 'developmental biology', 'serotonin'], ['autonomic nervous system', 'gabapentin', 'gabapentinoids', 'presynaptic NMDA receptor synapse', 'synaptic plasticity'], ['arm/hand coordination', 'middle cerebral artery stroke', 'motor recovery', 'pyramidal tract', 'reticulospinal tract', 'sensorimotor cortex injury'], ['GABA', 'GnRH', 'hypothalamus', 'kisspeptin', 'optogenetics'], ['amygdala', 'brain circuits', 'emotion', 'optogenetics', 'pain'], ['area LIP', 'decision making', 'motion perception', 'persistent activity', 'saccadic eye movements'], ['histamine', 'noradrenaline', 'orexin', 'sleep', 'tracing', 'wakefulness'], ['head direction', 'hippocampus', 'interneurons', 'optogenetics', 'patch clamp', 'postsubiculum'], ['binding', 'hippocampus', 'memory', 'oscillations', 'STDP', 'theta'], ['confidence', 'episodic memory', 'metacognition', 'precuneus', 'TMS', 'visual perception'], ['cognitive control', 'connectomics', 'diffusion imaging', 'neural networks', 'neuroimaging', 'TMS'], ['ischemia', 'Miro-2', 'mitochondria', 'nitric oxide synthase', 'oxidative stress', 'white matter'], ['myelin', 'node of Ranvier', 'paranode', 'spectrin'], ['chemotherapy', 'DNA methylation', 'dorsal root ganglion', 'neuropathic pain', 'neuroepigenetics'], ['ATF4', 'Cdc42', 'GABA', 'B', 'receptors', 'GIRK channels', 'neuronal excitability'], ['calcium imaging', 'CaM kinase', 'chemotaxis', 'learning', 'salt-seeking'], ['chondroitin sulfate proteoglycan', 'deep cerebellar nuclei', 'eyeblink conditioning', 'GABAergic transmission', 'motor learning', 'perineuronal net'], ['Ca', '2+', 'channel', 'photoreceptor', 'retina', 'ribbon synapse', 'synaptogenesis'], ['behavior', 'circadian', 'Drosophila', 'photoreception'], ['barrel cortex', 'compensatory plasticity', 'crossmodal', 'somatosensation', 'vibrissae', 'vision loss'], ['clustering', 'lesion', 'recovery', 'reticular formation', 'spikes'], ['acetylcholine', 'learning', 'memory', 'oscillation', 'silicon probes', 'θ'], ['deep neural networks', 'plasticity', 'visual hierarchy', 'visual perceptual learning'], ['fMRI', 'misperception', 'predictive coding', 'prior expectations', 'representational similarity analysis', 'speech perception'], ['conditional transgenic', 'doxycycline transducer toxicity', 'frontotemporal dementia', 'frontotemporal lobar degeneration', 'TDP-43 toxicity'], ['adolescence', 'alcohol', 'I', 'H', 'prefrontal cortex', 'working memory'], ['dentate gyrus', 'neurogenesis', 'pattern separation', 'retroviral labeling', 'synapse formation', 'tetanus toxin'], ['excitatory synaptic function', 'GABAergic neurons', 'inhibitory synapses', 'Lrfn2', 'NMDA receptor', 'social communication'], ['calcium regulation of release', 'spontaneous neurotransmission', 'synaptic vesicle fusion'], ['autophagy', 'oligodendrocytes', 'spinal cord injury'], ['\"Alzheimers disease\"', 'hippocampus', 'microglia', 'neurogenesis', 'retromer', 'VPS35'], ['axonal growth', 'NADPH oxidases', 'neuronal development', 'reactive oxygen species', 'retinal ganglion cell', 'zebrafish'], ['extracellular matrix', 'mitotic spindle', 'neurogenesis', 'retinal development'], ['h-current', 'LFP', 'neuron', 'population', 'power spectrum'], ['ΔFosB', 'aggression', 'cell-type specific', 'motivation', 'nucleus accumbens'], ['bird song', 'learned movement sequences', 'premotor', 'preparatory activity', 'zebra finch'], ['cross-modal', 'fMRI', 'modality-independent representation', 'multivoxel pattern analysis', 'PFC', 'scene perception'], ['16p11.2 deletion', 'autism spectrum disorder', 'DREADD', 'NMDA', 'prefrontal cortex'], ['biomaterial', 'contusion', 'diaphragm', 'phrenic motor neuron', 'respiratory', 'spinal cord injury'], ['calcium-activated potassium channel', 'calcium-induced calcium release', 'efferent inhibition', 'L-type calcium channel', 'ribbon synapse', 'synaptic cistern'], ['astrocyte', 'contextual learning', 'endocytosis', 'ephrin-B1', 'hippocampus', 'synapse'], ['hippocampus', 'LTP', 'memory', 'PFC', 'synaptic plasticity', 'working memory'], ['dark rearing', 'metaplasticity', 'NMDA receptor', 'NOX2', 'ROS', 'visual cortex'], ['CPG', 'interneuron', 'locomotion'], ['basal ganglia', 'interneuron', 'interneuron-selective', 'network', 'optogenetic', 'striatum'], ['auditory nerve', 'noisy environments', 'rate coding', 'temporal coding'], ['grasping', 'motor', 'parietal', 'population analysis', 'premotor', 'primate'], ['anatomical connectivity', 'connectomics', 'gene expression', 'resting state functional connectivity MRI'], ['channelrhodopsin', 'nociceptor', 'pain', 'visceral'], ['approach–avoidance', 'frontal pole', 'MEG', 'phase-amplitude coupling', 'social–emotional control', 'theta-band oscillations'], ['cognitive regulation success', 'dietary self-control', 'dlPFC', 'valuation', 'vmPFC', 'voxel-based morphometry'], ['aging', 'differentiation', 'gray matter', 'SEM trees', 'structural equation modeling', 'white matter'], ['brain edema', 'hyperthermia', 'ischemia', 'TRPV4'], ['archaerhodopsin', 'incision', 'inflammation', 'mechanotransduction', 'nerve injury', 'nociceptor'], ['ALS', 'axon degeneration', 'microfluidic chambers', 'miRNA', 'NMJ', 'Sema3A'], ['capacitance', 'cochlear amplification', 'electromotility', 'membrane proteins', 'outer hair cell', 'sensor charge'], ['AMPAR receptor', 'endocytosis', 'exocytosis', 'hippocampus', 'imaging', 'long-term depression'], ['BDNF', 'nerve growth factor', 'neurotrophin-3', 'p75NTR'], ['calcium channel', 'calcium signaling', 'circuit development', 'radial migration', 'spontaneous activity'], ['animal communication', 'chirp', 'natural stimulus statistics', 'sexual dimorphism'], ['electroencephalography', 'entrainment', 'neural synchronization', 'stimulus statistics', 'sustained activity', 'temporal regularity'], ['colon', 'colonic migrating motor complex', 'enteric nervous system', 'gastrointestinal tract', 'myenteric plexus', 'pacemaker cell'], ['C fibers', 'electrocorticography (ECoG)', 'electroencephalography (EEG)', 'multispecies investigations', 'pain', 'primary somatosensory cortex (S1)'], ['deep-brain stimulation', 'microelectrode recording', 'single neuron', 'speech', 'subthalamic nucleus'], ['cognitive control', 'decision-making', 'electroencephalography (EEG)', 'expectation', 'sensory modulation'], ['anxiety', 'BNST', 'central amygdala', 'dynorphin', 'ErbB4', 'stress'], ['fever', 'hypothalamus', 'Macrophage', 'OATP2A1', 'prostaglandin E', '2', 'transporter'], ['carbamazepine', 'inactivation', 'pharmacoresistance', 'polyamines', 'sodium channels', 'spermine'], ['choroid plexus', 'forebrain', 'interneuron', 'neural progenitor', 'oligodendrocyte', 'Sonic hedgehog'], ['enriched environment', 'retinoic acid signaling', 'sensory deprivation', 'sensory discrimination', 'somatosensory cortex'], ['dendritic spine', 'deubiquitinating enzyme', 'SHANK1', 'SHANK3', 'ubiquitination', 'USP8'], ['dopamine', 'dopamine D', '2', 'autoreceptor', 'dopamine transporter', 'neuropsychiatric disorders'], ['C. elegans', 'calcium sensor', 'evoked release', 'neuromuscular junction', 'tonic release', 'synaptotagmin'], ['GLT-1', 'glutamate', 'iGluSnFR', 'optogenetics', 'transporter'], ['axon regeneration', 'cathepsin B', 'CSPG', 'DRG', 'protease', 'RPTPσ'], ['ARMS/Kidins220', 'BDNF', '\"Huntingtons disease\"', 'secretion', 'Synaptotagmin IV'], ['cochlea', 'cristae', 'development', 'genetics', 'inner ear', 'semicircular canals'], ['central pattern generator', 'evolution', 'motor circuit', 'parabrachial area', 'vocal communication', 'Xenopus'], ['acetylcholine', 'interneuron', 'muscarinic', 'neocortex', 'nicotinic', 'synaptic'], ['CCEPs', 'corticocortical-evoked potentials', 'electrical stimulation', 'electrocorticography', 'neuromodulation', 'plasticity'], ['distraction', 'sensory recruitment', 'visual working memory'], ['entopeduncular nucleus', 'glucocorticoid', 'lateral habenula', 'self-injurious behavior', 'stress', 'ventral tegmental area'], ['DNA methylation', 'epigenetics', 'MECP2', 'microglia', 'miR-124', 'neuroinflammation'], ['3D genome architecture', 'cortical plasticity', 'CTCF', 'remote memory', 'systems consolidation'], ['differentiation', 'myelin', 'oligodendrocyte', 'oligodendrocyte progenitor cell', 'RRas'], ['conditional bistability', 'flexible', 'generic', 'memory', 'robust', 'working memory'], ['IGF1', 'Pappaa', 'photoreceptor', 'synapse', 'visual behavior', 'zebrafish'], ['circadian rhythmicity', 'obesity', 'stomach', 'time-restricted feeding', 'vagal afferents'], ['connectivity', 'excitatory and inhibitory neurons', 'hippocampus', 'synapse', 'mGRASP'], ['excitation–inhibition balance', 'burst coding', 'feedforward inhibition', 'Purkinje cell', 'short-term dynamics'], ['AAV', 'arousal', 'diphtheria', 'DREADD', 'EEG', 'optogenetic'], ['confidence', 'dlPFC', 'metacognition', 'perceptual decision making', 'prefrontal cortex', 'TMS'], ['control aversion', 'decision making', 'fMRI', 'freedom', 'social cognition'], ['cortical spreading depression', 'hypoperfusion', 'hypoxia', 'migraine', 'primary afferent', 'trigeminal'], ['anxiety endophenotypes', 'fMRI', 'GABA/glutamate', 'harm avoidance', 'sex differences'], ['auditory cueing', 'beta modulation', 'freezing of gait', '\"Parkinsons disease\"', 'stepping-related STN activity'], ['b-hydroxybutyrate', 'ketogenic diet', 'neural-glial interaction', 'optic nerve'], ['addiction', 'context', 'emotion', 'fMRI', 'opiates', 'psychostimulants'], ['astrocyte', 'chromatin', 'CTCF', 'dopamine', 'PARP1', 'RNA sequencing'], ['acetylcholine', 'nicotinic receptors', 'NS9283', 'Renshaw cell', 'stoichiometry', 'zinc'], ['axon', 'palladin', 'ribosome', 'translation'], ['adult neurogenesis', 'canonical', 'chemical senses', 'notch signaling', 'Notch1', 'RBPJ'], ['frontal cortex', 'memory scanning', 'monkey', 'serial order', 'single-unit activity', 'working memory'], ['accessory olfactory bulb', 'decoding', 'temporal coding', 'vomeronasal system'], ['computational modeling', 'population coding', 'saccadic eye movements', 'visual working memory'], ['barreloids', 'choice history', 'rat', 'reward history', 'tactile system', 'VPm thalamus'], ['cognitive antecedents', 'dynamic causal modeling', 'fMRI', 'gratitude', 'integration', 'reciprocity'], ['auditory cortex', 'fMRI', 'predictions', 'predictive processing'], ['auditory cortex', 'auditory scene analysis', 'fMRI', 'multivariate pattern analysis', 'spatial cognition'], ['fMRI', 'intraparietal suclus', 'MVPA', 'navigation', 'representational similarity analysis', 'spatial directions'], ['Bayesian brain theory', 'hippocampus', 'orbitofrontal cortex', 'predictive coding', 'sensory predictions', 'visual perception'], ['artemin', 'bone pain', 'GDNF', 'neurturin', 'pain', 'skeletal pain'], ['axon', 'MCU', 'mitochondria', 'transport'], ['cilium', 'Cx3cr1', 'fractalkine', 'microglia', 'photoreceptor', 'retina'], ['cerebellins', 'neurexins', 'synapse formation', 'synapse specification', 'synaptic organizers'], ['canonical TGF-β signaling', 'CRMP2', 'neurodevelopmental diseases', 'neuronal morphogenesis', 'TGIF'], ['circuit mapping', 'mouse', 'mPFC', 'nerve injury', 'neuropathic pain', 'PAG'], ['feedforward inhibition', 'homeostasis', 'intrinsic excitability', 'plasticity', 'PV neuron', 'sensory cortex'], ['birth defects', 'calcium dynamics', 'epilepsy', 'glutamate signaling', 'neural plate', 'valproic acid'], ['differentiation', 'injury', 'mTOR', 'myelination', 'nerve', 'Schwann cells'], ['associative learning', 'calcium imaging', 'fear conditioning', 'generalization', 'olfactory bulb', 'sensory processing'], ['flp-18', 'npr-1', 'npr-4', 'reversal length'], ['axon guidance', 'brain morphometry', 'diffusion MRI', 'genetics', 'nicotine', 'personality'], ['backward and forward walking', 'c-Fos', 'decerebrate cat', 'locomotor networks'], ['anticipatory motor control', 'feedforward motor control', 'sensorimotor memories', 'representational similarity analyses', 'dexterous object manipulation'], ['human', 'ignoring paradox', 'magnetoencephalography', 'visual attention', 'visual search'], ['electrophysiology', 'external globus pallidus', '\"Huntingtons disease\"', 'optogenetics', 'substantia nigra', 'synaptic activity'], ['LTD', 'metabotropic', 'NR2A', 'NR2B', 'signaling', 'synaptic plasticity'], ['\"Alzheimers disease\"', 'cognition', 'histone acetylation', 'neuroepigenetics', 'neuroplasticity genes', 'Tip60'], ['activity-dependent refinement', 'receptive field', 'thalamus'], ['adhesion', 'neuronal migration', 'olfactory bulb', 'rostral migratory stream'], ['CRF', 'HCN1', 'lentivirus', 'neuropeptide Y', 'shRNA', 'social interaction'], ['approach', 'avoidance', 'extinction', 'prefrontal', 'reward', 'single neuron'], ['brain stimulation', 'entorhinal cortex', 'episodic memory', 'hippocampus', 'medial temporal lobe', 'spatiotemporal memory'], ['corticostriatal', 'corticothalamic', 'mouse optogenetics', 'prefrontal cortex', 'probabilistic reversal task', 'pyramidal neuron'], ['adaptation', 'agency', 'credit assignment', 'decision making', 'reinforcement', 'reward'], ['dopamine', 'fear memory', 'opioids', 'prefrontal cortex', 'PTSD', 'ventral tegmental area'], ['aging', 'amyloid', 'memory', 'PET', 'preclinical', 'tau'], ['basal ganglia thalamocortical network', 'beta oscillations', 'dystonia', 'electrocorticography', 'local field potential', 'synchronization'], ['aging', 'biopsies', 'degeneration', 'Macrophage', 'peripheral nerve', 'peripheral neuropathy'], ['barrier dysfunction', 'barrier leakage', 'blood-brain barrier', 'cPLA', '2', 'MMP'], ['calcium channels', 'calcium sensor proteins', 'calmodulin', 'excitation/inhibitions', 'neuro circuit', 'synaptic plasticity'], ['auditory neurons', 'courtship song', 'Drosophila melanogaster', 'feedforward inhibition', 'neural circuit'], ['area MT', 'electrophysiology', 'monkey', 'motion detection', 'neural correlations', 'visual cortex'], ['infant', 'near-infrared spectroscopy', 'temporal lobe', 'temporal parietal junction', 'theory of mind'], ['cocaine', 'excitatory synapse', 'homeostatic plasticity', 'incubation', 'membrane excitability', 'nucleus accumbens'], ['EEG', 'Granger causality', 'inhibitory control', 'machine learning', 'neuronal oscillations', 'theta', 'alpha'], ['attentional control', 'information storage', 'memory load', 'occipital cortex', 'parietal cortex', 'visual working memory'], ['EMG', 'human', 'inhibition', 'reaching', 'voluntary control'], ['cognitive flexibility', 'loss seeking', 'probability distortion', 'reflection effect', 'risk'], ['ageing', 'alpha oscillation', 'inhibition', 'tACS', 'working memory'], ['grasping', 'hidden Markov models', 'manipulation', 'neural trajectory', 'principal component analysis', 'reaching'], ['Charcot–Marie–Tooth', 'Id2', 'myelin', 'Schwann cell', 'Sox2', 'UPR'], ['\"Alzheimers disease\"', 'APP', 'BACE1', 'excitotoxicity', 'HIV-associated neurocognitive disorders', 'NMDA'], ['autism', 'cell type', 'excitatory', 'inhibitory', 'Shank2', 'synapse'], ['compartmentalization', 'dendritic spine', 'gene expression', 'NF-kappaB', 'synaptic plasticity', 'transcription'], ['aging', 'collagen XIII', 'neuromuscular junction', 'peripheral nerve injury', 'recovery', 'regeneration'], ['cutaneous', 'interlimb coordination', 'locomotion', 'reflexes'], ['cochlear nucleus', 'envelope', 'frequency modulation', 'phase locking', 'temporal fine structure'], ['adaptation', 'cochlear implant', 'envelope', 'medial olivocochlear reflex', 'olivocochlear efferents', 'temporal fine structure'], ['motor planning', 'premotor cortex', 'preparatory activity', 'short-term memory'], ['afterhyperpolarization', 'cocaine', 'dopamine', 'Kv7 ion channels', 'prefrontal cortex', 'spike-frequency adaptation'], ['aggression', 'hypothalamus', 'optogenetics', 'prefrontal cortex', 'rats', 'social behavior'], ['interval timing', 'long-term synaptic properties', 'recurrent neural network', 'spontaneous activity'], ['contiguity effect', 'episodic memory', 'recollection'], ['default mode network', 'dorsal attention network', 'dynamic functional connectivity', 'electrocorticography', 'resting-state fMRI'], ['autonomic dysreflexia', 'plasticity', 'soluble TNFα', 'spinal cord injury'], [], ['endocannabinoid', 'kainate receptor', 'short-term plasticity', 'spiny projection neuron', 'striatum'], ['α9α10 nAChR', 'cochlea', 'efferent inhibition', 'hair cells', 'synaptic plasticity'], ['HIPK2', 'JNK', 'NMDA receptor', 'subunit', 'survival', 'transcription'], ['Ca channel', 'EGTA', 'presynaptic terminal', 'synaptic vesicle', 'transmitter release'], ['ependymal cell', 'fractone', 'laminin', 'neural stem cell', 'stem cell niche', 'subventricular zone'], ['autism spectrum disorder', 'glutamate receptors', 'ocular dominance plasticity', 'signaling molecules', 'synapse development', 'visual cortex'], ['Golgi tendon organ', 'H-reflex', 'Ib pathways', 'spinal circuitry', 'spinal cord'], ['blindsight', 'lesion', 'LGN', 'marmoset', 'plasticity', 'primate'], ['auditory cortex', 'deafness', 'efferent', 'multisensory', 'plasticity', 'superior colliculus'], ['192 IgG-saporin', 'acetylcholine', 'attention', 'frontoparietal', 'olfactory', 'visual'], ['Bayesian inference', 'computational modeling', 'EEG', 'precision-weighted prediction error', 'visual MMN'], ['aging', 'mice', 'neocortex', 'sleep'], ['axonopathy', 'NMNAT2-SARM1', 'CLARITY', 'corticospinal tract', 'traumatic brain injury', '2-photon microscopy'], ['fear', 'JIP1', 'JNK', 'LTP', 'memory', 'plasticity'], ['Kv channel', 'pain transduction', 'spinal cord', 'synaptic transmission'], ['auditory transduction', 'chordotonal organ', 'desert locust', 'hearing', 'mechanotransduction ion channel', 'receptor current'], ['interneuron', 'myelination', 'parvalbumin', 'plasticity', 'axon'], ['astrocyte heterogeneity', 'bone morphogenetic protein', 'brain injury', 'cerebrovascular disease', 'gliogenesis', 'HtrA1'], ['food intake', 'fuel utilization', 'heat dissipation', 'obesity', 'thermoregulation', 'TRPM8'], ['bilateral', 'haptic', 'information processing', 'neocortex', 'neuron', 'neurophysiology'], ['fMRI', 'grasping', 'macaque', 'motor', 'somatosensory', 'touch'], ['amacrine cell', 'corticotropin-releasing hormone', 'GABA', 'mouse retina', 'optogenetics', 'retinal ganglion cell'], ['anterior cingulate cortex', 'B5-I neurons', 'brain neural circuit', 'dorsal medial striatum', 'itch'], ['color vision', 'drift diffusion', 'fMRI', 'object imagery', 'pattern classification', 'reaction times'], ['associative inference', 'lesion', 'memory integration', 'memory systems', 'ventromedial prefrontal cortex', 'vmPFC'], ['attention', 'EDAN/ADAN/LDAP', 'ERPs', 'P1/N1', 'P300', 'spatial neglect'], ['AMPA receptors', 'long-term potentiation', 'NMDA receptors', 'post-traumatic stress disorder', 'protein degradation', 'reconsolidation'], ['brain rhythms', 'centrality', 'functional connectivity', 'magnetoencephalography', 'natural stimulation', 'resting-state networks'], ['aphakia', 'l', '-DOPA', 'dyskinesia', '\"Parkinsons disease\"', 'striatum'], ['acetylation', 'dementia', 'Sirt1', 'tau', 'tau spread'], ['awake recordings', 'electrophysiology', 'epilepsy', 'high-frequency oscillations', 'interictal epileptic discharges', 'large-scale networks'], [], [], ['NGF', 'nociception', 'p75', 'sensory neuron', 'TrkA', 'trophic'], ['blood–brain barriers', 'brain homeostasis', 'glutathione', 'S', '-transferases', 'neuroprotection', 'oxidative stress', 'perinatal'], ['\"Alzheimers disease\"', 'BACE1', 'hippocampal mossy fibers', 'Kv3', 'synapse', 'trafficking'], ['BK channels', 'CRBN', 'intellectual disability', 'neurotransmitter release', 'presynaptic'], ['computational model', 'cortex', 'crossmodal', 'maturation', 'plasticity', 'superior colliculus'], ['complexity', 'development', 'fMRI', 'multiecho', 'resting state'], ['cones', 'ion channels', 'potassium channels', 'retina', 'rods'], ['area V4', 'information routing', 'monkey', 'neural network model', 'selective attention'], ['choice probability', 'macaque', 'perceptual decision-making', 'sequential dependence', 'V2'], ['cerebellum', 'computation', 'motion estimation', 'reference frame', 'vestibular'], ['oscillations', 'computational modeling', 'episodic memory', 'theta', 'alpha', 'EEG'], ['conditioned cues', 'fos', 'medial prefrontal cortex', 'neuronal ensembles', 'reinstatement', 'reward-seeking behavior'], ['confidence', 'fMRI', 'memory', 'metacognition', 'MVPA', 'perception'], ['accumbens', 'basal ganglia', 'electrophysiology', 'feeding', 'reward', 'striatum'], ['eye-tracking', 'hallucinogens', 'joint attention', 'psychedelics', 'serotonin', 'social cognition'], ['cerebral hypoperfusion', 'cognitive impairment', 'cytokine', 'microglia', 'TRPM2', 'white matter injury'], ['asynchronous release', 'calcium', 'facilitation', 'short-term plasticity'], ['acetylcholine', 'nucleus reuniens', 'object-in-place', 'protein synthesis', 'recognition memory'], ['cortical physiology', 'head direction cell', 'in vivo', 'electrophysiology', 'single-cell stimulation', 'spatial navigation'], ['in situ', 'hybridization', 'inferior colliculus', 'rabies virus', 'transgenic mice'], ['fear conditioning', 'forgetting', 'hippocampus', 'memory', 'neurogenesis'], ['ERK1/2', 'extinction', 'limbo', 'NMDAR', 'reconsolidation'], ['auditory cortex', 'fMRI', 'plasticity', 'sound elevation', 'spatial hearing'], ['boundary', 'cognitive map', 'human subiculum', 'intracranial EEG', 'navigation', 'theta oscillations'], ['category', 'RSA', 'semantic relation', 'semantics', 'taxonomic', 'thematic'], ['aging', 'contextual interference', 'default mode network', 'fMRI', 'motor skill learning'], ['cone–rod dystrophy', 'outer segment disc', 'photoreceptor', 'retinal degeneration', 'retinitis pigmentosa'], ['ARHL', 'hearing', 'lysosome', 'mucolipin', 'presbycusis', 'TRPML'], ['autoimmune', 'glutamate', 'NMDA receptor', 'schizophrenia'], ['dopamine', 'impulse control disorder', 'impulsive compulsive behaviors', 'mesocorticolimbic', '\"Parkinsons disease\"', 'positron emission tomography'], ['cellular specificity', '\"Huntingtons disease\"', 'medium spiny neuron', 'pgc-1alpha', 'striatum', 'transcription'], ['ADLTE', 'celecoxib', 'Cox2', 'epilepsy', 'Kv1.2'], ['autism', 'model', 'neural circuits', 'optogenetics', 'synaptic plasticity'], [], [], ['Caenorhabditis elegans', 'mechanosensation', 'mechanosensitive ion channels', 'neurostimulation', 'thermosensation', 'ultrasound'], ['activity-dependent development', 'auditory', 'hearing loss', 'Kv1.1', 'tonotopy'], ['dendritic spines', 'hippocampus', 'influenza', 'microglia', 'neuroinflammation', 'structural plasticity'], ['cortex', 'human', 'layer', 'memory', 'spindle'], ['gamma oscillations', 'hippocampus', 'long-range synchronization', 'nucleus reuniens', 'prefrontal cortex', 'slow oscillations'], ['A-current', 'breathing', 'dendrites', 'potassium channels', 'preBötzinger', 'respiratory neurons'], ['arousal', 'gain control', 'locomotion', 'murine models', 'SSVEP'], ['basket cells', 'CA1', 'fast gamma', 'memory consolidation', 'network oscillations', 'sharp wave/ripple complexes'], ['compensation', 'computational modeling', 'neuroimaging', 'oxytocin', 'punishment', 'social norms'], ['electrocorticography', 'sensorimotor cortex', 'speech motor control', 'speech production', 'vowels'], ['β series', 'bold variability', 'event-related fMRI', 'individual differences', 'reading disability', 'trial-by-trial variability'], ['amygdala', 'conditioning', 'fear', 'salience'], ['alpha', 'attention', 'neural oscillations', 'perception', 'phase', 'theta'], ['cued recall', 'short-term memory', 'visual crowding', 'visual working memory'], ['cell transplantation', 'MERTK', 'Müller glia', 'retinal degeneration', 'synapse formation', 'thrombospondins'], ['calcium', 'cGMP', 'guanylyl cyclase', 'photoreceptors', 'phototransduction', 'retinal degeneration'], ['anterior cingulate cortex', 'anxiety', 'depression', 'electrophysiology', 'neuropathic pain', 'optogenetics'], [], [], ['action potential', 'afterdischarge', 'gap junction', 'junctional current', 'neuroendocrine cell', 'persistent Ca', '2+', 'current'], ['AKAP150', 'Ca', '2+', '-permeable AMPA receptor', 'calcineurin', 'homeostatic plasticity', 'LTP', 'PKA'], ['apoptosis', 'dendrite', 'neurite development', 'protocadherin', 'retina', 'self-avoidance'], ['bushy cells', 'multisensory', 'sound coding', 'temporal coding', 'ventral cochlear nucleus'], ['cognition', 'maternal C-reactive protein', 'maternal immune activation', 'maternal interleukin 6', 'neonatal functional connectivity', 'salience network'], ['development', 'divisive normalization', 'nature', 'nurture', 'sensory cortex', 'vision'], ['area V1', 'EEG', 'gamma', 'LFP', 'oscillation', 'rhythm'], ['audiovisual', 'cortical', 'cross-modal', 'laminar', 'multisensory', 'sensory'], ['channelrhodopsin', 'cued-response', 'hippocampus', 'memory', 'optogenetics', 'theta frequency'], ['amnesia', 'episodic', 'hippocampus', 'mental time travel', 'mind-wandering', 'scenes'], ['episodic memory', 'event memory', 'hippocampus', 'MVPA', 'spatial context'], ['fear conditioning', 'fMRI', 'generalization', 'learning', 'visual system'], ['AMPK', 'cereblon', 'excitatory', 'glutamatergic', 'intellectual disability', 'mTOR'], ['aging', 'cognition', 'default mode network', 'episodic memory', 'functional MRI', 'neuroimaging'], ['auditory streaming', 'intention', 'MEG', 'multivariate classification', 'perceptual organization', 'stream segregation'], ['depression', 'discrimination', 'distress', 'election', 'fMRI', 'nucleus accumbens'], ['Angelman syndrome', 'excitability', 'extinction', 'prefrontal cortex', 'UBE3A'], ['cocaine', 'eIF2α', 'incubation', 'mTOR', 'NAc', 'protein translation'], ['cys-loop receptors', 'desensitization', 'glycine receptor', 'hyperekplexia'], [], ['astrocyte', 'basal forebrain', 'confocal microscopy', 'lateral hypothalamus', 'patch-clamp recording', 'synaptic plasticity'], ['axo–axonic', 'axo–somatic', 'ErbB4', 'GABA', 'inhibition', 'parvalbumin'], ['auditory glia', 'dysmyelination', 'glial dysfunction', 'noise exposure', 'Quaking', 'sensorineural hearing loss'], ['antagonist', 'LOTUS', 'Nogo receptor', 'regeneration'], ['entorhinal cortex', 'grid cell', 'medial temporal lobe', 'memory', 'primate', 'reference frame'], ['dynamic networks', 'functional connectivity', 'learning and memory', 'reinforcement learning', 'striatum'], ['fMRI', 'opioids', 'pain', 'remifentanil'], ['alpha band', 'beta band', 'gamma band', 'lateral prefrontal cortex', 'local field potential', 'NMDA antagonist'], ['adaptation', 'choice history bias', 'confidence', 'perceptual decision-making'], ['adolescence', 'delay discounting', 'development', 'impulsivity', 'networks', 'neuroimaging'], ['attention', 'cognitive control', 'decoding', 'parietal cortex', 'prefrontal cortex', 'resting-state networks'], ['cognitive flexibility', 'decision making', 'evoked response potential', 'mediodorsal thalamus', 'prefrontal cortex'], ['curiosity', 'information prediction error', 'insula', 'outcome uncertainty', 'parietal cortex', 'reward'], ['category learning', 'functional MRI', 'hippocampus', 'long-term memory'], ['avoidance learning', 'cognitive demand', 'decision making', 'mental effort', 'model-based fMRI', 'reinforcement learning'], ['chronic injury', 'complement', 'inflammation', 'therapy'], ['CASP', 'COPI', 'motor neuron', 'SCYL1', 'SCYL3', 'TDP-43'], ['BDNF', 'homeostatic synaptic plasticity', 'long-term potentiation', 'mTOR', 'phosphatidic acid', 'phospholipase D'], ['calcium', 'endoplasmic reticulum', 'fentanyl', 'hyperalgesia', 'hyperalgesic priming', 'μ-opioid receptor (MOR)'], ['Ascl1', 'Lin28', 'Müller glia', 'Notch', 'regeneration', 'retina'], ['astrocyte', 'lineage', 'NG2', 'Olig2', 'oligodendrocyte', 'Sox10'], ['coding', 'in vivo', 'optogenetics', 'patch clamp', 'sniffing'], ['anterior intralaminar nuclei of thalamus', 'dorsomedial striatum', 'glutamate', 'methamphetamine', 'relapse', 'retrograde tracing'], ['GABA', 'GnRH', 'gramicidin', 'PCOS', 'PNA'], ['population receptive field modeling', 'retinotopy', 'visual cortex'], ['anesthesia', 'consciousness', 'fMRI', 'functional connectivity', 'propofol', 'temporal receptive window'], ['repeated social defeat', 'corticosterone', 'HPA axis', 'inflammation', 'monocytes'], ['action', 'EEG', 'expectancy', 'force', 'saliency', 'sensorimotor integration'], ['5-HT2C', 'DA', 'fast scan cyclic voltammetry', 'goal-directed behavior', 'in vivo', 'microdialysis', 'striatum'], ['CPP', 'decision making', 'EEG', 'fixational eye movements', 'microsaccades', 'saccades'], ['acetylcholine', 'choline acetyltransferase', 'Cre recombinase', 'intravenous nicotine self-administration', 'mice', 'transgenic'], ['anxiety', 'conformity', 'decision', 'fMRI', 'pain', 'reputation'], ['attentional blink', 'consciousness', 'electroencephalography', 'expectation', 'visual perception'], ['cathepsin D', 'frontotemporal dementia', 'gene therapy', 'lysosome', 'neuronal ceroid lipofuscinosis', 'progranulin'], ['context fear discrimination', 'dendritic shortening', 'loss of hippocampal newborn neurons', 'memory impairment', 'traumatic brain injury'], ['demyelination', 'live imaging', 'macrophages', 'microglia'], ['Caenorhabditis elegans', 'Ca', '2+', 'inhibition', 'L-type Ca', '2+', 'channel', 'nociception', 'serotonin', 'SLO-1 BK channel'], ['axon patterning', 'Drosophila', 'interoceptive', 'pdm3', 'subesophageal zone', 'tracheal dendrite'], ['BDNF', 'glutamate', 'neurogenesis', 'optic tectum', 'visual experience', 'zebrafish'], ['axon guidance', 'motor neuron', 'spinal cord'], ['CRF', 'CRFR1', 'CRH', 'CRHR1', 'HPA axis', 'stress'], ['5-HT', 'arousal', 'chemosensation', 'CO', '2', 'serotonin', 'sleep'], ['encoding cognitive state', 'learning', 'local field potential', 'nucleus basalis of Meynert', 'single neuron activity'], ['aging', 'auditory cortex', 'magnetoencephalography', 'neural adaptation', 'stimulus statistics'], ['gain control', 'ganglion cells', 'glutamate receptor', 'horizontal cells', 'receptive field', 'retina'], ['auditory cortex', 'behavior', 'computational modeling', 'excitatory–inhibitory circuits', 'frequency discrimination', 'optogenetics'], ['anatomic tracing', 'bipolar disorder', 'diffusion MRI', 'prefrontal cortex', 'white matter'], ['comprehension', 'gesture', 'integration', 'multimodal', 'speech', 'TMS'], ['accumbens', 'action selection', 'conditional discrimination', 'decision making', 'Pavlovian', 'reward'], ['amygdala', 'epigenetic regulation', 'intracellular signalling pathways', 'memory consolidation', 'protein synthesis', 'second-order fear conditioning'], ['CaMKII', 'electrophysiology', 'methamphetamine', 'NeuroD', 'self-administration', 'synaptoporin'], ['decision', 'interneuron', 'layer V', 'rat', 'sensory detection', 'whisker'], ['ADHD', 'BDNF', 'dopamine', 'dopamine transporter', 'rat knock-out'], ['depression', 'eIF4E', 'inflammation', 'phospho-eIF4E', 'translation'], ['DRG', 'hyperalgesia', 'inflammation', 'interaction', 'KChIP3', 'TRPV1'], ['anterior cingulate cortex', 'bistability', 'calcium', 'persistent spiking', 'TRPC channels', 'working memory'], ['functional networks', 'mouse', 'stem cell implantation', 'stroke', 'structural networks'], ['embryonic development', 'midbrain dopaminergic neurons', 'neurogenesis', 'neuronal differentiation', 'stem cells', 'iPSC'], ['endplate', 'homeostatic', 'neurotransmitter', 'plasticity', 'synaptic', 'transmission'], ['myelination and remyelination', 'oligodendrocyte differentiation', 'oligodendrocyte regeneration', 'oligodendroglial lineage progression', 'oligodendroglial progenitor cells', 'Sox2'], ['barrel cortex', 'cortical circuits', 'inhibition', 'interneurons', 'somatostatin'], ['connectome', 'cortical systematic variation', 'inhibitory neurons', 'mood disorders', 'subgenual cingulate', 'tract-tracing'], ['burst firing', 'feedforward inhibition', 'hippocampus'], ['fMRI', 'hand', 'local field potential', 'monkey', 'somatosensory', 'touch'], ['hippocampus', 'intracellular activity', 'subthreshold patterns'], ['flow parsing', 'motion processing', 'object movement', 'optic flow', 'self-movement'], ['complexity', 'human memory', 'iEEG', 'theta power'], ['audiovisual integration', 'auditory evoked potentials', 'cross-modal perception', 'McGurk illusion', 'speech perception'], ['5-HT1A receptor', 'anxiety', 'depression', 'LRRK2', '\"Parkinsons disease\"'], ['behavior', 'dopamine', 'next-generation mRNA sequencing', 'nucleus accumbens', 'schizophrenia', 'vagal afferents'], ['extracellular recording', 'fast-spiking interneurons', 'oscillations', 'striatum', 'tremor'], ['axon patterning', 'chirality', 'Drosophila', 'muscle contractions', 'protein O-mannosylation', 'sensory neurons'], ['dendritic spines', 'mitochondria', 'prefrontal cortex', 'pyramidal neurons', 'stress'], ['astrocyte', 'astrocyte process', 'ATP', 'calcium', 'GECI', 'P2Y', '1', 'receptor'], ['correlative light and electron microscopy', 'cryo-electron tomography', 'neurotransmitter receptor', 'postsynaptic density', 'synaptic ultrastructure', 'synaptic vesicle'], ['clock genes', 'ontogeny', 'VIP'], ['ATP', 'axon regeneration', 'conditioning injury', 'purinergic', 'sensory neurons', 'spinal cord injury'], ['fibroblast', 'glial scar', 'laminin', 'oligodendrocyte progenitor', 'pericyte', 'spinal cord injury'], ['corticospinal pathways', 'event-related desynchronization', 'motor imagery', 'paired associative stimulation', 'state-dependent stimulation', 'transcranial magnetic stimulation'], ['adult-born neurons', 'CRH', 'development', 'neuropeptides', 'olfactory', 'synapse'], ['Bergmann glia', 'cerebellar gliogenesis and neurogenesis', 'cerebellar lamination', 'granular neuron migration', 'motor deficits', 'ZEB2'], ['behavioral therapy', 'cognitive flexibility', 'coping behavior', 'extinction', 'medial prefrontal cortex', 'stress'], ['behavioral inhibition', 'central amygdala', 'go/no-go', 'insular cortex', 'optogenetics', 'taste'], ['fMRI', 'motor sequence', 'MVPA', 'primary motor cortex', 'representational fMRI analysis', 'pattern component modeling'], ['circuitry', 'color', 'ganglion cell', 'primate', 'retina', 'vision'], ['channelrhodopsin-2 (ChR2) assisted circuit mapping', 'electrophysiology', 'GABA', 'hypocretin', 'mice', 'orexin'], ['actions', 'concepts', 'fMRI', 'landmarks', 'retrosplenial', 'scenes'], ['corticospinal excitability', 'Go/NoGo task', 'motor evoked potentials', 'motor inhibition', 'stop-signal P3', 'surprise'], ['attention', 'parietal', 'visual short-term memory'], ['1/f activity', 'magnetoencephalography', 'naturalistic stimuli', 'predictive processing', 'scale-free dynamics'], ['emotion', 'locus ceruleus', 'memory', 'motivation', 'norepinephrine', 'pupil'], ['core', 'DREADDs', 'electrophysiology', 'infralimbic', 'shell', 'volatile organic solvent'], ['C. elegans', 'hnRNP U', 'HRPU-2', 'SLO-2', 'synaptic transmission'], ['estrogen', 'interneuron', 'medial ganglionic eminence', 'neurogenesis', 'NKX2.1', 'premature rabbits'], ['brain development', 'telencephalon', 'transcription factor'], ['CA2/CA3a', 'hippocampus', 'long-term potentiation', 'oxytocin', 'oxytocin receptor', 'social recognition memory'], ['Atoh1', 'cerebellum', 'developmental biology', 'differentiation', 'granule cell', 'MEIS1'], ['estradiol feedback', 'estrogen receptor alpha', 'glutamatergic transmission', 'GnRH', 'kisspeptin', 'LH pulse'], ['AMPA', 'dorsal raphe', 'NMDA', 'optogenetics', 'pedunculopontine nucleus', 'subthalamic nucleus'], ['chloride', 'epilepsy', 'GABA', 'A', 'KCC2', 'reticular thalamic nucleus'], ['computational', 'estradiol', 'feedback', 'GnRH', 'kisspeptin', 'Markov Chain Monte Carlo'], ['corticospinal', 'inhibition', 'motor cortex', 'motor preparation', 'transcranial magnetic stimulation'], ['electroencephalography', 'multivariate pattern analysis', 'trans-saccadic information'], ['acetylcholine', 'carbachol', 'dlPFC', 'iontophoresis', 'macaque', 'rule'], ['attention', 'entrainment', 'speech', 'syllables', 'words'], ['aftereffects', 'attention orienting', 'brain oscillations', 'EEG', 'motor preparation', 'prismatic adaptation'], ['attention', 'cognition', 'DMN', 'fMRI', 'monkey'], ['area 3b', 'multisensory integration', 'somatotopy', 'touch', 'vision', 'visuotactile mapping'], ['corpus callosum', 'dorsomedial striatum', 'goal-directed action', 'instrumental conditioning', 'outcome devaluation', 'prelimbic cortex'], ['cognition', 'cytoskeleton', 'dementia', 'neurodegenerative disease'], ['cancer', 'pain', 'patch clamp', 'spontaneous activity'], ['myelination', 'oligodendrocyte', 'remyelination', 'SHP2'], ['ARF', 'hair cells', 'stereocilia'], ['A-type potassium channels', 'ERK', 'Orai1', 'pain', 'spinal cord dorsal horn', 'store-operated calcium channels'], ['\"Alzheimers disease\"', 'neurexins', 'neuroligins', 'presenilins', 'synapse', 'synaptic adhesion'], ['dopamine', 'glutamate', 'mGluR', 'striatum', 'synaptic transmission', 'transporter'], ['adult neurogenesis', 'niche biology', 'parkinsonism', 'Snca knock-out', 'stemness'], ['cerebral cortex', 'doublecortin', 'immature neurons', 'plasticity', 'postnatal development'], ['critical period', 'DTI', 'MRI', 'MRS', 'pain', 'preterm'], ['GABA', 'inhibition', 'MT', 'Stabilized Supralinear Network', 'surround suppression', 'vision'], ['cognitive control', 'computational modeling', 'prefrontal cortex', 'reinforcement learning', 'transcranial magnetic stimulation'], ['adolescence', 'fMRI', 'mPFC', 'mental state inference', 'preferences', 'reinforcement learning'], ['accumbens', 'addiction', 'anxiety', 'cocaine', 'G9a', 'H3K9'], ['histone demethylation', 'Kdm8', 'Miz1', 'peripheral neuropathy', 'proliferation', 'Schwann cell'], ['autism', 'mouse', 'NMDA', 'Pitt–Hopkins syndrome', 'schizophrenia', 'TCF4'], ['α-synuclein', 'immunization', 'vaccine', 'synucleinopathy', 'Treg', 'Lewy body'], ['autism spectrum disorder', 'insulin-like growth factor II receptor', 'insulin-like growth factor II', 'memory', 'mouse model', 'mTOR'], ['aging', 'calcium', 'cytoskeleton', 'FKBP12.6', 'microarray', 'ryanodine receptor'], ['deletion', 'double-strand breaks', 'mitochondria', 'mitophagy', 'mtDNA', 'Parkinson'], ['metalloproteinase', 'Nogo receptor', 'synaptogenesis'], ['epigenetics', 'HIV pain', 'mitochondrial superoxide', 'pC/EBPβ', 'pCREB', 'TNFα'], ['adaptation', 'amacrine cell', 'bipolar cell', 'dopamine', 'GABA'], ['axon growth', 'intrinsic', 'KLF4', 'microRNA', 'regeneration'], ['adult-born neurons', 'early morphological integration', 'Golgi complex', 'hippocampus', 'STK25/STRAD'], ['MAPK/ERK', 'nerve injury', 'nerve repair', 'regeneration', 'remyelination', 'Schwann cells'], ['EEG', 'Functional Source Separation (FSS)', 'personal/individual dynamics of neuronal activity', 'primary motor area', 'transcranial electric stimulation', 'transcranial individual neurodynamics stimulation'], ['conductances', 'inhibitory interneuron', 'input integration', 'intracellular recordings', 'primary visual cortex', 'push–pull'], ['adaptation', 'fMRI', 'population receptive fields', 'temporal summation', 'visual cortex', 'visual hierarchy'], ['action potentials', 'axon initial segment', 'dopamine', 'dopaminergic neurons', 'pacemaker', 'substantia nigra'], ['aging', 'intrinsic properties', 'memory enhancement', 'PERK', 'translation regulation'], ['anorthoscopic viewing', 'fMRI', 'lateral occipital complex', 'multivoxel pattern analysis', 'object shapes', 'temporal integration'], ['accelerated speech', 'language comprehension', 'long-range temporal correlations', 'magnetoencephalography (MEG)', 'principle of complexity management (PCM)', 'scale-free dynamics'], ['memory retrieval', 'mesolimbic system', 'novelty', 'retrieval success', 'striatum'], ['alpha oscillations', 'scale-freeness'], ['β-amyloid', 'aging', 'episodic memory', 'positron emission tomography', 'tau', 'transentorhinal cortex'], ['endocannabinoid', 'Huntington disease', 'striatum'], ['cocaine', 'GluA1', 'GluN1', 'self-administration', 'VTA'], ['growth cone', 'microtubule', 'tau'], ['CD44', 'extracellular matrix', 'hyaluronan', 'hyperalgesia', 'nociceptor'], ['auditory coincidence detector neurons', 'axon initial segment (AIS)', 'dendrites', 'patch-clamp recording', 'T-type Ca', '2+', 'channels', 'two-photon Ca', '2+', 'imaging'], ['afterdepolarization', 'brain slice', 'cholinergic modulation', 'intrinsic persistent activity', 'patch clamp'], ['neuropathic pain', 'paclitaxel', 'TRPA1', 'TRPV1', 'zinc'], ['A11 nucleus', 'D', '5', 'receptor', 'descending modulation', 'dopamine', 'hyperalgesic priming', 'sex differences'], ['LRP4', 'motoneuron', 'NCAM isoforms', 'neuromuscular junction', 'synapse formation'], ['acetaminophen', 'AM 404', 'analgesia', 'inflammation', 'N-arachidonoylphenolamin', 'paracetamol'], ['corticocortical', 'corticostriatal', 'corticotectal', 'electron microscopy', 'interneuron', 'pulvinocortical'], ['contrast', 'encoding model', 'orientation', 'population response'], ['audiovisual', 'confidence', 'EEG', 'metacognition', 'signal detection theory', 'supramodality'], ['alpha', 'decoding', 'EEG', 'ERP', 'orientation', 'working memory'], ['mice', 'obesity', 'puberty', 'PYY', 'serotonin', 'sleep disorders'], ['agonist therapy', 'behavioral economics', 'nucleus accumbens', 'self-administration', 'tolerance', 'voltammetry'], ['chaperone', 'cysteine string protein α', 'phosphorylation', 'presynapse', 'protein kinase C'], ['ASD', 'dendritic remodeling', 'developmental disorder', 'neuronal development', 'UBE3A/E6AP', 'ubiquitination'], ['astrocytes', 'calcium imaging', 'inflammation', 'neuroglial function', 'peripheral surgery', 'POCD'], ['analgesia', 'chronic pain', 'locus ceruleus', 'midbrain periaqueductal gray', 'rostral ventromedial medulla', 'spinal trigeminal nucleus'], ['activity-dependent', 'N', '-cadherin', 'protein kinase D1', 'synapse formation', 'synaptic plasticity'], ['amperometry', 'exocytosis', 'FRET', 'fusion clamp', 'neuroendocrine cells', 'syntaxin-1A'], ['CaMKIIα', 'EAE', 'kinase', 'multiple sclerosis', 'pain', 'phosphorylation'], ['connectome', 'development', 'regeneration', 'retinal bipolar cell', 'synapse', 'zebrafish'], ['Dab1 phosphorylation', 'hippocampus', 'live imaging', 'neuronal migration', 'reeler', '-like', 'Reelin'], ['amygdala', 'cocaine', 'extinction', 'punishment', 'reinstatement', 'relapse'], ['accumbens', 'addiction', 'cocaine', 'DLS', 'habit', 'motivation'], ['anisomycin', 'intracortical microstimulation mapping', 'ischemic stroke', 'skilled reaching', 'transmission electron microscopy'], ['attention priority map', 'early visual cortex', 'face images', 'first saccadic eye movements'], ['hippocampus', 'lesion', 'nucleus reuniens', 'place cells', 'spatial memory', 'ventral midline thalamus'], ['adaptive behavior', 'echolocation', 'natural vocalizations', 'neuroethology', 'sensorimotor', 'superior colliculus'], ['blood–brain barrier integrity', 'circular RNA DLGAP4', 'endothelial-mesenchymal transition', 'ischemic stroke', 'miR-143', 'transient middle cerebral artery occlusion'], ['DSP-4', 'hippocampus', 'locus coeruleus', 'neuroinflammation', 'norepinephrine', 'tau'], ['\"Alzheimers\"', 'Drosophila', 'tau'], ['exotropia', 'microstimulation', 'retinotopic map', 'saccade', 'strabismus', 'superior colliculus'], ['behavior', 'chemokine', 'CTCF', 'dendritic spine', 'inflammation', 'microglia']]\n"
     ]
    }
   ],
   "source": [
    "#将每篇paper的keywords由str转换为list，并放在一个大的list中\n",
    "def to_lst():\n",
    "    i = 0\n",
    "    full_lst=[]\n",
    "\n",
    "    while i < len(df):\n",
    "        str_to_lst=df['keywords'][i].replace('[','').replace(\"]\",\"\").replace(\"'\",\"\").split(\",\")\n",
    "        new_str_to_lst=[]\n",
    "        for x in str_to_lst:\n",
    "            del_gap=x.strip()\n",
    "            if del_gap:\n",
    "                new_str_to_lst.append(del_gap)\n",
    "    #     print(new_str_to_lst)\n",
    "        full_lst.append(new_str_to_lst)\n",
    "        i += 1\n",
    "    print(full_lst)\n",
    "\n",
    "def main():\n",
    "    to_lst()\n",
    "\n",
    "if __name__ == '__main__':\n",
    "    main()"
   ]
  },
  {
   "cell_type": "code",
   "execution_count": 48,
   "metadata": {},
   "outputs": [],
   "source": [
    "#将full_lst放到Series一维数组\n",
    "df1=pd.Series(full_lst)\n",
    "#再转成DataFrame二维数组\n",
    "df2=pd.DataFrame(df1)"
   ]
  },
  {
   "cell_type": "code",
   "execution_count": 51,
   "metadata": {},
   "outputs": [
    {
     "data": {
      "text/html": [
       "<div>\n",
       "<style scoped>\n",
       "    .dataframe tbody tr th:only-of-type {\n",
       "        vertical-align: middle;\n",
       "    }\n",
       "\n",
       "    .dataframe tbody tr th {\n",
       "        vertical-align: top;\n",
       "    }\n",
       "\n",
       "    .dataframe thead th {\n",
       "        text-align: right;\n",
       "    }\n",
       "</style>\n",
       "<table border=\"1\" class=\"dataframe\">\n",
       "  <thead>\n",
       "    <tr style=\"text-align: right;\">\n",
       "      <th></th>\n",
       "      <th>keyword</th>\n",
       "    </tr>\n",
       "  </thead>\n",
       "  <tbody>\n",
       "    <tr>\n",
       "      <th>0</th>\n",
       "      <td>[cortical lesion, diaschisis, manual dexterity...</td>\n",
       "    </tr>\n",
       "    <tr>\n",
       "      <th>1</th>\n",
       "      <td>[barrel cortex, cholinergic, decorrelation, in...</td>\n",
       "    </tr>\n",
       "    <tr>\n",
       "      <th>2</th>\n",
       "      <td>[neurophysiology, orientation selectivity, pri...</td>\n",
       "    </tr>\n",
       "    <tr>\n",
       "      <th>3</th>\n",
       "      <td>[dipteran TSDN, motion vision, optic flow, tar...</td>\n",
       "    </tr>\n",
       "    <tr>\n",
       "      <th>4</th>\n",
       "      <td>[cognitive control, executive control, fMRI, m...</td>\n",
       "    </tr>\n",
       "  </tbody>\n",
       "</table>\n",
       "</div>"
      ],
      "text/plain": [
       "                                             keyword\n",
       "0  [cortical lesion, diaschisis, manual dexterity...\n",
       "1  [barrel cortex, cholinergic, decorrelation, in...\n",
       "2  [neurophysiology, orientation selectivity, pri...\n",
       "3  [dipteran TSDN, motion vision, optic flow, tar...\n",
       "4  [cognitive control, executive control, fMRI, m..."
      ]
     },
     "execution_count": 51,
     "metadata": {},
     "output_type": "execute_result"
    }
   ],
   "source": [
    "#添加列名称keyword\n",
    "df2.columns=['keyword']\n",
    "df2[:5]"
   ]
  },
  {
   "cell_type": "code",
   "execution_count": 52,
   "metadata": {},
   "outputs": [],
   "source": [
    "#为keyword每个单元格中的列表的每个元素创建一行,列并命名为indi_keyword\n",
    "df3=df2.apply(lambda x:pd.Series(x['keyword']),axis=1).stack().reset_index(level=1,drop=True)"
   ]
  },
  {
   "cell_type": "code",
   "execution_count": 53,
   "metadata": {},
   "outputs": [],
   "source": [
    "df3.name='indi_keyword'"
   ]
  },
  {
   "cell_type": "code",
   "execution_count": 54,
   "metadata": {},
   "outputs": [],
   "source": [
    "data=df2.drop('keyword',axis=1).join(df3)"
   ]
  },
  {
   "cell_type": "code",
   "execution_count": 78,
   "metadata": {},
   "outputs": [
    {
     "data": {
      "text/html": [
       "<div>\n",
       "<style scoped>\n",
       "    .dataframe tbody tr th:only-of-type {\n",
       "        vertical-align: middle;\n",
       "    }\n",
       "\n",
       "    .dataframe tbody tr th {\n",
       "        vertical-align: top;\n",
       "    }\n",
       "\n",
       "    .dataframe thead th {\n",
       "        text-align: right;\n",
       "    }\n",
       "</style>\n",
       "<table border=\"1\" class=\"dataframe\">\n",
       "  <thead>\n",
       "    <tr style=\"text-align: right;\">\n",
       "      <th></th>\n",
       "      <th>indi_keyword</th>\n",
       "    </tr>\n",
       "  </thead>\n",
       "  <tbody>\n",
       "    <tr>\n",
       "      <th>0</th>\n",
       "      <td>cortical lesion</td>\n",
       "    </tr>\n",
       "    <tr>\n",
       "      <th>0</th>\n",
       "      <td>diaschisis</td>\n",
       "    </tr>\n",
       "    <tr>\n",
       "      <th>0</th>\n",
       "      <td>manual dexterity</td>\n",
       "    </tr>\n",
       "    <tr>\n",
       "      <th>0</th>\n",
       "      <td>motor cortex</td>\n",
       "    </tr>\n",
       "    <tr>\n",
       "      <th>0</th>\n",
       "      <td>nonhuman primate</td>\n",
       "    </tr>\n",
       "  </tbody>\n",
       "</table>\n",
       "</div>"
      ],
      "text/plain": [
       "       indi_keyword\n",
       "0   cortical lesion\n",
       "0        diaschisis\n",
       "0  manual dexterity\n",
       "0      motor cortex\n",
       "0  nonhuman primate"
      ]
     },
     "execution_count": 78,
     "metadata": {},
     "output_type": "execute_result"
    }
   ],
   "source": [
    "data[:5]"
   ]
  },
  {
   "cell_type": "code",
   "execution_count": 79,
   "metadata": {},
   "outputs": [
    {
     "data": {
      "text/plain": [
       "fMRI           46\n",
       "hippocampus    42\n",
       "GABA           21\n",
       "memory         20\n",
       "aging          20\n",
       "Name: indi_keyword, dtype: int64"
      ]
     },
     "execution_count": 79,
     "metadata": {},
     "output_type": "execute_result"
    }
   ],
   "source": [
    "#记录每个Indi_keyword出现的频次\n",
    "data_count=data['indi_keyword'].value_counts()\n",
    "data_count[:5]"
   ]
  },
  {
   "cell_type": "code",
   "execution_count": 91,
   "metadata": {},
   "outputs": [
    {
     "data": {
      "text/html": [
       "<div>\n",
       "<style scoped>\n",
       "    .dataframe tbody tr th:only-of-type {\n",
       "        vertical-align: middle;\n",
       "    }\n",
       "\n",
       "    .dataframe tbody tr th {\n",
       "        vertical-align: top;\n",
       "    }\n",
       "\n",
       "    .dataframe thead th {\n",
       "        text-align: right;\n",
       "    }\n",
       "</style>\n",
       "<table border=\"1\" class=\"dataframe\">\n",
       "  <thead>\n",
       "    <tr style=\"text-align: right;\">\n",
       "      <th></th>\n",
       "      <th>num_kw</th>\n",
       "      <th>No.</th>\n",
       "      <th>info</th>\n",
       "    </tr>\n",
       "  </thead>\n",
       "  <tbody>\n",
       "    <tr>\n",
       "      <th>fMRI</th>\n",
       "      <td>46</td>\n",
       "      <td>1</td>\n",
       "      <td>journal of neuroscience 2018</td>\n",
       "    </tr>\n",
       "    <tr>\n",
       "      <th>hippocampus</th>\n",
       "      <td>42</td>\n",
       "      <td>2</td>\n",
       "      <td>journal of neuroscience 2018</td>\n",
       "    </tr>\n",
       "    <tr>\n",
       "      <th>GABA</th>\n",
       "      <td>21</td>\n",
       "      <td>3</td>\n",
       "      <td>journal of neuroscience 2018</td>\n",
       "    </tr>\n",
       "    <tr>\n",
       "      <th>memory</th>\n",
       "      <td>20</td>\n",
       "      <td>4</td>\n",
       "      <td>journal of neuroscience 2018</td>\n",
       "    </tr>\n",
       "    <tr>\n",
       "      <th>aging</th>\n",
       "      <td>20</td>\n",
       "      <td>5</td>\n",
       "      <td>journal of neuroscience 2018</td>\n",
       "    </tr>\n",
       "  </tbody>\n",
       "</table>\n",
       "</div>"
      ],
      "text/plain": [
       "             num_kw  No.                          info\n",
       "fMRI             46    1  journal of neuroscience 2018\n",
       "hippocampus      42    2  journal of neuroscience 2018\n",
       "GABA             21    3  journal of neuroscience 2018\n",
       "memory           20    4  journal of neuroscience 2018\n",
       "aging            20    5  journal of neuroscience 2018"
      ]
     },
     "execution_count": 91,
     "metadata": {},
     "output_type": "execute_result"
    }
   ],
   "source": [
    "#存入DataFrame二维格式\n",
    "df_kw=pd.DataFrame(data_count)\n",
    "df_kw[:5]\n",
    "#修改列字段\n",
    "df_kw.columns=['num_kw']\n",
    "#添加No列字段\n",
    "df_kw['No.']=range(1,len(df_kw)+1)\n",
    "#添加Info列字段\n",
    "df_kw['info']='journal of neuroscience 2018'\n",
    "#查看\n",
    "df_kw[:5]"
   ]
  },
  {
   "cell_type": "code",
   "execution_count": 92,
   "metadata": {},
   "outputs": [],
   "source": [
    "#保存数据\n",
    "df_kw.to_csv('2018jn_kw.csv')"
   ]
  },
  {
   "cell_type": "code",
   "execution_count": null,
   "metadata": {},
   "outputs": [],
   "source": []
  }
 ],
 "metadata": {
  "kernelspec": {
   "display_name": "Python 3",
   "language": "python",
   "name": "python3"
  },
  "language_info": {
   "codemirror_mode": {
    "name": "ipython",
    "version": 3
   },
   "file_extension": ".py",
   "mimetype": "text/x-python",
   "name": "python",
   "nbconvert_exporter": "python",
   "pygments_lexer": "ipython3",
   "version": "3.7.1"
  }
 },
 "nbformat": 4,
 "nbformat_minor": 2
}
