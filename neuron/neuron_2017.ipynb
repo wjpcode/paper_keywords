{
 "cells": [
  {
   "cell_type": "code",
   "execution_count": 4,
   "metadata": {},
   "outputs": [],
   "source": [
    "import numpy as np\n",
    "import pandas as pd\n",
    "import csv"
   ]
  },
  {
   "cell_type": "code",
   "execution_count": 5,
   "metadata": {},
   "outputs": [
    {
     "data": {
      "text/html": [
       "<div>\n",
       "<style scoped>\n",
       "    .dataframe tbody tr th:only-of-type {\n",
       "        vertical-align: middle;\n",
       "    }\n",
       "\n",
       "    .dataframe tbody tr th {\n",
       "        vertical-align: top;\n",
       "    }\n",
       "\n",
       "    .dataframe thead th {\n",
       "        text-align: right;\n",
       "    }\n",
       "</style>\n",
       "<table border=\"1\" class=\"dataframe\">\n",
       "  <thead>\n",
       "    <tr style=\"text-align: right;\">\n",
       "      <th></th>\n",
       "      <th>Activation of the STING-Dependent Type I Interferon Response Reduces Microglial Reactivity and Neuroinflammation</th>\n",
       "      <th>['ganciclovir', 'STING', 'type I interferon response', 'experimental autoimmune encephalomyelitis', 'microglia', 'neuroinflammation']</th>\n",
       "      <th>Published: December 20, 2017</th>\n",
       "    </tr>\n",
       "  </thead>\n",
       "  <tbody>\n",
       "    <tr>\n",
       "      <th>0</th>\n",
       "      <td>NRAP-1 Is a Presynaptically Released NMDA Rece...</td>\n",
       "      <td>['glutamate', 'iGluR', 'NMDA receptor', 'auxil...</td>\n",
       "      <td>Published: December 7, 2017</td>\n",
       "    </tr>\n",
       "    <tr>\n",
       "      <th>1</th>\n",
       "      <td>Ca</td>\n",
       "      <td>['CiVDS', 'CA dependent secretion', 'CaV2.2', ...</td>\n",
       "      <td>Published: November 30, 2017</td>\n",
       "    </tr>\n",
       "    <tr>\n",
       "      <th>2</th>\n",
       "      <td>Drp1 Mitochondrial Fission in D1 Neurons Media...</td>\n",
       "      <td>['medium spiny neurons', 'nucleus accumbens', ...</td>\n",
       "      <td>Published: December 20, 2017</td>\n",
       "    </tr>\n",
       "    <tr>\n",
       "      <th>3</th>\n",
       "      <td>Behavior-Dependent Activity and Synaptic Organ...</td>\n",
       "      <td>['medial septum', 'inhibition', 'theta oscilla...</td>\n",
       "      <td>Published: November 30, 2017</td>\n",
       "    </tr>\n",
       "    <tr>\n",
       "      <th>4</th>\n",
       "      <td>Divergent Connectivity of Homologous Command-l...</td>\n",
       "      <td>['Drosophila', 'EM circuit mapping', 'somatose...</td>\n",
       "      <td>Published: November 30, 2017</td>\n",
       "    </tr>\n",
       "  </tbody>\n",
       "</table>\n",
       "</div>"
      ],
      "text/plain": [
       "  Activation of the STING-Dependent Type I Interferon Response Reduces Microglial Reactivity and Neuroinflammation  \\\n",
       "0  NRAP-1 Is a Presynaptically Released NMDA Rece...                                                                 \n",
       "1                                                 Ca                                                                 \n",
       "2  Drp1 Mitochondrial Fission in D1 Neurons Media...                                                                 \n",
       "3  Behavior-Dependent Activity and Synaptic Organ...                                                                 \n",
       "4  Divergent Connectivity of Homologous Command-l...                                                                 \n",
       "\n",
       "  ['ganciclovir', 'STING', 'type I interferon response', 'experimental autoimmune encephalomyelitis', 'microglia', 'neuroinflammation']  \\\n",
       "0  ['glutamate', 'iGluR', 'NMDA receptor', 'auxil...                                                                                      \n",
       "1  ['CiVDS', 'CA dependent secretion', 'CaV2.2', ...                                                                                      \n",
       "2  ['medium spiny neurons', 'nucleus accumbens', ...                                                                                      \n",
       "3  ['medial septum', 'inhibition', 'theta oscilla...                                                                                      \n",
       "4  ['Drosophila', 'EM circuit mapping', 'somatose...                                                                                      \n",
       "\n",
       "   Published: December 20, 2017  \n",
       "0   Published: December 7, 2017  \n",
       "1  Published: November 30, 2017  \n",
       "2  Published: December 20, 2017  \n",
       "3  Published: November 30, 2017  \n",
       "4  Published: November 30, 2017  "
      ]
     },
     "execution_count": 5,
     "metadata": {},
     "output_type": "execute_result"
    }
   ],
   "source": [
    "df=pd.read_csv('neuron_data_v96to93_2017.csv')\n",
    "df[:5]"
   ]
  },
  {
   "cell_type": "code",
   "execution_count": 6,
   "metadata": {},
   "outputs": [
    {
     "data": {
      "text/html": [
       "<div>\n",
       "<style scoped>\n",
       "    .dataframe tbody tr th:only-of-type {\n",
       "        vertical-align: middle;\n",
       "    }\n",
       "\n",
       "    .dataframe tbody tr th {\n",
       "        vertical-align: top;\n",
       "    }\n",
       "\n",
       "    .dataframe thead th {\n",
       "        text-align: right;\n",
       "    }\n",
       "</style>\n",
       "<table border=\"1\" class=\"dataframe\">\n",
       "  <thead>\n",
       "    <tr style=\"text-align: right;\">\n",
       "      <th></th>\n",
       "      <th>paper title</th>\n",
       "      <th>keywords</th>\n",
       "      <th>publish_date</th>\n",
       "    </tr>\n",
       "  </thead>\n",
       "  <tbody>\n",
       "    <tr>\n",
       "      <th>0</th>\n",
       "      <td>NRAP-1 Is a Presynaptically Released NMDA Rece...</td>\n",
       "      <td>['glutamate', 'iGluR', 'NMDA receptor', 'auxil...</td>\n",
       "      <td>Published: December 7, 2017</td>\n",
       "    </tr>\n",
       "    <tr>\n",
       "      <th>1</th>\n",
       "      <td>Ca</td>\n",
       "      <td>['CiVDS', 'CA dependent secretion', 'CaV2.2', ...</td>\n",
       "      <td>Published: November 30, 2017</td>\n",
       "    </tr>\n",
       "    <tr>\n",
       "      <th>2</th>\n",
       "      <td>Drp1 Mitochondrial Fission in D1 Neurons Media...</td>\n",
       "      <td>['medium spiny neurons', 'nucleus accumbens', ...</td>\n",
       "      <td>Published: December 20, 2017</td>\n",
       "    </tr>\n",
       "    <tr>\n",
       "      <th>3</th>\n",
       "      <td>Behavior-Dependent Activity and Synaptic Organ...</td>\n",
       "      <td>['medial septum', 'inhibition', 'theta oscilla...</td>\n",
       "      <td>Published: November 30, 2017</td>\n",
       "    </tr>\n",
       "    <tr>\n",
       "      <th>4</th>\n",
       "      <td>Divergent Connectivity of Homologous Command-l...</td>\n",
       "      <td>['Drosophila', 'EM circuit mapping', 'somatose...</td>\n",
       "      <td>Published: November 30, 2017</td>\n",
       "    </tr>\n",
       "  </tbody>\n",
       "</table>\n",
       "</div>"
      ],
      "text/plain": [
       "                                         paper title  \\\n",
       "0  NRAP-1 Is a Presynaptically Released NMDA Rece...   \n",
       "1                                                 Ca   \n",
       "2  Drp1 Mitochondrial Fission in D1 Neurons Media...   \n",
       "3  Behavior-Dependent Activity and Synaptic Organ...   \n",
       "4  Divergent Connectivity of Homologous Command-l...   \n",
       "\n",
       "                                            keywords  \\\n",
       "0  ['glutamate', 'iGluR', 'NMDA receptor', 'auxil...   \n",
       "1  ['CiVDS', 'CA dependent secretion', 'CaV2.2', ...   \n",
       "2  ['medium spiny neurons', 'nucleus accumbens', ...   \n",
       "3  ['medial septum', 'inhibition', 'theta oscilla...   \n",
       "4  ['Drosophila', 'EM circuit mapping', 'somatose...   \n",
       "\n",
       "                   publish_date  \n",
       "0   Published: December 7, 2017  \n",
       "1  Published: November 30, 2017  \n",
       "2  Published: December 20, 2017  \n",
       "3  Published: November 30, 2017  \n",
       "4  Published: November 30, 2017  "
      ]
     },
     "execution_count": 6,
     "metadata": {},
     "output_type": "execute_result"
    }
   ],
   "source": [
    "#添加每列字段并查看\n",
    "df.columns=['paper title','keywords','publish_date']\n",
    "df[:5]"
   ]
  },
  {
   "cell_type": "code",
   "execution_count": 8,
   "metadata": {},
   "outputs": [
    {
     "name": "stdout",
     "output_type": "stream",
     "text": [
      "[['glutamate', 'iGluR', 'NMDA receptor', 'auxiliary protein', 'receptor desensitization', 'synaptic plasticity', 'learning and memory', 'silent synapse'], ['CiVDS', 'CA dependent secretion', 'CaV2.2', 'N-type calcium channel', 'SNAP25', 'synprint', 'ATP release', 'quantal', 'DRG', 'TIRF'], ['medium spiny neurons', 'nucleus accumbens', 'self-administration', 'mitochondria', 'Drp1', 'cocaine'], ['medial septum', 'inhibition', 'theta oscillations', 'rhythm', 'subcortical', 'CA3'], ['Drosophila', 'EM circuit mapping', 'somatosensation', 'locomotion', 'segment specificity', 'sensorimotor circuit'], ['inter-areal interactions', 'cortical layers', 'V1', 'V2', 'contour integration', 'grouping and segmentation', 'Granger causality', 'feedforward', 'feedback', 'top-down influences'], ['inhibitory circuits', 'PV cell', 'SOM cell', 'cortical oscillations', 'beta oscillation', 'gamma oscillation', 'primary visual cortex', 'local field potential', 'spike units', 'optogenetics'], ['sensory feedback', 'motor control', 'locomotion', 'spinal interneurons', 'presynaptic inhibition', 'RORβ', 'proprioception'], ['behaving monkeys', 'pattern discrimination', 'dorsal premotor cortex', 'population coding', 'temporal signals', 'persistent memory', 'transitory signals', 'decision making', 'error coding'], ['countermanding', 'saccades', 'eye movement', 'executive control', 'cognitive control', 'fMRI', 'primate electrophysiology', 'response inhibition', 'context manipulation', 'frontal cortex electrophysiology', 'response inhibition', 'context manipulation', 'frontal cortex'], ['psychiatric disorders', 'DISC1', 'NDEL1', 'NDE1', 'complex structure', 'kinetochore attachment', 'cell cycle', 'neurogenesis', 'human forebrain organoid'], ['blood-retina barrier', 'angiogenesis', 'vascular pruning', 'Wnt/β-catenin signaling', 'Norrin', 'Frizzled-4', 'Apcdd1', 'Claudin-5', 'Occludin', 'tight junction', 'Caveolin-1', 'transcytosis'], ['G protein-coupled receptor', 'neuromodulation', 'protein kinase A', 'muscarinic receptors', 'hippocampus', 'Gαq signaling', 'optical reporters', 'fluorescence lifetime imaging microscopy', 'acetylcholine', 'designer receptors'], ['homeostatic plasticity', 'Sema3F', 'Neuropilin-2', 'AMPA receptor', 'Plexin receptor', 'semaphorin'], ['DSGC', 'starburst', 'NMDA', 'silent synapses', 'E/I balance', 'retina', 'contrast-invariant', 'arithmetic', 'SBEM'], ['Endocannabinoids', 'dopamine', 'acetylcholine', 'glutamate', 'CB1 receptors', 'voltammetry', 'reward', 'AMPA receptors', 'prefrontal cortex'], ['dendritic spine', 'visual cortex', 'synaptic cluster'], ['olfaction', 'temporal coding', 'phase coding', 'sniffing', 'mechanosensation', 'oscillations', 'concentration invariance', 'olfactory sensory neurons', 'mitral/tufted cells', 'olfactory bulb'], ['calcitonin gene related peptide', 'parabrachial neurons', 'hypercapnia', 'apne', 'arousal', 'sleep', 'optogenetics', 'chemogenetics'], ['birdsong', 'basal ganglia', 'motor skill learning', 'context-dependent learning', 'vocal learning', 'reinforcement learning', 'motor sequences', 'motor adaptation', 'coarticulation', 'generalization'], ['place cells', 'maximum entropy', 'hippocampus', 'collective phenomena', 'pairwise correlations'], ['trans-Tango', 'transsynaptic tracing', 'anterograde tracing', 'neural circuit', 'olfactory system', 'gustatory system', 'second-order neuron', 'postsynaptic', 'anterograde'], ['LRRK1', 'LRRK2', 'α-synuclein', 'Parkinson’s disease', 'dopamine', 'neurodegeneration', 'apoptosis', 'autophagy', 'dopaminergic neuron', 'ubiquitin'], ['GABA', 'GABAergic synapse', 'development', 'Neuroligin 2', 'Slitrk3', 'cell adhesion molecule', 'gephyrin', 'collybistin', 'seizure', 'gamma oscillation'], ['PMCA', 'Neuroplastin', 'Basigin', 'Ca2+-ATPase', 'Ca2+-Signalling', 'Ca2+ Clearance', 'transporter', 'plasma membrane targeting'], ['neocortex', 'short-term plasticity', 'neurotransmitter release', 'electrophysiology', '2-photon microscopy', 'uncaging', 'computer model', 'patch clamp'], ['auditory', 'ryanodine', 'endoplasmic reticulum', 'potassium channel', 'calcium channel'], ['olfactory', 'olfaction', 'adult neurogenesis', 'granule cell', 'adult-born neuron', 'plasticity', 'two-photon imaging', 'GCaMP'], ['GLP-1', 'paraventricular hypothalamus', 'AMPA receptor', 'synaptic transmission', 'phosphorylation', 'membrane trafficking', 'electrophysiology', 'feeding', 'food intake behavior', 'obesity'], ['Dopamine', 'optic tectum', 'superior colliculus', 'lamprey', 'substantia nigra pars compacta', 'D1 dopamine receptor', 'D2 dopamine receptor', 'motor control'], ['place cell', 'grid cell', 'entorhinal cortex', 'hippocampus', 'replay', 'planning', 'memory consolidation', 'navigation'], ['Coupled oscillators', 'Functional magnetic resonant imaging', 'Hemodynamics', 'Intrinsic optical imaging', 'Optogenetics', 'Two-photon imaging'], ['Nogo receptors', 'FRET imaging', 'RhoA2G sensor', 'RCaMP sensor', 'amyloid beta peptides', 'new synapse assembly', 'T-type calcium channels', 'ICV injections', 'calcium dysfunction'], ['Axon degeneration', 'IP3R1', 'Bclw (Bcl2l2)', 'SFPQ', 'chemotherapy-induced peripheral neuropathy', 'paclitaxel', 'RNA transport', 'calpain'], ['focal cortical dysplasia', 'tuberous sclerosis complex', 'circadian epilepsy', 'focal epilepsy'], ['stress', 'hippocampus', 'dentate gyrus', 'glutamate homeostasis', 'antidepressant', 'epigenetics', 'acetylcarnitine', 'histone', 'resilience', 'mGlu2'], ['methamphetamine', 'contingency management', 'choice', 'relapse', 'amygdala', 'insular cortex', 'dopamine receptor', 'retrograde tracing', 'CNO', 'DREADD'], ['astrocyte', 'glia', 'synapse', 'AMPAR', 'development', 'glypican', 'neuronal pentraxin 1'], ['mechanosensation', 'vibration sensing', 'frequency selectivity', 'phase selectivity', 'electrical synapses', 'voltage-gated ion channels', 'active conductances', 'depolarization block', '\"Johnstons organ\"', 'AMMC'], ['corticostriatal', 'cortex', 'striatum', 'skill', 'learning', 'associative', 'sensorimotor', 'modulation', 'presynaptic'], ['place cell', 'hippocampus', 'hebbian', 'dendritic spike', 'branch spike', 'two-photon microscopy', 'virtual reality', 'calcium imaging', 'memory formation', 'navigation'], ['hippocampus', 'circuits', 'cell assemblies', 'pyramidal cell', 'interneuron', 'spike transmission', 'short-term plasticity', 'synchrony', 'cooperativity', 'lognormal'], ['synchrony', 'implicit', 'explicit', 'reward learning', 'prefrontal cortex'], ['PNS regeneration', 'Schwann cell', 'dedifferentiation', 'Eph signaling', 'TGFb signaling', 'plasticity'], ['Alzheimer’s disease', 'APOE', 'Insulin signaling', 'Aging', 'Endosomal dysfunction', 'Trafficking', 'Aggregation'], ['cocaine addiction', 'histone deacetylase', 'NPAS4', 'reinstatement', 'drug self-administration', 'conditioned place preference', 'nucleus accumbens', 'chromatin immunoprecipitation', 'ChIP-seq', 'HDAC5'], ['Alcohol', 'Addiction', 'Plasticity', 'mTORC1', 'Prosapip1', 'Actin', 'Dendritic spines'], ['Cadherin', 'cadherin-9', 'cadherin-10', 'cadherin-6', 'hippocampus', 'long-term plasticity', 'mushroom spine', 'stratum oriens', 'synapse specificity'], ['long-term synaptic plasticity', 'expression loci', 'synaptic transmission', 'theory', 'retrograde messengers', 'nitric oxide', 'endocannabinoids', 'inhibitory plasticity', 'excitation-inhibition balance'], ['sodium appetite', 'aldosterone', 'angiotensin II', 'electrophysiology', 'pacemaker activity', '11β-Hydroxysteroid dehydrogenase 2', 'nucleus of the solitary tract', 'bed nucleus of the stria terminalis', 'HCN channels', 'Nav1.5'], ['LTP', 'hippocampus', 'CaMKII-K42M', 'conditioned place avoidance', 'herpes simplex virus'], ['hippocampus', 'entorhinal cortex', 'sharp-wave ripple', 'single-unit recording', 'replay', 'decoding', 'optogenetics', 'transgenic mice', 'awake', 'slow-wave sleep'], ['memory consolidation', 'human fMRI', 'hippocampus', 'medial prefrontal cortex', 'pattern similarity'], ['myotonic dystrophy', 'non-AUG initiation', 'non-ATG translation', 'RAN translation', 'muscleblind proteins', 'RNA foci', 'DM', 'DM2', 'MBNL', 'C9ORF72'], ['basal ganglia', 'cortex', 'globus pallidus', 'glutamate', 'NMDA', 'Parkinson’s disease', 'plasticity', 'subthalamic nucleus', 'synapse'], ['social preference', 'neurotransmitter switching', 'odorants', 'accessory olfactory bulb', 'GABA', 'dopamine', 'microRNA', 'miR-375', 'miR-200b', 'Xenopus larvae'], ['alternative polyadenylation', 'crosslinking immunoprecipitation', 'single cell type', 'neuron', 'microglia', 'ARAF', 'NOVA', 'PTB'], ['synapse', 'Unc13', 'scaffolding proteins', 'active zone', 'release site', 'STED microscopy', 'local synaptic activity imaging', 'in\\\\xa0vivo imaging', 'variance-mean analysis', 'high-pressure freeze electron microscopy'], ['astrocytic metabolic networks', 'gap junction', 'lactate', 'orexin neuron', 'sleep-wake cycle', 'EEG'], ['spike sorting', 'clustering', 'hippocampus', 'cortex', 'reproducibility', 'cluster metrics', 'automated'], ['dopamine', 'prediction error', 'learning', 'single unit', 'rodent'], ['parietal cortex', 'posterior parietal cortex', 'modular organization', 'memory reactivation', 'multi-unit activity', 'high-frequency local field potential', 'template matching', 'movement decoding', 'hippocampus', 'delta wave'], ['predictive coding', 'anterior cingulate cortex', 'visual cortex', 'sensorimotor integration', 'A24b'], ['myotonic dystrophy', 'non-AUG initiation', 'non-ATG translation', 'RAN translation', 'muscleblind proteins', 'RNA foci', 'DM', 'DM2', 'MBNL', 'C9ORF72'], ['basal ganglia', 'cortex', 'globus pallidus', 'glutamate', 'NMDA', 'Parkinson’s disease', 'plasticity', 'subthalamic nucleus', 'synapse'], ['social preference', 'neurotransmitter switching', 'odorants', 'accessory olfactory bulb', 'GABA', 'dopamine', 'microRNA', 'miR-375', 'miR-200b', 'Xenopus larvae'], ['alternative polyadenylation', 'crosslinking immunoprecipitation', 'single cell type', 'neuron', 'microglia', 'ARAF', 'NOVA', 'PTB'], ['synapse', 'Unc13', 'scaffolding proteins', 'active zone', 'release site', 'STED microscopy', 'local synaptic activity imaging', 'in\\\\xa0vivo imaging', 'variance-mean analysis', 'high-pressure freeze electron microscopy'], ['astrocytic metabolic networks', 'gap junction', 'lactate', 'orexin neuron', 'sleep-wake cycle', 'EEG'], ['spike sorting', 'clustering', 'hippocampus', 'cortex', 'reproducibility', 'cluster metrics', 'automated'], ['dopamine', 'prediction error', 'learning', 'single unit', 'rodent'], ['parietal cortex', 'posterior parietal cortex', 'modular organization', 'memory reactivation', 'multi-unit activity', 'high-frequency local field potential', 'template matching', 'movement decoding', 'hippocampus', 'delta wave'], ['predictive coding', 'anterior cingulate cortex', 'visual cortex', 'sensorimotor integration', 'A24b'], ['spinal cord injury', 'ischemic stroke', 'axon regeneration', 'axon sprouting', 'osteopontin', 'IGF1', '4-aminopyridine'], ['neuronal polarity', 'polarity inheritance', 'DRG neuron', 'axon', 'Septin', 'molecular memory', 'cell shape', 'cell division', 'live imaging', 'morphological remodeling'], ['axon branching', 'axon guidance', 'β-actin', 'FRAP', 'local protein synthesis', 'mitochondria', 'neural wiring', 'retinotectal projection', 'RNA labeling', 'RNA localization', 'RNA trafficking'], ['Satb1', 'Satb2', 'Contactin', 'Caspr', 'retinal ganglion cell', 'ooDSGC', 'dendrite', 'direction selectivity', 'starburst amacrine cells', 'hemophilic adhesion'], ['VIP', 'somatostatin', 'interneuron', 'cortex', 'ErbB4', 'visual', 'gCAMP6', 'cholinergic', 'GABAergic', 'development'], ['neurexin', 'neuroligin', 'MDGA', 'synaptic organizer protein', 'synaptic transmission', 'autism spectrum disorder', 'ASD'], ['Direction selectivity', 'retina', 'electrotonic isolation', 'mGluR2', 'motion computation', 'starburst amacrine'], ['hippocampus', 'CA3', 'pattern separation', 'learning', 'memory', 'presynaptic', 'BDNF', 'TrkB'], ['sensory coding', 'peripheral nervous system', 'mechanosensation', 'touch', 'nociception', 'pain'], ['aggression', 'territorial behavior', 'sexual dimorphism', 'emotion', 'progesterone receptor', 'sex hormones', 'castration', 'pheromone', 'ventromedial hypothalamus', 'VMH'], ['face patches', 'social perception', 'vision', 'neurophysiology', 'natural vision', 'brain networks', 'inferotemporal cortex', 'biological motion', 'free-viewing', 'monkey'], ['fragile X', 'FMR1', 'autism', 'TRAP', 'protein synthesis', 'muscarinic receptor', 'm4', 'LTD', 'mglur theory', 'FMRP'], ['antidepressants', 'hippocampus', 'SSRI', 'CCK', 'TRAP', '5-HT2AR', '5-HT1BR', 'PV', 'p11'], ['Munc13', 'C1', 'C2', 'synapse', 'calcium', 'DAG', 'C.\\\\xa0elegans', 'unc-13', 'fusion', 'priming'], ['neurotransmitter release', 'neuronal SNAREs', 'synaptotagmin', 'complexin', 'Munc13', 'Munc18', 'priming', 'plasticity'], ['Mena', 'ENAH', 'Ena/VASP', 'developing axon', 'growth cone', 'axon guidance', 'local translation', 'ribonucleoprotein', 'Dyrk1a'], ['Drosophila', 'development', 'neural circuit', 'plasticity', 'pathway-specific', 'nociceptive behavior', 'nociceptive circuit', 'sensory system', 'serotonin', 'presynaptic inhibition'], ['Parvalbumin interneurons', 'inhibitory circuitries', 'perineuronal nets', 'synapse maturation', 'AMPA receptors', 'Kv channels', 'learning and memory', 'plasticity', 'activity-dependent'], ['Hippocampus', 'CA3', 'CA2', 'recurrent collateral', 'mossy fiber', 'intrinsic excitability', 'input resistance', 'perforant path', 'pattern completion', 'contextual fear conditioning'], ['brainstem', 'facial nucleus', 'intersectional labeling', 'spinal trigeminal nuclei', 'touch', 'whisking'], ['mouse', 'motor cortex', 'channelrhodopsin', 'neural recording', 'neural dynamics'], ['Mixed selectivity', 'anterior intraparietal cortex', 'brain-machine interfaces', 'posterior parietal cortex', 'spinal cord injury', 'motor imagery', 'functional segregation'], ['event segmentation', 'fMRI', 'perception', 'memory', 'hippocampus', 'Hidden Markov Model', 'recall', 'narrative', 'situation model', 'event model', 'reinstatement'], ['frontotemporal lobar degeneration', 'dementia', 'Progranulin', 'TMEM106B', 'lysosome', 'retinal degradation', 'vacuolar ATPase'], ['TDP-43', 'Tardbp', 'Microglia', 'Phagocytosis', 'Synaptic Pruning', 'Synapse Loss', 'Amyloid', 'Clearance', 'Alzheimer’s Disease', 'Frontotemporal Lobar Degeneration', 'Amyotrophic Lateral Sclerosis'], ['VCAM1', 'neural stem cells', 'embryonic origin', 'forebrain development', 'self-renewal', 'pre-B1 cells', 'neurogenesis', 'stem cell maintenance', 'regeneration'], ['C.\\\\xa0elegans', 'autism', 'Neurexin', 'Neuroligin', 'CACNA2D', 'calcium channel', 'Mef2', 'synaptic transmission'], ['microglia', 'nucleus accumbens', 'ventral tegmental area', 'substantia nigra', 'density', 'morphology', 'electrophysiology', 'RNA sequencing', 'heterogeneity', 'development'], ['olfactory processing', 'Drosophila', 'mushroom body', 'cell-type specificity', 'synaptic integration', 'two-photon optogenetics', 'electrophysiology'], ['oxytocin', 'dopamine', 'VTA', 'SNc', 'PVN', 'parvocellular'], ['decision-making', 'accumulation of evidence', 'head restraint', 'drift diffusion model', 'calcium imaging', 'working memory', 'rodent', 'multiphoton fluorescence microscopy', 'neural coding', 'neocortex'], ['vestibular', 'optic flow', 'normalization', 'multisensory integration', 'self-motion', 'heading', 'macaque', 'extra-striate cortex', 'electrophysiology'], ['NREM sleep', 'contextual memory consolidation', 'sleep spindles', 'slow oscillations', 'sharp wave-ripples', 'closed-loop optogenetic', 'thalamic reticular nucleus', 'prefrontal cortex', 'hippocampus'], ['cortex', 'plasticity', 'visual motion', 'perceptual training', 'inactivation', 'decision making'], ['anterior cingulate cortex', 'reward', 'prediction error', 'prefrontal', 'action', 'outcome', 'ensemble', 'decoding'], ['association cortex', 'default network', 'frontoparietal network', 'dorsal attention network', 'memory', 'hippocampus', 'brain systems'], ['epilepsy', 'generalized seizure', 'optogenetics', 'subiculum', 'depolarized GABAergic signaling'], ['learning', 'social context', 'synaptic plasticity', 'IGF1', 'synaptotagmin', 'main olfactory bulb', 'mitral cell', 'long-term memory', 'LTP', 'dendrodendritic synapse'], ['pheromone', 'sexual dimorphism', 'sexual behavior', 'hypothalamus', 'amygdala', 'vomeronasal', 'innate behavior'], ['glucose metabolism', 'stress', 'stress-induced hyperglycemia', 'catecholaminergic neurons', 'ventrolateral medulla', 'hypothalamic paraventricular nucleus-ventrolateral medulla pathway'], ['prokineticin 2', 'galanin', 'sleep', 'circadian rhythm', 'masking', 'zebrafish'], ['conditioning', 'plasticity', 'extracellular matrix', 'auditory cortex', 'memory', 'Chondroitinase ABC', 'consolidation', 'perceptual learning', 'hearing', 'PTSD'], ['layer 6', 'auditory cortex', 'auditory thalamus', 'modulation', 'phase reset', 'delta rhythm', 'theta rhythm', 'oscillation', 'plasticity', 'medial geniculate body'], ['motor control', 'sensorimotor system', 'visuomotor feedback', 'brain-machine interface', 'motor cortex'], ['visual cortex', 'microstimulation', 'feedforward connections', 'feedback connections', 'figure ground', 'texture segregation', 'perceptual organization'], ['psychopathy', 'reward', 'self-control', 'delay discounting', 'functional connectivity', 'striatum', 'ventromedial prefrontal cortex', 'cortico-striatal', 'antisocial', 'value-based decision making'], ['Neuroprotection', 'glaucoma', 'RGC (retinal ganglion cell)', 'DLK (dual leucine zipper kinase)', 'cell death signaling', 'LZK (leucine zipper kinase)', 'RNAi screen'], ['synapse formation', 'spine stabilization', 'cell adhesion molecules', 'cadherin/catenin complex', 'synaptic transmission', 'presynaptic bouton', 'release probability', 'neural circuit', 'neocortex'], ['circadian physiology', 'Drosophila', 'calcium', 'neuropeptide', 'modulation'], ['action selection', 'escape behavior', 'Drosophila melanogaster', 'sensorimotor integration', 'visual features', 'parallel processing', 'motor', 'in\\\\xa0vivo electrophysiology', 'looming', 'giant fiber'], ['dopamine', 'dorsal raphe nucleus', 'ventral periaqueductal gray', 'arousal', 'salience', 'sleep-wake state', 'optogenetics', 'chemogenetics', 'fiber photometry', 'in\\\\xa0vivo optical imaging during behavior'], ['active sensation', 'sensory map', 'receptive field', 'barrel cortex', 'thalamus', 'whisker', 'electrophysiology', 'calcium imaging'], ['hippocampus', 'large-scale extracellular unit recording', 'theta oscillation', 'phase precession', 'episodic event sequences'], ['empathy', 'compassion', 'altruism', 'biomarker', 'prosocial'], ['Neuroprotection', 'glaucoma', 'RGC (retinal ganglion cell)', 'DLK (dual leucine zipper kinase)', 'cell death signaling', 'LZK (leucine zipper kinase)', 'RNAi screen'], ['synapse formation', 'spine stabilization', 'cell adhesion molecules', 'cadherin/catenin complex', 'synaptic transmission', 'presynaptic bouton', 'release probability', 'neural circuit', 'neocortex'], ['circadian physiology', 'Drosophila', 'calcium', 'neuropeptide', 'modulation'], ['action selection', 'escape behavior', 'Drosophila melanogaster', 'sensorimotor integration', 'visual features', 'parallel processing', 'motor', 'in\\\\xa0vivo electrophysiology', 'looming', 'giant fiber'], ['dopamine', 'dorsal raphe nucleus', 'ventral periaqueductal gray', 'arousal', 'salience', 'sleep-wake state', 'optogenetics', 'chemogenetics', 'fiber photometry', 'in\\\\xa0vivo optical imaging during behavior'], ['active sensation', 'sensory map', 'receptive field', 'barrel cortex', 'thalamus', 'whisker', 'electrophysiology', 'calcium imaging'], ['hippocampus', 'large-scale extracellular unit recording', 'theta oscillation', 'phase precession', 'episodic event sequences'], ['empathy', 'compassion', 'altruism', 'biomarker', 'prosocial'], ['neuronal polarity', 'cytoskeleton', 'microtubule stabilization', 'microtubule-associated proteins', 'palmitoylation', 'STOP', 'MAP6', 'α/β Hydrolase domain-containing protein (ABHD)'], ['synaptotagmin', 'synaptic transmission', 'neurotransmitter release', 'asynchronous release', 'calyx of Held', 'action potential', 'spike fidelity', 'neuronal computation', 'short-term plasticity'], ['NMDAR', 'D-serine', 'astrocytes', 'acetylcholine', 'α7nAChR', 'wakefulness', 'schizophrenia', 'EVP-6124', 'vigilance state', 'contextual guidance'], ['motor planning', 'short-term memory', 'persistent activity', 'motor cortex', 'gcamp', 'gcamp6', 'calcium', 'two-photon', 'decision'], ['wide-field calcium imaging', 'two-photon calcium imaging', 'motor learning', 'macroscopic cortical circuit', 'emergent properties', 'premotor cortex'], ['cortex', 'goal-directed behavior', 'calcium imaging', 'widefield', 'cell type', 'optogenetics'], ['Basal ganglia', 'Globus pallidus external segment', 'Striatum', 'Macaque monkey', 'Indirect pathway', 'Direct pathway', 'Decision-making', 'Long-term memory', 'Reward value', 'Visual object'], ['Tourette disorder', 'Tourette syndrome', 'de novo variants', 'whole-exome sequencing', 'gene discovery', 'TIC Genetics', 'TSAICG'], ['Neural development', 'neural stem cell', 'oligodendrocytes', 'interneurons', 'fractalkine'], ['neural stem cells', 'lineage', 'mosaic analysis with double markers', 'MADM', 'neurogenesis', 'gliogenesis', 'LGL1', 'EGFR', 'radial glia progenitor', 'RGP'], ['neurogenesis', 'cell migration', 'olfaction', 'schizophrenia', 'psychiatric disease', 'evolution', 'human', 'monkey', 'mouse', 'zebra finch'], ['retinoblastoma', 'epigenetics', 'DNA methylation', 'retinal development', 'rod photoreceptors', 'iPSCs', 'epigenetic memory'], ['Excitatory neurotransmission', 'neurodegenerative disease', 'glutamatergic signaling', 'glutamate receptor', 'cryo-electron microscopy', 'gating', 'desensitization', 'AMPA receptor', 'auxiliary subunit', 'synaptic complex'], ['blood-brain barrier', 'transcytosis', 'CNS endothelial cells', 'caveolae', 'DHA', 'lipid transport', 'Mfsd2a', 'Cav-1', 'blood vessels', 'lipidomic mass spectrometry'], ['Mitochondrial quality control', 'axonal mitochondria', 'mitochondrial transport', 'physiological stress', 'syntaphilin', 'AD', 'ALS', 'late endosome'], ['synapse', 'cell-adhesion molecule', 'synaptogenesis', 'interneuron', 'release probability', 'neuroligin', 'neurexin', 'cerebellum', 'autism', 'schizophrenia'], ['corticospinal circuits', 'motor cortex', 'spinal cord', 'muscles', 'corticospinal neurons', 'interneurons', 'motor neurons', 'activity-dependent synaptic reorganization', 'Bax/Bak-caspase signaling', 'skilled movements'], ['hippocampus', 'CA2', 'CA3', 'theta oscillation', 'ripple', 'spatial coding', 'place cell', 'tetanus toxin', 'DREADD'], ['neural coding', 'barrel cortex', 'primary afferents', 'proprioception', 'whisker system', 'somatosensation', 'perception', 'reafferent', 'active sensation', 'sensorimotor integration'], ['hippocampus', 'CA1', 'medial entorhinal', 'memory', 'temporal coding', 'object selectivity', 'theta'], ['neurodevelopment', 'RNA-binding protein', 'RNA processing', 'SFPQ', 'PSF', 'central nervous system', 'axonogenesis', 'motor neurons', 'amyotrophic lateral sclerosis', 'neurodegeneration'], ['axon regeneration', 'epigenetic DNA modification', 'dorsal root ganglion', 'DNA demethylation', 'Tet3', 'Tet1', 'TDG'], ['sensory neuron', 'dorsal root ganglion (DRG)', 'axonal transport', 'MAP2', 'KIF5', 'KIF1', 'cargo trafficking', 'microtubule', 'cytoskeleton'], ['graph theory', 'hippocampus', 'neocortex', 'contextual fear conditioning', 'functional connectivity', 'CA1', 'reuniens thalamic nucleus', 'lateral septal nucleus', 'laterodorsal thalamic nucleus', 'DREADDS'], ['Multiplexed-coding', 'spatial navigation', 'adaptive coding', 'tuning heterogeneity', 'entorhinal cortex', 'encoding mode', 'computational models of spatial coding'], ['amygdala', 'nucleus accumbens', 'optogenetics', 'single-unit recording', 'reward', 'food omission', 'frustration', 'aversion', 'paraventricular thalamus', 'food seeking'], ['metaplasticity', 'uncertainty', 'volatility', 'sub-optimality', 'decision making', 'reward', 'learning rate'], ['Huntington’s disease', 'C9ORF72', 'neurodegeneration', 'nucleocytoplasmic transport', 'nuclear pore complex', 'RAN translation', 'induced pluripotent stem cell', 'O-GlcNAc', 'Thiamet-G', 'KPT-350'], ['microsatellite repeat expansion diseases', 'SCA31', 'ALS', 'RNA foci', 'RAN translation', 'TDP-43', 'ribonucleoprotein', 'RNA chaperone', 'Drosophila melanogaster'], ['adult neurogenesis', 'hippocampus', 'GABAA receptor', 'stem cells', 'enriched environment', 'DBI knockout', 'neural proliferation', 'gamma2 F77I', 'ODN'], ['basal ganglia', 'lateral habenula', 'co-release', 'single cell sequencing', 'entopeduncular nucleus'], ['schizophrenia', 'ketamine', '22q11.2', 'visual cortex', 'parvalbumin', 'interneuron', 'gamma oscillations', 'attractor', 'two-photon', 'calcium imaging'], ['Drosophila', 'Neural Circuit', 'motion vision', 'directional selectivity', 'T4 neurons'], ['hippocampus', 'CA1', 'learning', 'memory', 'neuronal representation', 'prefrontal cortex', 'proactive interference', 'recall', 'retrieval'], ['behavior', 'memory', 'MEG', 'theta oscillation', 'EEG', 'brain networks', 'auditory processing', 'rhythmic transcranial magnetic stimulation'], ['ECoG', 'epilepsy', 'hippocampus', 'intracranial EEG', 'neural oscillations', 'odor perception', 'olfactory system', 'piriform cortex', 'theta', 'phase locking'], ['Reelin', 'CLASP2', 'cytoskeleton', 'cortical development', 'plus-end', 'GSK3beta', 'microtubule'], ['retina', 'vision', 'synaptogenesis', 'wiring', 'circuit formation', 'calcium channels', 'synaptic transmission', 'trans-synaptic interactions', 'cell adhesion', 'ribbon synapse'], ['Drosophila melanogaster', 'neuromuscular junction', 'optical quantal analysis', 'homeostatic plasticity', 'input-specific plasticity', 'short-term plasticity', 'release probability', 'CaMKII'], ['glutamate receptor', 'long-term potentiation', 'recycling endosomes', 'structural plasticity', 'neuronal connectivity', 'intellectual disability', 'neurodevelopmental disorder', 'GRIP1', 'syntaxin13', 'glutamate uncaging'], ['astrocytic-neuronal interactions', 'calcium oscillations', 'membrane potential oscillations', 'circadian', 'SCN', 'extracellular glutamate', 'NMDAR2C', 'GABA', 'circuit synchronization', 'circadian behavior'], ['basal ganglia', 'dopamine', 'striatum', 'action selection', 'fast-scan cyclic voltammetry', 'electrophysiology', 'optogenetics', 'direct and indirect pathway', 'conditional knockout', 'network model'], ['striatum', 'parvalbumin interneurons', 'disynaptic inhibition', 'reward conditioning', 'learning', 'neural recording', 'optogenetics'], ['central amygdala', 'basolateral amygdala', 'direct and indirect pathways', 'appetitive', 'reward', 'fear', 'amygdala circuit', 'feeding', 'drinking', 'freezing'], ['place cells', 'grid cells', 'remapping', 'hippocampus', 'medial entorhinal cortex', 'spatial memory', 'chemogenetic', 'transgenic'], ['motor adaptation', 'sensorimotor learning', 'force field adaptation', 'mouse', 'primary somatosensory cortex', 'sensory prediction error', 'optogenetics'], ['prefrontal cortex', 'lateral intraparietal cortex', 'recurrent neural network', 'delayed match-to-category task', 'hessian-free algorithm', 'decision making', 'working memory', 'PFC', 'LIP', 'category learning'], ['Alzheimer’s disease', 'chimeric mouse', 'neurodegeneration', 'human neurons', 'pluripotent stem cells', 'cell death', 'dystrophic neurites', 'modeling', 'expression analysis'], ['axon regeneration', '14-3-3', 'fusicoccin', 'PPI stabilizer', 'optic nerve', 'CNS injury', 'spinal cord injury', 'GCN1', 'GCN2', 'stress response'], ['genomic imprinting', 'random monoallelic expression', 'brain epigenetics', 'autism', 'behavioral genetics', 'transcriptome', 'allele-specific expression', 'mental illness', 'monoallelic', 'brain development'], ['retinal axon decussation', 'axon guidance', 'transcription factor', 'Notch1', 'Hes5', 'Plexin-A1', 'Nr-CAM'], ['AMPA receptor', 'glutamate', 'kainate', 'TARP', 'Stargazin', 'gating mechanism', 'ion-channel', 'desensitization'], ['absence epilepsy', 'seizure', 'thalamocortical oscillations', 'hypersynchrony', 'optogenetics', 'RNAi', 'thalamic reticular nucleus', 'thalamic inhibition', 'voltage-gated sodium channel'], ['olfaction', 'piriform cortex', 'cortical amygdala', 'innate', 'population coding', 'innate behavior', 'sensory tuning'], ['Population coding', 'cell assemblies', 'associative learning', 'experience-dependent plasticity', 'pattern separation', 'sensory representation', 'olfaction', 'olfactory bulb', 'two-photon imaging', 'genetically encoded calcium indicator'], ['oscillations', 'phase precession', 'memory recall', 'memory encoding', 'place coding', 'temporal coding', 'cross-frequency coupling', 'phase coupling', 'inhibition', 'high-density recordings'], ['resting state', 'brain networks', 'dynamics', 'memory', 'mnemonic', 'cognitive training', 'method of loci', 'memory sports', 'memory championships'], ['radial glial cells', 'short neural precursor', 'adult neural stem cells', 'SEZ', 'Insc', 'Lgn', 'division plane'], ['motor neuron', 'spinal cord', 'cell identity', 'development', 'Hox proteins', 'retinoid signaling', 'digits', 'motor control'], ['FGF13', 'sensory neuron', 'heat nociception', 'sodium channel', 'brain imaging', 'thermosensor'], ['RVM', 'spinal cord', 'GABA', 'endogenous opioid enkephalin', 'presynaptic inhibition', 'pain facilitation', 'in\\\\xa0vivo spinal optogenetics', 'DREADD', 'opioid receptors', 'viral circuit tracing'], ['pain', 'itch', 'spinal cord', 'gate control', 'Grp+ neuron', 'leaky gate', 'neural circuit'], ['neurotransmission', 'synaptic vesicles', 'endocytosis', 'kinetics', 'recycling', 'clathrin', 'actin', 'formin', 'hippocampus', 'calyx of Held'], ['Ca2+ imaging', 'low affinity Ca2+ indicator', 'presynaptic endoplasmic reticulum', 'GCaMP6', 'STIM1', 'ER-GCaMP'], ['synaptojanin 1', 'PARK20', 'auxilin', 'PARK19', 'Parkin', 'PARK2', 'synaptic vesicle endocytosis', 'nigrostriatal pathway', 'neurodegeneration', 'PI(4', '5)P2', 'LRRK2'], ['Bassoon', 'Piccolo', 'active zones', 'presynapse', 'Atg5', 'synaptic autophagy', 'synaptic proteostasis', 'synaptic vesicles'], ['habenula', 'light-preference behavior', 'retinal ganglion cell', 'eminentia thalami', 'thigmotaxis', 'asymmetry', 'in\\\\xa0vivo imaging', 'in\\\\xa0vivo electrophysiological recording', 'zebrafish'], ['operant conditioning', 'two-photon imaging', 'optogenetic stimulation', 'neuroprosthetics', 'motor learning', 'in cerebro learning', 'brain-machine interface', 'artificial feedback'], ['multisensory integration', 'sensory conflict', 'posterior parietal cortex', 'visual cortex', 'auditory cortex', 'feedforward inhibition', 'artificial perception', 'parvalbumin-positive interneuron', 'sensory discrimination', 'perception'], ['brain-machine interface', 'neuroprosthetic learning', 'motor learning', 'dimensionality reduction', 'neural variability'], ['Auditory Space', 'Auditory Cortex', 'Functional MRI', 'Macaque monkey'], ['adult neurogenesis', 'aging', 'stem cells', 'metabolism', 'mitochondria'], ['microglia', 'phosphatidylserine', 'TAM receptor', 'phagocytosis', 'adenovirus', 'infection', 'two-photon imaging', 'calcium', 'phospholipid scramblase 1', 'astrocytes'], ['astrocyte', 'calcium', 'microdomain', 'mitochondria', 'cortex', 'in\\\\xa0vivo', 'two-photon', 'metabolism', 'ATP'], ['GLUT4', 'glucose transport', 'glycolysis', 'neuronal metabolism', 'vesicle cycle', 'presynaptic function'], ['synaptic vesicle endocytosis', 'endocytosis', 'synaptic vesicle recycling', 'synaptotagmin-1', 'synaptotagmin-7', 'complexin', 'synchronous release', 'asynchronous release', 'single-vesicle imaging', 'calcium regulation of endocytosis'], ['dendrite', 'synapse', 'Drosophila', 'motoneuron', 'development', 'competition', 'excitation inhibition balance', 'flight', 'GABA', 'acetylcholine'], ['optogenetics', 'AMPA receptor', 'synapse', 'plasticity', 'LTP', 'cryptochrome', 'CRY2', 'CaMKII', 'PSD', 'GluA1'], ['evolution', 'adaptation', 'Drosophila melanogaster', 'Drosophila sechellia', 'olfaction', 'behavior', 'neuron', 'neural circuit', 'odorant receptor', 'ionotropic glutamate receptor'], ['dentate gyrus', 'hilus', 'granule cell', 'mossy cell', 'pattern separation'], ['Dentate gyrus', 'granule cell', 'mossy cell', 'pattern separation', 'theta', 'gamma', 'spatial behavior', 'place cells', 'facilitating synapse', 'monosynaptic connections'], ['decision-making', 'neuroeconomics', 'functional magnetic resonance imaging', 'risk', 'value', 'ventromedial prefrontal cortex', 'anterior cingulate cortex'], ['neurodegeneration', 'microsatellite expansion', 'RAN translation', 'near-cognate codon'], ['Nipbl', 'Zfp609', 'Cornelia de Lange syndrome', 'Integrator', 'neuronal migration', 'transcription', 'RNA pol2 pausing'], ['long noncoding RNA', 'myelination', 'remyelination', 'chromatin remodeling', 'neural precursors', 'OPC', 'oligodendrocyte differentiation', 'functional genomics', 'polycomb repressive complex', 'EZH2'], ['TAOK2', 'kinase signaling', 'Septin7', 'dendritic spine', 'chemical genetics', 'neurodevelopment', 'postsynaptic stability'], ['spike timing-dependent plasticity', 'SAP97', 'Kv1.1', 'β-adrenoceptor', 'dendritic excitability', 'signaling scaffold', 'hippocampus'], ['learning', 'cerebellum', 'Purkinje cell', 'synapse', 'LTP', 'AMPA receptor', 'GluA3', 'Epac'], ['dopamine', 'fear', 'memory', 'synaptic plasticity'], ['whole-cell', 'patch clamp', 'in\\\\xa0vivo', 'thalamus', 'subcortical', 'automation', 'autopatcher'], ['reinforcement learning', 'attention', 'decision making', 'computational modeling', 'MVPA', 'fMRI', 'vmPFC', 'striatum', 'value', 'prediction error'], ['spinal muscular atrophy', 'SMN', 'long non-coding RNA', 'antisense oligonucleotides', 'SMA therapeutics'], ['neuron diversification', 'motor neuron', 'neuron subtype', 'selective repression', 'combinatorial code', 'transcription factor', 'terminal selector', 'repressor', 'maintenance', 'C.\\\\xa0elegans'], ['Huntington disease', 'huntingtin', 'cortical development', 'multipolar-bipolar transition', 'polarization', 'migration', 'trafficking', 'neuronal morphology', 'RAB11', 'N-cadherin'], ['metabolism', 'alpha-ketoglutarate', 'mitochondrial chaperones', 'TCA cycle', 'OGDHL', 'NRD1', 'DNAJA3', 'autophagy', 'rapamycin'], ['lysosome', 'calcium', 'synaptic plasticity', 'structural plasticity', 'long-term potentiation', 'MMP-9', 'TIMP-1', 'back-propagating action potentials', 'dendritic spines', 'hippocampus'], ['GABA', 'glutamate', 'amygdala', 'hippocampus', 'dynorphin', 'hypothalamus', 'electrophysiology'], ['fear', 'threat', 'CRF', 'plasticity', 'central amygdala', 'differential fear conditioning', 'circuits', 'GABA', 'LTP'], ['pinprick pain', 'acute pain', 'nociceptor', 'gate control theory', 'Npy2r', 'MafA', 'A-fiber mechanonociceptors', 'optogenetics', 'primary afferent', 'dorsal root ganglion'], ['epilepsy', 'thalamocortical', 'optogenetics', 'closed-loop', 'electrophysiology', 'oscillations', 'SSFO', 'bursts'], ['intrinsic plasticity', 'vestibular', 'optokinetic', 'calcium-dependent potassium', 'calcium-activated', 'vestibulo-ocular reflex', 'firing rate potentiation'], ['LIP', 'surround suppression', 'attention', 'network dynamics', 'model'], ['attention', 'laminar circuit', 'area V4']]\n"
     ]
    }
   ],
   "source": [
    "#将每篇paper的keywords由str转换为list，并放在一个大的list中\n",
    "\n",
    "i = 0\n",
    "full_lst=[]\n",
    "\n",
    "while i < len(df):\n",
    "    str_to_lst=df['keywords'][i].replace('[','').replace(\"]\",\"\").replace(\"'\",\"\").split(\",\")\n",
    "    new_str_to_lst=[]\n",
    "    for x in str_to_lst:\n",
    "        del_gap=x.strip()\n",
    "        if del_gap:\n",
    "            new_str_to_lst.append(del_gap)\n",
    "#     print(new_str_to_lst)\n",
    "    full_lst.append(new_str_to_lst)\n",
    "    i += 1\n",
    "print(full_lst)"
   ]
  },
  {
   "cell_type": "code",
   "execution_count": 9,
   "metadata": {},
   "outputs": [],
   "source": [
    "#将full_lst放到Series一维数组\n",
    "df1=pd.Series(full_lst)\n",
    "#再转成DataFrame二维数组\n",
    "df2=pd.DataFrame(df1)"
   ]
  },
  {
   "cell_type": "code",
   "execution_count": 10,
   "metadata": {},
   "outputs": [
    {
     "data": {
      "text/html": [
       "<div>\n",
       "<style scoped>\n",
       "    .dataframe tbody tr th:only-of-type {\n",
       "        vertical-align: middle;\n",
       "    }\n",
       "\n",
       "    .dataframe tbody tr th {\n",
       "        vertical-align: top;\n",
       "    }\n",
       "\n",
       "    .dataframe thead th {\n",
       "        text-align: right;\n",
       "    }\n",
       "</style>\n",
       "<table border=\"1\" class=\"dataframe\">\n",
       "  <thead>\n",
       "    <tr style=\"text-align: right;\">\n",
       "      <th></th>\n",
       "      <th>keyword</th>\n",
       "    </tr>\n",
       "  </thead>\n",
       "  <tbody>\n",
       "    <tr>\n",
       "      <th>0</th>\n",
       "      <td>[glutamate, iGluR, NMDA receptor, auxiliary pr...</td>\n",
       "    </tr>\n",
       "    <tr>\n",
       "      <th>1</th>\n",
       "      <td>[CiVDS, CA dependent secretion, CaV2.2, N-type...</td>\n",
       "    </tr>\n",
       "    <tr>\n",
       "      <th>2</th>\n",
       "      <td>[medium spiny neurons, nucleus accumbens, self...</td>\n",
       "    </tr>\n",
       "    <tr>\n",
       "      <th>3</th>\n",
       "      <td>[medial septum, inhibition, theta oscillations...</td>\n",
       "    </tr>\n",
       "    <tr>\n",
       "      <th>4</th>\n",
       "      <td>[Drosophila, EM circuit mapping, somatosensati...</td>\n",
       "    </tr>\n",
       "  </tbody>\n",
       "</table>\n",
       "</div>"
      ],
      "text/plain": [
       "                                             keyword\n",
       "0  [glutamate, iGluR, NMDA receptor, auxiliary pr...\n",
       "1  [CiVDS, CA dependent secretion, CaV2.2, N-type...\n",
       "2  [medium spiny neurons, nucleus accumbens, self...\n",
       "3  [medial septum, inhibition, theta oscillations...\n",
       "4  [Drosophila, EM circuit mapping, somatosensati..."
      ]
     },
     "execution_count": 10,
     "metadata": {},
     "output_type": "execute_result"
    }
   ],
   "source": [
    "#添加列名称keyword\n",
    "df2.columns=['keyword']\n",
    "df2[:5]"
   ]
  },
  {
   "cell_type": "code",
   "execution_count": 11,
   "metadata": {},
   "outputs": [
    {
     "data": {
      "text/html": [
       "<div>\n",
       "<style scoped>\n",
       "    .dataframe tbody tr th:only-of-type {\n",
       "        vertical-align: middle;\n",
       "    }\n",
       "\n",
       "    .dataframe tbody tr th {\n",
       "        vertical-align: top;\n",
       "    }\n",
       "\n",
       "    .dataframe thead th {\n",
       "        text-align: right;\n",
       "    }\n",
       "</style>\n",
       "<table border=\"1\" class=\"dataframe\">\n",
       "  <thead>\n",
       "    <tr style=\"text-align: right;\">\n",
       "      <th></th>\n",
       "      <th>indi_keyword</th>\n",
       "    </tr>\n",
       "  </thead>\n",
       "  <tbody>\n",
       "    <tr>\n",
       "      <th>0</th>\n",
       "      <td>glutamate</td>\n",
       "    </tr>\n",
       "    <tr>\n",
       "      <th>0</th>\n",
       "      <td>iGluR</td>\n",
       "    </tr>\n",
       "    <tr>\n",
       "      <th>0</th>\n",
       "      <td>NMDA receptor</td>\n",
       "    </tr>\n",
       "    <tr>\n",
       "      <th>0</th>\n",
       "      <td>auxiliary protein</td>\n",
       "    </tr>\n",
       "    <tr>\n",
       "      <th>0</th>\n",
       "      <td>receptor desensitization</td>\n",
       "    </tr>\n",
       "  </tbody>\n",
       "</table>\n",
       "</div>"
      ],
      "text/plain": [
       "               indi_keyword\n",
       "0                 glutamate\n",
       "0                     iGluR\n",
       "0             NMDA receptor\n",
       "0         auxiliary protein\n",
       "0  receptor desensitization"
      ]
     },
     "execution_count": 11,
     "metadata": {},
     "output_type": "execute_result"
    }
   ],
   "source": [
    "#为keyword每个单元格中的列表的每个元素创建一行，列并命名为indi_keyword\n",
    "df3=df2.apply(lambda x : pd.Series(x['keyword']),axis=1).stack().reset_index(level=1,drop=True)\n",
    "df3.name='indi_keyword'\n",
    "data=df2.drop('keyword',axis=1).join(df3)\n",
    "data[:5]"
   ]
  },
  {
   "cell_type": "code",
   "execution_count": 12,
   "metadata": {},
   "outputs": [
    {
     "data": {
      "text/plain": [
       "hippocampus          32\n",
       "optogenetics         15\n",
       "plasticity           12\n",
       "electrophysiology    11\n",
       "dopamine             11\n",
       "Name: indi_keyword, dtype: int64"
      ]
     },
     "execution_count": 12,
     "metadata": {},
     "output_type": "execute_result"
    }
   ],
   "source": [
    "#统计每个indi_keyword出现的次数\n",
    "data_count=data['indi_keyword'].value_counts()\n",
    "data_count[:5]"
   ]
  },
  {
   "cell_type": "code",
   "execution_count": 13,
   "metadata": {},
   "outputs": [
    {
     "data": {
      "text/html": [
       "<div>\n",
       "<style scoped>\n",
       "    .dataframe tbody tr th:only-of-type {\n",
       "        vertical-align: middle;\n",
       "    }\n",
       "\n",
       "    .dataframe tbody tr th {\n",
       "        vertical-align: top;\n",
       "    }\n",
       "\n",
       "    .dataframe thead th {\n",
       "        text-align: right;\n",
       "    }\n",
       "</style>\n",
       "<table border=\"1\" class=\"dataframe\">\n",
       "  <thead>\n",
       "    <tr style=\"text-align: right;\">\n",
       "      <th></th>\n",
       "      <th>num_kw</th>\n",
       "      <th>No.</th>\n",
       "      <th>info</th>\n",
       "    </tr>\n",
       "  </thead>\n",
       "  <tbody>\n",
       "    <tr>\n",
       "      <th>hippocampus</th>\n",
       "      <td>32</td>\n",
       "      <td>1</td>\n",
       "      <td>neuron 2017</td>\n",
       "    </tr>\n",
       "    <tr>\n",
       "      <th>optogenetics</th>\n",
       "      <td>15</td>\n",
       "      <td>2</td>\n",
       "      <td>neuron 2017</td>\n",
       "    </tr>\n",
       "    <tr>\n",
       "      <th>plasticity</th>\n",
       "      <td>12</td>\n",
       "      <td>3</td>\n",
       "      <td>neuron 2017</td>\n",
       "    </tr>\n",
       "    <tr>\n",
       "      <th>electrophysiology</th>\n",
       "      <td>11</td>\n",
       "      <td>4</td>\n",
       "      <td>neuron 2017</td>\n",
       "    </tr>\n",
       "    <tr>\n",
       "      <th>dopamine</th>\n",
       "      <td>11</td>\n",
       "      <td>5</td>\n",
       "      <td>neuron 2017</td>\n",
       "    </tr>\n",
       "  </tbody>\n",
       "</table>\n",
       "</div>"
      ],
      "text/plain": [
       "                   num_kw  No.         info\n",
       "hippocampus            32    1  neuron 2017\n",
       "optogenetics           15    2  neuron 2017\n",
       "plasticity             12    3  neuron 2017\n",
       "electrophysiology      11    4  neuron 2017\n",
       "dopamine               11    5  neuron 2017"
      ]
     },
     "execution_count": 13,
     "metadata": {},
     "output_type": "execute_result"
    }
   ],
   "source": [
    "#存入DF二维格式\n",
    "df_kw=pd.DataFrame(data_count)\n",
    "#添加列名称\n",
    "df_kw.columns=['num_kw']\n",
    "#添加No.列\n",
    "df_kw['No.']=range(1,len(df_kw)+1)\n",
    "#添加info列\n",
    "df_kw['info']='neuron 2017'\n",
    "#查看\n",
    "df_kw[:5]"
   ]
  },
  {
   "cell_type": "code",
   "execution_count": 14,
   "metadata": {},
   "outputs": [],
   "source": [
    "#保存数据\n",
    "df_kw.to_csv('2017neuron_kw.csv')"
   ]
  },
  {
   "cell_type": "code",
   "execution_count": null,
   "metadata": {},
   "outputs": [],
   "source": []
  }
 ],
 "metadata": {
  "kernelspec": {
   "display_name": "Python 3",
   "language": "python",
   "name": "python3"
  },
  "language_info": {
   "codemirror_mode": {
    "name": "ipython",
    "version": 3
   },
   "file_extension": ".py",
   "mimetype": "text/x-python",
   "name": "python",
   "nbconvert_exporter": "python",
   "pygments_lexer": "ipython3",
   "version": "3.7.1"
  }
 },
 "nbformat": 4,
 "nbformat_minor": 2
}
