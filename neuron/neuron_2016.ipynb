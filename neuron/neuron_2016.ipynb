{
 "cells": [
  {
   "cell_type": "code",
   "execution_count": 1,
   "metadata": {},
   "outputs": [],
   "source": [
    "import numpy as np\n",
    "import pandas as pd\n",
    "import csv"
   ]
  },
  {
   "cell_type": "code",
   "execution_count": 2,
   "metadata": {},
   "outputs": [
    {
     "data": {
      "text/html": [
       "<div>\n",
       "<style scoped>\n",
       "    .dataframe tbody tr th:only-of-type {\n",
       "        vertical-align: middle;\n",
       "    }\n",
       "\n",
       "    .dataframe tbody tr th {\n",
       "        vertical-align: top;\n",
       "    }\n",
       "\n",
       "    .dataframe thead th {\n",
       "        text-align: right;\n",
       "    }\n",
       "</style>\n",
       "<table border=\"1\" class=\"dataframe\">\n",
       "  <thead>\n",
       "    <tr style=\"text-align: right;\">\n",
       "      <th></th>\n",
       "      <th>Phosphodiesterase 10A Inhibition Improves Cortico-Basal Ganglia Function in Huntington’s Disease Models</th>\n",
       "      <th>['Q175', 'R6/2', 'PDE10A', 'corticostriatal', 'subthalamic nucleus', 'cAMP', 'cGMP', 'cyclic nucleotide', 'PF-02545920', 'MP-10']</th>\n",
       "      <th>Published:</th>\n",
       "    </tr>\n",
       "  </thead>\n",
       "  <tbody>\n",
       "    <tr>\n",
       "      <th>0</th>\n",
       "      <td>Functional Genomic Analyses of Mendelian and S...</td>\n",
       "      <td>['dystonia', 'stress signaling', 'regulation o...</td>\n",
       "      <td>Published:</td>\n",
       "    </tr>\n",
       "    <tr>\n",
       "      <th>1</th>\n",
       "      <td>Expression of Terminal Effector Genes in Mamma...</td>\n",
       "      <td>['enhancer organization', 'genome-wide mapping...</td>\n",
       "      <td>Published:</td>\n",
       "    </tr>\n",
       "    <tr>\n",
       "      <th>2</th>\n",
       "      <td>Targeted Intron Retention and Excision for Rap...</td>\n",
       "      <td>['splicing', 'synapse', 'immediate early gene'...</td>\n",
       "      <td>DOI:</td>\n",
       "    </tr>\n",
       "    <tr>\n",
       "      <th>3</th>\n",
       "      <td>SHANK3 Deficiency Impairs Heat Hyperalgesia an...</td>\n",
       "      <td>['autism spectrum disorders', 'ASD', 'capsaici...</td>\n",
       "      <td>Published:</td>\n",
       "    </tr>\n",
       "    <tr>\n",
       "      <th>4</th>\n",
       "      <td>The Mammalian-Specific Protein Armcx1 Regulate...</td>\n",
       "      <td>['axonal regeneration', 'mitochondria', 'axona...</td>\n",
       "      <td>DOI:</td>\n",
       "    </tr>\n",
       "  </tbody>\n",
       "</table>\n",
       "</div>"
      ],
      "text/plain": [
       "  Phosphodiesterase 10A Inhibition Improves Cortico-Basal Ganglia Function in Huntington’s Disease Models  \\\n",
       "0  Functional Genomic Analyses of Mendelian and S...                                                        \n",
       "1  Expression of Terminal Effector Genes in Mamma...                                                        \n",
       "2  Targeted Intron Retention and Excision for Rap...                                                        \n",
       "3  SHANK3 Deficiency Impairs Heat Hyperalgesia an...                                                        \n",
       "4  The Mammalian-Specific Protein Armcx1 Regulate...                                                        \n",
       "\n",
       "  ['Q175', 'R6/2', 'PDE10A', 'corticostriatal', 'subthalamic nucleus', 'cAMP', 'cGMP', 'cyclic nucleotide', 'PF-02545920', 'MP-10']  \\\n",
       "0  ['dystonia', 'stress signaling', 'regulation o...                                                                                  \n",
       "1  ['enhancer organization', 'genome-wide mapping...                                                                                  \n",
       "2  ['splicing', 'synapse', 'immediate early gene'...                                                                                  \n",
       "3  ['autism spectrum disorders', 'ASD', 'capsaici...                                                                                  \n",
       "4  ['axonal regeneration', 'mitochondria', 'axona...                                                                                  \n",
       "\n",
       "   Published:  \n",
       "0  Published:  \n",
       "1  Published:  \n",
       "2        DOI:  \n",
       "3  Published:  \n",
       "4        DOI:  "
      ]
     },
     "execution_count": 2,
     "metadata": {},
     "output_type": "execute_result"
    }
   ],
   "source": [
    "df=pd.read_csv('neuron_data_v92to89_2016.csv')\n",
    "df[:5]"
   ]
  },
  {
   "cell_type": "code",
   "execution_count": 4,
   "metadata": {},
   "outputs": [
    {
     "data": {
      "text/html": [
       "<div>\n",
       "<style scoped>\n",
       "    .dataframe tbody tr th:only-of-type {\n",
       "        vertical-align: middle;\n",
       "    }\n",
       "\n",
       "    .dataframe tbody tr th {\n",
       "        vertical-align: top;\n",
       "    }\n",
       "\n",
       "    .dataframe thead th {\n",
       "        text-align: right;\n",
       "    }\n",
       "</style>\n",
       "<table border=\"1\" class=\"dataframe\">\n",
       "  <thead>\n",
       "    <tr style=\"text-align: right;\">\n",
       "      <th></th>\n",
       "      <th>paper title</th>\n",
       "      <th>keywords</th>\n",
       "      <th>publish_date</th>\n",
       "    </tr>\n",
       "  </thead>\n",
       "  <tbody>\n",
       "    <tr>\n",
       "      <th>0</th>\n",
       "      <td>Functional Genomic Analyses of Mendelian and S...</td>\n",
       "      <td>['dystonia', 'stress signaling', 'regulation o...</td>\n",
       "      <td>Published:</td>\n",
       "    </tr>\n",
       "    <tr>\n",
       "      <th>1</th>\n",
       "      <td>Expression of Terminal Effector Genes in Mamma...</td>\n",
       "      <td>['enhancer organization', 'genome-wide mapping...</td>\n",
       "      <td>Published:</td>\n",
       "    </tr>\n",
       "    <tr>\n",
       "      <th>2</th>\n",
       "      <td>Targeted Intron Retention and Excision for Rap...</td>\n",
       "      <td>['splicing', 'synapse', 'immediate early gene'...</td>\n",
       "      <td>DOI:</td>\n",
       "    </tr>\n",
       "    <tr>\n",
       "      <th>3</th>\n",
       "      <td>SHANK3 Deficiency Impairs Heat Hyperalgesia an...</td>\n",
       "      <td>['autism spectrum disorders', 'ASD', 'capsaici...</td>\n",
       "      <td>Published:</td>\n",
       "    </tr>\n",
       "    <tr>\n",
       "      <th>4</th>\n",
       "      <td>The Mammalian-Specific Protein Armcx1 Regulate...</td>\n",
       "      <td>['axonal regeneration', 'mitochondria', 'axona...</td>\n",
       "      <td>DOI:</td>\n",
       "    </tr>\n",
       "  </tbody>\n",
       "</table>\n",
       "</div>"
      ],
      "text/plain": [
       "                                         paper title  \\\n",
       "0  Functional Genomic Analyses of Mendelian and S...   \n",
       "1  Expression of Terminal Effector Genes in Mamma...   \n",
       "2  Targeted Intron Retention and Excision for Rap...   \n",
       "3  SHANK3 Deficiency Impairs Heat Hyperalgesia an...   \n",
       "4  The Mammalian-Specific Protein Armcx1 Regulate...   \n",
       "\n",
       "                                            keywords publish_date  \n",
       "0  ['dystonia', 'stress signaling', 'regulation o...   Published:  \n",
       "1  ['enhancer organization', 'genome-wide mapping...   Published:  \n",
       "2  ['splicing', 'synapse', 'immediate early gene'...         DOI:  \n",
       "3  ['autism spectrum disorders', 'ASD', 'capsaici...   Published:  \n",
       "4  ['axonal regeneration', 'mitochondria', 'axona...         DOI:  "
      ]
     },
     "execution_count": 4,
     "metadata": {},
     "output_type": "execute_result"
    }
   ],
   "source": [
    "#添加每列字段并查看\n",
    "df.columns=['paper title','keywords','publish_date']\n",
    "df[:5]"
   ]
  },
  {
   "cell_type": "code",
   "execution_count": 6,
   "metadata": {},
   "outputs": [
    {
     "name": "stdout",
     "output_type": "stream",
     "text": [
      "[['dystonia', 'stress signaling', 'regulation of translation'], ['enhancer organization', 'genome-wide mapping', 'ChIP-exo', 'ATAC-seq', 'CRISPR genome engineering', 'postmitotic motor neurons', 'neuronal maturation', 'terminal effector genes', 'mouse embryonic stem cells', 'Neurogenin 2'], ['splicing', 'synapse', 'immediate early gene', 'plasticity', 'intron retention', 'NMDA receptor', 'Ca2+/calmodulin-dependent protein kinase', 'CaMK', 'activity-dependent gene expression'], ['autism spectrum disorders', 'ASD', 'capsaicin', 'dorsal root ganglion', 'DRG', 'heat hyperalgesia', 'human sensory neurons', 'mice', 'primary sensory neurons', 'SHANK3', 'spinal cord dorsal horn', 'TRPV1'], ['axonal regeneration', 'mitochondria', 'axonal transport', 'retinal ganglion cells', 'optic nerve'], ['axon regeneration', 'mitochondria', 'DLK-1', 'C.\\\\xa0elegans', 'MIRO'], ['ionotropic glutamate receptors', 'N-methyl-D-aspartate receptors', 'crystal structure', 'subtype specificity', 'zinc inhibition', 'amino-terminal domain', 'ifenprodil'], ['microRNA', 'network development', 'GABA switch', 'NKCC1', 'hyper-excitability', 'miR-101', 'excitation/inhibition (E/I)', 'synaptogenesis', 'target-site blockers', 'neurodevelopmental disorders'], ['transplantation', 'amygdala', 'embryonic interneuron', 'fear extinction', 'fear recovery', 'synaptic plasticity', 'immature neuron'], ['motor cortex', 'whisker motor control', 'movement initiation', 'motor coding', 'sensorimotor integration', 'optogenetics', 'whole-cell recording', 'membrane potential', 'multisite silicon probe recording', 'action potential'], ['dyslexia', 'adaptation', 'neuroimaging', 'repetition suppression', 'developmental disorder', 'speech', 'reading', 'human', 'language'], ['decision-making', 'variability', 'computational models', 'probabilistic inference'], ['axon degeneration', 'axon pruning', 'cell death', 'neurotrophin', 'NGF', 'Puma', 'Dusp16', 'p53'], ['rapsyn', 'AChR', 'RING domain', 'neddylation', 'E3 ligase'], ['Drosophila', 'glutamate receptors', 'NMDA', 'AP5', 'crystal structures'], ['decision making', 'multisensory integration', 'C.\\\\xa0elegans', 'neural circuits', 'metabolism', 'neuromodulation'], ['motor control', 'spinal cord', 'locomotion', 'posture', 'interlimb coordination', 'genetic identity'], ['sensory coding', 'temperature representation', 'TRP channels', 'warmth sensing', 'injury', 'changes in peripheral coding'], ['cortical networks', 'dynamics', 'balance', 'adaptation', 'inhibition', 'homeostatic plasticity'], ['perception', 'magnetoencephalography', 'visual awareness', 'subliminal', 'decoding', 'machine learning', 'working memory', 'backward masking', 'temporal generalization', 'attention'], ['social hierarchy', 'memory', 'learning', 'prefrontal cortex', 'hippocampus', 'Bayesian', 'reinforcement learning'], ['tau', 'tauopathy', 'prion', 'prion-like', 'transcellular propagation', 'strain', 'tau pathology', 'seeding activity', 'cell model'], ['Wdr62', 'Aspm', 'maternal centriole', 'apical complex'], ['synapse elimination', 'neuromuscular junction', 'axonal transport', 'microtubule', 'cytoskeleton'], ['kinesin', 'KIF21B', 'dendrite', 'TrkB', 'BDNF', 'microtubules'], ['prefrontal cortex', 'interneuron', 'parvalbumin', 'somatostatin', 'working memory', 'optogenetics', 'physiology', 'mice', 'reward', 'animal'], ['tau', 'tauopathy', 'prion', 'prion-like', 'transcellular propagation', 'strain', 'tau pathology', 'seeding activity', 'cell model'], ['Wdr62', 'Aspm', 'maternal centriole', 'apical complex'], ['synapse elimination', 'neuromuscular junction', 'axonal transport', 'microtubule', 'cytoskeleton'], ['kinesin', 'KIF21B', 'dendrite', 'TrkB', 'BDNF', 'microtubules'], ['prefrontal cortex', 'interneuron', 'parvalbumin', 'somatostatin', 'working memory', 'optogenetics', 'physiology', 'mice', 'reward', 'animal'], ['tau levels', 'neurodegeneration', 'tau phosphorylation', 'Nuak1'], ['Cajal-Retzius cells', 'neocortex', 'olfactory cortex', 'marginal zone', 'layer 1', 'migration', 'NMDA receptors', 'interneurons', 'E/I ratio'], ['microtubule', 'axonal transport', 'dynein', 'kinesin', 'microtubule dynamics', 'microtubule organization', 'microtubule length', 'C.\\\\xa0elegans'], ['super-resolution microscopy', 'ion channels', 'A-kinase anchoring proteins', 'potassium channels'], ['synaptic plasticity', 'presynaptic', 'endocannabinoid', 'CB1 receptor', 'LTD', 'GABA', 'interneuron', 'inhibition', 'protein translation', 'superresolution microscopy'], ['alcohol use disorder', 'neuroendocrine', 'HPA axis', 'GABA', 'reward', 'mesolimbic', 'nucleus accumbens', 'microdialysis', 'chloride gradient', 'KCC2'], ['amygdala', 'ventral striatum', 'reinforcement learning', 'decision making', 'speed-accuracy trade-off', 'Bayesian', 'Rescorla-Wagner', 'Pearce-Hall', 'associability', 'lesion'], ['monkey', 'temporal cortex', 'MRI', 'memory retrieval', 'cortical layer', 'microcircuit', 'laminar localization'], ['vision', 'V1', 'variability', 'noise correlations', 'natural images', 'spontaneous activity', 'normative model', 'theory', 'stochastic sampling', 'Bayesian computations'], ['blindness', 'vision', 'retina', 'retinal ganglion cell', 'retinitis pigmentosa', 'retinal degeneration', 'photoswitch', 'azobenzene', 'ion channel', 'P2X receptor'], ['gamma', 'rhythm', 'oscillation', 'synchronization', 'communication-through-coherence (CTC)', 'gain', 'effective connectivity', 'attention', 'visual cortex', 'Channelrhodopsin'], ['oligodendrocyte development', 'adhesion GPCR', 'monobody', 'X-ray crystallography', 'protein engineering'], ['ripple', 'CA2', 'hippocampus', 'memory consolidation', 'sharp-wave', 'high-frequency', 'single-unit', 'LFP', 'learning', 'network mechanism', 'large-scale recordings', 'CA1', 'CA3'], ['network neuroscience', 'epileptic network', 'synchronizability', 'push-pull control', 'seizure spread'], ['interneuron', 'cerebellum', 'dendritic integration', 'synaptic transmission', 'voltage imaging', 'calcium imaging', 'synaptic plasticity', 'neuronal computation'], ['semaphorin signaling', 'axon guidance', 'autoinhibition', 'structure-function'], ['entorhinal cortex', 'grid cell', 'medial septum', 'path integration', 'theta rhythm'], ['oscillations', 'synchrony', 'chronic stress', 'major depressive disorder', 'neural networks'], ['fMRI', 'social cognition', 'theory of mind', 'cooperation', 'competition', 'dorsomedial prefrontal cortex', 'decision making'], ['miR-19', 'microRNA (miRNA)', 'polycistronic microRNAs', 'microRNA in\\\\xa0vivo functions', 'Rapgef2', 'cell migration', 'neural progenitor cells (NPCs)', 'adult neurogenesis', 'hippocampus', 'schizophrenia', 'human induced pluripotent stem cells (iPSCs)'], ['gap junctions', 'electrical synapses', 'dendrites', 'interneuron', 'cerebellum', 'immunolocalization', 'connexin36'], ['reward', 'standard deviation', 'normalization', 'performance', 'fMRI'], ['Drosophila', 'circadian rhythms', 'GPCR', 'PDF', 'RalA', 'dopamine'], ['anterior olfactory nucleus', 'granule cells', 'mitral cells', 'centrifugal'], ['mesopontine tegmentum', 'pedunculopontine nucleus', 'laterodorsal tegmental nucleus', 'cholinergic neuron', 'substantia nigra pars compacta', 'ventral tegmental area', 'locomotion', 'conditioned place preference', 'optogenetics', 'retrograde tracing'], ['reaction time', 'smooth pursuit eye movements', 'correlated variation', 'neuron-behavior correlations', 'floccular complex', 'Abducens', 'area MT'], ['brain development', 'neurodevelopmental disorders', 'neocortex', 'glia', 'gene expression', 'genomics', 'white matter'], ['tau', 'amyloid', 'PET', 'aging', 'memory'], ['primary visual cortex', 'in\\\\xa0vivo patch-clamp recording', 'Ca2+ imaging', 'auditory cortex', 'cross-modal interaction', 'interneuron'], ['synapse maintenance', 'excitation inhibition balance', 'non-neuronal cells', 'locomotion', 'C.\\\\xa0elegans'], ['brain development', 'neurodevelopmental disorders', 'neocortex', 'glia', 'gene expression', 'genomics', 'white matter'], ['tau', 'amyloid', 'PET', 'aging', 'memory'], ['primary visual cortex', 'in\\\\xa0vivo patch-clamp recording', 'Ca2+ imaging', 'auditory cortex', 'cross-modal interaction', 'interneuron'], ['synapse maintenance', 'excitation inhibition balance', 'non-neuronal cells', 'locomotion', 'C.\\\\xa0elegans']]\n"
     ]
    }
   ],
   "source": [
    "#将每篇paper的keywords由str转换为list，并放在一个大的list中\n",
    "\n",
    "i = 0\n",
    "full_lst=[]\n",
    "\n",
    "while i < len(df):\n",
    "    str_to_lst=df['keywords'][i].replace('[','').replace(\"]\",\"\").replace(\"'\",\"\").split(\",\")\n",
    "    new_str_to_lst=[]\n",
    "    for x in str_to_lst:\n",
    "        del_gap=x.strip()\n",
    "        if del_gap:\n",
    "            new_str_to_lst.append(del_gap)\n",
    "#     print(new_str_to_lst)\n",
    "    full_lst.append(new_str_to_lst)\n",
    "    i += 1\n",
    "print(full_lst)"
   ]
  },
  {
   "cell_type": "code",
   "execution_count": 7,
   "metadata": {},
   "outputs": [],
   "source": [
    "#将full_lst放到Series一维数组\n",
    "df1=pd.Series(full_lst)\n",
    "#再转成DataFrame二维数组\n",
    "df2=pd.DataFrame(df1)"
   ]
  },
  {
   "cell_type": "code",
   "execution_count": 8,
   "metadata": {},
   "outputs": [
    {
     "data": {
      "text/html": [
       "<div>\n",
       "<style scoped>\n",
       "    .dataframe tbody tr th:only-of-type {\n",
       "        vertical-align: middle;\n",
       "    }\n",
       "\n",
       "    .dataframe tbody tr th {\n",
       "        vertical-align: top;\n",
       "    }\n",
       "\n",
       "    .dataframe thead th {\n",
       "        text-align: right;\n",
       "    }\n",
       "</style>\n",
       "<table border=\"1\" class=\"dataframe\">\n",
       "  <thead>\n",
       "    <tr style=\"text-align: right;\">\n",
       "      <th></th>\n",
       "      <th>keyword</th>\n",
       "    </tr>\n",
       "  </thead>\n",
       "  <tbody>\n",
       "    <tr>\n",
       "      <th>0</th>\n",
       "      <td>[dystonia, stress signaling, regulation of tra...</td>\n",
       "    </tr>\n",
       "    <tr>\n",
       "      <th>1</th>\n",
       "      <td>[enhancer organization, genome-wide mapping, C...</td>\n",
       "    </tr>\n",
       "    <tr>\n",
       "      <th>2</th>\n",
       "      <td>[splicing, synapse, immediate early gene, plas...</td>\n",
       "    </tr>\n",
       "    <tr>\n",
       "      <th>3</th>\n",
       "      <td>[autism spectrum disorders, ASD, capsaicin, do...</td>\n",
       "    </tr>\n",
       "    <tr>\n",
       "      <th>4</th>\n",
       "      <td>[axonal regeneration, mitochondria, axonal tra...</td>\n",
       "    </tr>\n",
       "  </tbody>\n",
       "</table>\n",
       "</div>"
      ],
      "text/plain": [
       "                                             keyword\n",
       "0  [dystonia, stress signaling, regulation of tra...\n",
       "1  [enhancer organization, genome-wide mapping, C...\n",
       "2  [splicing, synapse, immediate early gene, plas...\n",
       "3  [autism spectrum disorders, ASD, capsaicin, do...\n",
       "4  [axonal regeneration, mitochondria, axonal tra..."
      ]
     },
     "execution_count": 8,
     "metadata": {},
     "output_type": "execute_result"
    }
   ],
   "source": [
    "#添加列名称keyword\n",
    "df2.columns=['keyword']\n",
    "df2[:5]"
   ]
  },
  {
   "cell_type": "code",
   "execution_count": 9,
   "metadata": {},
   "outputs": [
    {
     "data": {
      "text/html": [
       "<div>\n",
       "<style scoped>\n",
       "    .dataframe tbody tr th:only-of-type {\n",
       "        vertical-align: middle;\n",
       "    }\n",
       "\n",
       "    .dataframe tbody tr th {\n",
       "        vertical-align: top;\n",
       "    }\n",
       "\n",
       "    .dataframe thead th {\n",
       "        text-align: right;\n",
       "    }\n",
       "</style>\n",
       "<table border=\"1\" class=\"dataframe\">\n",
       "  <thead>\n",
       "    <tr style=\"text-align: right;\">\n",
       "      <th></th>\n",
       "      <th>indi_keyword</th>\n",
       "    </tr>\n",
       "  </thead>\n",
       "  <tbody>\n",
       "    <tr>\n",
       "      <th>0</th>\n",
       "      <td>dystonia</td>\n",
       "    </tr>\n",
       "    <tr>\n",
       "      <th>0</th>\n",
       "      <td>stress signaling</td>\n",
       "    </tr>\n",
       "    <tr>\n",
       "      <th>0</th>\n",
       "      <td>regulation of translation</td>\n",
       "    </tr>\n",
       "    <tr>\n",
       "      <th>1</th>\n",
       "      <td>enhancer organization</td>\n",
       "    </tr>\n",
       "    <tr>\n",
       "      <th>1</th>\n",
       "      <td>genome-wide mapping</td>\n",
       "    </tr>\n",
       "  </tbody>\n",
       "</table>\n",
       "</div>"
      ],
      "text/plain": [
       "                indi_keyword\n",
       "0                   dystonia\n",
       "0           stress signaling\n",
       "0  regulation of translation\n",
       "1      enhancer organization\n",
       "1        genome-wide mapping"
      ]
     },
     "execution_count": 9,
     "metadata": {},
     "output_type": "execute_result"
    }
   ],
   "source": [
    "#为keyword每个单元格中的列表的每个元素创建一行，列并命名为indi_keyword\n",
    "df3=df2.apply(lambda x : pd.Series(x['keyword']),axis=1).stack().reset_index(level=1,drop=True)\n",
    "df3.name='indi_keyword'\n",
    "data=df2.drop('keyword',axis=1).join(df3)\n",
    "data[:5]"
   ]
  },
  {
   "cell_type": "code",
   "execution_count": 10,
   "metadata": {},
   "outputs": [
    {
     "data": {
      "text/plain": [
       "interneuron         7\n",
       "C.\\xa0elegans       5\n",
       "tau                 4\n",
       "optogenetics        4\n",
       "axonal transport    4\n",
       "Name: indi_keyword, dtype: int64"
      ]
     },
     "execution_count": 10,
     "metadata": {},
     "output_type": "execute_result"
    }
   ],
   "source": [
    "#统计每个indi_keyword出现的次数\n",
    "data_count=data['indi_keyword'].value_counts()\n",
    "data_count[:5]"
   ]
  },
  {
   "cell_type": "code",
   "execution_count": 11,
   "metadata": {},
   "outputs": [
    {
     "data": {
      "text/html": [
       "<div>\n",
       "<style scoped>\n",
       "    .dataframe tbody tr th:only-of-type {\n",
       "        vertical-align: middle;\n",
       "    }\n",
       "\n",
       "    .dataframe tbody tr th {\n",
       "        vertical-align: top;\n",
       "    }\n",
       "\n",
       "    .dataframe thead th {\n",
       "        text-align: right;\n",
       "    }\n",
       "</style>\n",
       "<table border=\"1\" class=\"dataframe\">\n",
       "  <thead>\n",
       "    <tr style=\"text-align: right;\">\n",
       "      <th></th>\n",
       "      <th>num_kw</th>\n",
       "      <th>No.</th>\n",
       "      <th>info</th>\n",
       "    </tr>\n",
       "  </thead>\n",
       "  <tbody>\n",
       "    <tr>\n",
       "      <th>interneuron</th>\n",
       "      <td>7</td>\n",
       "      <td>1</td>\n",
       "      <td>neuron 2016</td>\n",
       "    </tr>\n",
       "    <tr>\n",
       "      <th>C.\\xa0elegans</th>\n",
       "      <td>5</td>\n",
       "      <td>2</td>\n",
       "      <td>neuron 2016</td>\n",
       "    </tr>\n",
       "    <tr>\n",
       "      <th>tau</th>\n",
       "      <td>4</td>\n",
       "      <td>3</td>\n",
       "      <td>neuron 2016</td>\n",
       "    </tr>\n",
       "    <tr>\n",
       "      <th>optogenetics</th>\n",
       "      <td>4</td>\n",
       "      <td>4</td>\n",
       "      <td>neuron 2016</td>\n",
       "    </tr>\n",
       "    <tr>\n",
       "      <th>axonal transport</th>\n",
       "      <td>4</td>\n",
       "      <td>5</td>\n",
       "      <td>neuron 2016</td>\n",
       "    </tr>\n",
       "  </tbody>\n",
       "</table>\n",
       "</div>"
      ],
      "text/plain": [
       "                  num_kw  No.         info\n",
       "interneuron            7    1  neuron 2016\n",
       "C.\\xa0elegans          5    2  neuron 2016\n",
       "tau                    4    3  neuron 2016\n",
       "optogenetics           4    4  neuron 2016\n",
       "axonal transport       4    5  neuron 2016"
      ]
     },
     "execution_count": 11,
     "metadata": {},
     "output_type": "execute_result"
    }
   ],
   "source": [
    "#存入DF二维格式\n",
    "df_kw=pd.DataFrame(data_count)\n",
    "#添加列名称\n",
    "df_kw.columns=['num_kw']\n",
    "#添加No.列\n",
    "df_kw['No.']=range(1,len(df_kw)+1)\n",
    "#添加info列\n",
    "df_kw['info']='neuron 2016'\n",
    "#查看\n",
    "df_kw[:5]"
   ]
  },
  {
   "cell_type": "code",
   "execution_count": 12,
   "metadata": {},
   "outputs": [],
   "source": [
    "#保存数据\n",
    "df_kw.to_csv('2016neuron_kw.csv')"
   ]
  },
  {
   "cell_type": "code",
   "execution_count": null,
   "metadata": {},
   "outputs": [],
   "source": []
  }
 ],
 "metadata": {
  "kernelspec": {
   "display_name": "Python 3",
   "language": "python",
   "name": "python3"
  },
  "language_info": {
   "codemirror_mode": {
    "name": "ipython",
    "version": 3
   },
   "file_extension": ".py",
   "mimetype": "text/x-python",
   "name": "python",
   "nbconvert_exporter": "python",
   "pygments_lexer": "ipython3",
   "version": "3.7.1"
  }
 },
 "nbformat": 4,
 "nbformat_minor": 2
}
