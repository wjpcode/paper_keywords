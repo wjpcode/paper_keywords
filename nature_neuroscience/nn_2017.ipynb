{
 "cells": [
  {
   "cell_type": "code",
   "execution_count": 1,
   "metadata": {},
   "outputs": [],
   "source": [
    "import numpy as np\n",
    "import pandas as pd\n",
    "import csv"
   ]
  },
  {
   "cell_type": "code",
   "execution_count": 2,
   "metadata": {},
   "outputs": [
    {
     "data": {
      "text/html": [
       "<div>\n",
       "<style scoped>\n",
       "    .dataframe tbody tr th:only-of-type {\n",
       "        vertical-align: middle;\n",
       "    }\n",
       "\n",
       "    .dataframe tbody tr th {\n",
       "        vertical-align: top;\n",
       "    }\n",
       "\n",
       "    .dataframe thead th {\n",
       "        text-align: right;\n",
       "    }\n",
       "</style>\n",
       "<table border=\"1\" class=\"dataframe\">\n",
       "  <thead>\n",
       "    <tr style=\"text-align: right;\">\n",
       "      <th></th>\n",
       "      <th>Activation of planarian TRPA1 by reactive oxygen species reveals a conserved mechanism for animal nociception</th>\n",
       "      <th>['Pain', 'Sensory processing']</th>\n",
       "      <th>16 October 2017</th>\n",
       "    </tr>\n",
       "  </thead>\n",
       "  <tbody>\n",
       "    <tr>\n",
       "      <th>0</th>\n",
       "      <td>Arid1b haploinsufficiency disrupts cortical in...</td>\n",
       "      <td>['Autism spectrum disorders', 'Development of ...</td>\n",
       "      <td>06 November 2017</td>\n",
       "    </tr>\n",
       "    <tr>\n",
       "      <th>1</th>\n",
       "      <td>Lateral geniculate neurons projecting to prima...</td>\n",
       "      <td>['Cortex', 'Thalamus']</td>\n",
       "      <td>13 November 2017</td>\n",
       "    </tr>\n",
       "    <tr>\n",
       "      <th>2</th>\n",
       "      <td>Thalamic inhibition regulates critical-period ...</td>\n",
       "      <td>['Synaptic plasticity', 'Visual system']</td>\n",
       "      <td>16 October 2017</td>\n",
       "    </tr>\n",
       "    <tr>\n",
       "      <th>3</th>\n",
       "      <td>Oxytocin-receptor-expressing neurons in the pa...</td>\n",
       "      <td>['Motivation', 'Neural circuits', 'Neurophysio...</td>\n",
       "      <td>13 November 2017</td>\n",
       "    </tr>\n",
       "    <tr>\n",
       "      <th>4</th>\n",
       "      <td>A craniofacial-specific monosynaptic circuit e...</td>\n",
       "      <td>['Emotion', 'Limbic system', 'Neuroscience', '...</td>\n",
       "      <td>13 November 2017</td>\n",
       "    </tr>\n",
       "  </tbody>\n",
       "</table>\n",
       "</div>"
      ],
      "text/plain": [
       "  Activation of planarian TRPA1 by reactive oxygen species reveals a conserved mechanism for animal nociception  \\\n",
       "0  Arid1b haploinsufficiency disrupts cortical in...                                                              \n",
       "1  Lateral geniculate neurons projecting to prima...                                                              \n",
       "2  Thalamic inhibition regulates critical-period ...                                                              \n",
       "3  Oxytocin-receptor-expressing neurons in the pa...                                                              \n",
       "4  A craniofacial-specific monosynaptic circuit e...                                                              \n",
       "\n",
       "                      ['Pain', 'Sensory processing']   16 October 2017  \n",
       "0  ['Autism spectrum disorders', 'Development of ...  06 November 2017  \n",
       "1                             ['Cortex', 'Thalamus']  13 November 2017  \n",
       "2           ['Synaptic plasticity', 'Visual system']   16 October 2017  \n",
       "3  ['Motivation', 'Neural circuits', 'Neurophysio...  13 November 2017  \n",
       "4  ['Emotion', 'Limbic system', 'Neuroscience', '...  13 November 2017  "
      ]
     },
     "execution_count": 2,
     "metadata": {},
     "output_type": "execute_result"
    }
   ],
   "source": [
    "df=pd.read_csv('nat_neur_v20_2017.csv')\n",
    "df[:5]"
   ]
  },
  {
   "cell_type": "code",
   "execution_count": 3,
   "metadata": {},
   "outputs": [
    {
     "data": {
      "text/html": [
       "<div>\n",
       "<style scoped>\n",
       "    .dataframe tbody tr th:only-of-type {\n",
       "        vertical-align: middle;\n",
       "    }\n",
       "\n",
       "    .dataframe tbody tr th {\n",
       "        vertical-align: top;\n",
       "    }\n",
       "\n",
       "    .dataframe thead th {\n",
       "        text-align: right;\n",
       "    }\n",
       "</style>\n",
       "<table border=\"1\" class=\"dataframe\">\n",
       "  <thead>\n",
       "    <tr style=\"text-align: right;\">\n",
       "      <th></th>\n",
       "      <th>paper title</th>\n",
       "      <th>keywords</th>\n",
       "      <th>publish_date</th>\n",
       "    </tr>\n",
       "  </thead>\n",
       "  <tbody>\n",
       "    <tr>\n",
       "      <th>0</th>\n",
       "      <td>Arid1b haploinsufficiency disrupts cortical in...</td>\n",
       "      <td>['Autism spectrum disorders', 'Development of ...</td>\n",
       "      <td>06 November 2017</td>\n",
       "    </tr>\n",
       "    <tr>\n",
       "      <th>1</th>\n",
       "      <td>Lateral geniculate neurons projecting to prima...</td>\n",
       "      <td>['Cortex', 'Thalamus']</td>\n",
       "      <td>13 November 2017</td>\n",
       "    </tr>\n",
       "    <tr>\n",
       "      <th>2</th>\n",
       "      <td>Thalamic inhibition regulates critical-period ...</td>\n",
       "      <td>['Synaptic plasticity', 'Visual system']</td>\n",
       "      <td>16 October 2017</td>\n",
       "    </tr>\n",
       "    <tr>\n",
       "      <th>3</th>\n",
       "      <td>Oxytocin-receptor-expressing neurons in the pa...</td>\n",
       "      <td>['Motivation', 'Neural circuits', 'Neurophysio...</td>\n",
       "      <td>13 November 2017</td>\n",
       "    </tr>\n",
       "    <tr>\n",
       "      <th>4</th>\n",
       "      <td>A craniofacial-specific monosynaptic circuit e...</td>\n",
       "      <td>['Emotion', 'Limbic system', 'Neuroscience', '...</td>\n",
       "      <td>13 November 2017</td>\n",
       "    </tr>\n",
       "  </tbody>\n",
       "</table>\n",
       "</div>"
      ],
      "text/plain": [
       "                                         paper title  \\\n",
       "0  Arid1b haploinsufficiency disrupts cortical in...   \n",
       "1  Lateral geniculate neurons projecting to prima...   \n",
       "2  Thalamic inhibition regulates critical-period ...   \n",
       "3  Oxytocin-receptor-expressing neurons in the pa...   \n",
       "4  A craniofacial-specific monosynaptic circuit e...   \n",
       "\n",
       "                                            keywords      publish_date  \n",
       "0  ['Autism spectrum disorders', 'Development of ...  06 November 2017  \n",
       "1                             ['Cortex', 'Thalamus']  13 November 2017  \n",
       "2           ['Synaptic plasticity', 'Visual system']   16 October 2017  \n",
       "3  ['Motivation', 'Neural circuits', 'Neurophysio...  13 November 2017  \n",
       "4  ['Emotion', 'Limbic system', 'Neuroscience', '...  13 November 2017  "
      ]
     },
     "execution_count": 3,
     "metadata": {},
     "output_type": "execute_result"
    }
   ],
   "source": [
    "#添加每列字段并查看\n",
    "df.columns=['paper title','keywords','publish_date']\n",
    "df[:5]"
   ]
  },
  {
   "cell_type": "code",
   "execution_count": 4,
   "metadata": {},
   "outputs": [
    {
     "name": "stdout",
     "output_type": "stream",
     "text": [
      "[['Autism spectrum disorders', 'Development of the nervous system', 'Developmental disorders', 'Inhibition', 'Social behaviour'], ['Cortex', 'Thalamus'], ['Synaptic plasticity', 'Visual system'], ['Motivation', 'Neural circuits', 'Neurophysiology'], ['Emotion', 'Limbic system', 'Neuroscience', 'Pain', 'Sensory processing'], ['Autism spectrum disorders', 'Neural circuits'], ['Blood–brain barrier', 'Cytokines', 'Depression', 'Inflammation', 'Stress and resilience'], ['Functional magnetic resonance imaging', 'Neuro–vascular interactions', 'Whisker system'], ['Cognitive control', 'Neural decoding', 'Working memory'], ['Decision', 'Reward'], ['Cancer models', 'CNS cancer', 'Gene regulation', 'Glial development', 'Gliogenesis'], ['Astrocyte', 'Cellular neuroscience', 'Exocytosis', 'Glial biology'], ['Amygdala', 'Astrocyte'], ['Neuroimmunology', 'Systems biology'], ['Diseases of the nervous system', 'Neurochemistry'], ['Long-term potentiation', 'Neurological disorders'], ['Neural circuits', 'Social behaviour'], ['Neural circuits', 'Neuropathic pain'], ['Amygdala', 'Extinction', 'Fear conditioning', 'Neural circuits', 'Prefrontal cortex'], ['Hippocampus', 'Optical imaging'], ['Amygdala', 'Extinction', 'Prefrontal cortex'], ['Amygdala', 'Consolidation', 'Hippocampus', 'Neural circuits', 'Spatial memory'], ['Hippocampus', 'Learning and memory', 'Reward'], ['CNS cancer', 'Genomic engineering'], ['Computational biology and bioinformatics', 'Drug discovery', 'Psychiatric disorders'], ['Development of the nervous system', 'Embryogenesis'], ['Regeneration and repair in the nervous system', 'Transdifferentiation'], ['Neuroimmunology', 'Neuroscience'], ['Inhibition', 'Neural circuits'], ['Feeding behaviour', 'Neural circuits', 'Reward'], ['Neural circuits', 'Sensorimotor processing'], ['Extrastriate cortex', 'Visual system'], ['Attention', 'Psychology', 'Visual system'], ['Autism spectrum disorders', 'DNA sequencing', 'Genetics of the nervous system', 'Statistical methods'], ['Amyotrophic lateral sclerosis', 'Cell death in the nervous system', 'Mechanisms of disease', 'Neurodegenerative diseases'], ['Diseases of the nervous system', 'Neurological disorders'], ['Epigenetics and plasticity', 'Gene regulation', 'Nuclear transport', 'Schizophrenia'], ['Motivation', 'Neural circuits', 'Social behaviour'], ['Decision', 'Learning algorithms'], ['Brain–machine interface', 'Circadian rhythms and sleep'], ['Decision', 'Neural encoding'], ['Learning algorithms', 'Perception', 'Sensory processing'], ['Autism spectrum disorders', 'Ion channels in the nervous system', 'Learning and memory', 'Neurodevelopmental disorders'], ['Data integration', 'Genome-wide association studies', 'Neurodegenerative diseases'], ['Autism spectrum disorders', 'Functional genomics', 'Neuronal development'], ['Apoptosis', 'CNS cancer'], ['Behavioural genetics', 'Neural circuits', 'Sensory processing', 'Somatic system', 'Touch receptors'], ['Diabetes', 'Obesity'], ['Fluorescence imaging', 'Pattern vision', 'Sensory processing'], ['Biophysical models', 'Dendritic excitability'], ['Chronic pain', 'Cortex', 'Neural circuits'], ['Cortex', 'Motor cortex'], ['Cortex', 'Decision', 'Social behaviour'], ['Motor neuron', 'Motor neuron disease'], ['Ion channels in the nervous system', 'Neuroimmunology', 'Pain', 'Tumour-suppressor proteins'], ['Gustatory system', 'Sensory processing'], ['Emotion', 'Feeding behaviour', 'Neuroimmunology'], ['Auditory system', 'Neural circuits'], ['Sensory processing', 'Striate cortex'], ['Sensory processing', 'Visual system'], ['Dynamical systems', 'Extrastriate cortex'], ['Birdsong', 'Neural circuits'], ['Cognitive control', 'Neural circuits', 'Schizophrenia'], ['Decision', 'Psychology'], ['Network models', 'Neural circuits', 'Research data'], ['Attention', 'Network models'], ['Blood–brain barrier', 'Cell lineage'], ['Neural circuits', 'Synaptic development'], ['Gliogenesis', 'Microglia'], ['Chronic pain', 'Neural circuits', 'Spinal cord'], ['Basal ganglia', 'Neural circuits', '\"Parkinsons disease\"'], ['Amygdala', 'Prefrontal cortex'], ['Amygdala', 'Fear conditioning', 'Learning and memory', 'Neural circuits', 'Prefrontal cortex'], ['Consolidation', 'Hippocampus', 'Spatial memory'], ['Cognitive control', 'Neural circuits'], ['Attention', 'Neural decoding', 'Working memory'], ['Consciousness', 'Sleep'], ['Decision', 'Morality', 'Psychology'], ['\"Huntingtons disease\"', 'Neural stem cells'], ['Cancer stem cells', 'CNS cancer'], ['Lymphocytes', 'Multiple sclerosis', 'Neuroimmunology'], ['Membrane fusion', '\"Parkinsons disease\"'], ['Alternative splicing', 'Epigenetics and behaviour', 'Long-term memory', 'Molecular neuroscience', 'Transcriptomics'], ['Neuroimmunology', 'Stress and resilience'], ['Feeding behaviour', 'Motivation', 'Reward'], ['Cardiovascular biology', 'Neuro–vascular interactions'], ['Cerebellum', 'Classical conditioning', 'Neural encoding'], ['Computational neuroscience', 'Learning and memory'], ['Extrastriate cortex', 'Perception'], ['Cell fate and cell lineage', 'Developmental neurogenesis', 'Neural circuits', 'Neural progenitors', 'Neuronal development'], ['Hippocampus', 'Long-term potentiation', 'Membrane proteins'], ['Addiction', 'Cadherins', 'Spike-timing-dependent plasticity', 'Synaptic plasticity'], ['Sensory processing', 'Visual system'], ['Hippocampus', 'Neural circuits', 'Olfactory system'], ['Hippocampus', 'Neural circuits'], ['Learning algorithms', 'Reward'], ['Cognitive neuroscience', 'Psychology', 'Working memory'], ['Astrocyte', 'CNS cancer'], ['Glial biology', 'Metabolism', 'Neuro–vascular interactions'], ['Biophysical models', 'Hippocampus', 'Navigation', 'Neural circuits'], ['Long-term memory', 'Neural circuits'], ['Addiction', 'Inhibition', 'Motivation', 'Neural circuits', 'Reward'], ['Motivation', 'Neural circuits', 'Pheromone', 'Reward', 'Social behaviour'], ['Amygdala', 'Social neuroscience'], ['Learning and memory', 'Psychology', 'Sensory processing', 'Visual system'], ['Metabolism', 'Molecular neuroscience'], ['Neuronal development', 'Olfactory bulb'], ['Extrastriate cortex', 'Neuronal development'], ['Ion channels in the nervous system', 'Neurophysiology', 'Pain', 'Touch receptors'], ['Extinction', 'Inhibition–excitation balance', 'Molecular neuroscience'], ['Feeding behaviour', 'Neural circuits', 'Neurophysiology', 'Sensory processing'], ['Brain', 'Cortex', 'Hippocampus'], ['Consolidation', 'Cortex', 'Hippocampus', 'Neural circuits'], ['Neural circuits', 'Social behaviour', 'Stress and resilience', 'Synaptic plasticity'], ['Amygdala', 'Emotion', 'Long-term memory', 'Psychology'], ['Cognitive control', 'Psychology', 'Working memory'], ['Brain', 'Cognitive neuroscience', 'Neuroscience', 'Social neuroscience'], ['Biological sciences', 'Hair cell', 'Neuroscience'], ['Ion channels in the nervous system', 'Sensory processing'], ['Hypothalamus', 'Neural circuits'], ['Consolidation', 'Fear conditioning', 'Molecular neuroscience', 'Prefrontal cortex'], ['Auditory system', 'Sensory processing'], ['Motion detection', 'Navigation'], ['Motor cortex', 'Sensorimotor processing'], ['Amygdala', 'Decision', 'Fear conditioning'], ['Olfactory bulb', 'Sensory processing'], ['Network models', 'Neural circuits'], ['Cortex', 'Long-term memory', 'Perception', 'Psychology', 'Social neuroscience']]\n"
     ]
    }
   ],
   "source": [
    "#将每篇paper的keywords由str转换为list，并放在一个大的list中\n",
    "\n",
    "i = 0\n",
    "full_lst=[]\n",
    "\n",
    "while i < len(df):\n",
    "    str_to_lst=df['keywords'][i].replace('[','').replace(\"]\",\"\").replace(\"'\",\"\").split(\",\")\n",
    "    new_str_to_lst=[]\n",
    "    for x in str_to_lst:\n",
    "        del_gap=x.strip()\n",
    "        if del_gap:\n",
    "            new_str_to_lst.append(del_gap)\n",
    "#     print(new_str_to_lst)\n",
    "    full_lst.append(new_str_to_lst)\n",
    "    i += 1\n",
    "print(full_lst)"
   ]
  },
  {
   "cell_type": "code",
   "execution_count": 5,
   "metadata": {},
   "outputs": [
    {
     "data": {
      "text/html": [
       "<div>\n",
       "<style scoped>\n",
       "    .dataframe tbody tr th:only-of-type {\n",
       "        vertical-align: middle;\n",
       "    }\n",
       "\n",
       "    .dataframe tbody tr th {\n",
       "        vertical-align: top;\n",
       "    }\n",
       "\n",
       "    .dataframe thead th {\n",
       "        text-align: right;\n",
       "    }\n",
       "</style>\n",
       "<table border=\"1\" class=\"dataframe\">\n",
       "  <thead>\n",
       "    <tr style=\"text-align: right;\">\n",
       "      <th></th>\n",
       "      <th>keyword</th>\n",
       "    </tr>\n",
       "  </thead>\n",
       "  <tbody>\n",
       "    <tr>\n",
       "      <th>0</th>\n",
       "      <td>[Autism spectrum disorders, Development of the...</td>\n",
       "    </tr>\n",
       "    <tr>\n",
       "      <th>1</th>\n",
       "      <td>[Cortex, Thalamus]</td>\n",
       "    </tr>\n",
       "    <tr>\n",
       "      <th>2</th>\n",
       "      <td>[Synaptic plasticity, Visual system]</td>\n",
       "    </tr>\n",
       "    <tr>\n",
       "      <th>3</th>\n",
       "      <td>[Motivation, Neural circuits, Neurophysiology]</td>\n",
       "    </tr>\n",
       "    <tr>\n",
       "      <th>4</th>\n",
       "      <td>[Emotion, Limbic system, Neuroscience, Pain, S...</td>\n",
       "    </tr>\n",
       "  </tbody>\n",
       "</table>\n",
       "</div>"
      ],
      "text/plain": [
       "                                             keyword\n",
       "0  [Autism spectrum disorders, Development of the...\n",
       "1                                 [Cortex, Thalamus]\n",
       "2               [Synaptic plasticity, Visual system]\n",
       "3     [Motivation, Neural circuits, Neurophysiology]\n",
       "4  [Emotion, Limbic system, Neuroscience, Pain, S..."
      ]
     },
     "execution_count": 5,
     "metadata": {},
     "output_type": "execute_result"
    }
   ],
   "source": [
    "#将full_lst放到Series一维数组\n",
    "df1=pd.Series(full_lst)\n",
    "#再转成DataFrame二维数组\n",
    "df2=pd.DataFrame(df1)\n",
    "#添加列名称keyword\n",
    "df2.columns=['keyword']\n",
    "df2[:5]"
   ]
  },
  {
   "cell_type": "code",
   "execution_count": 6,
   "metadata": {},
   "outputs": [
    {
     "data": {
      "text/html": [
       "<div>\n",
       "<style scoped>\n",
       "    .dataframe tbody tr th:only-of-type {\n",
       "        vertical-align: middle;\n",
       "    }\n",
       "\n",
       "    .dataframe tbody tr th {\n",
       "        vertical-align: top;\n",
       "    }\n",
       "\n",
       "    .dataframe thead th {\n",
       "        text-align: right;\n",
       "    }\n",
       "</style>\n",
       "<table border=\"1\" class=\"dataframe\">\n",
       "  <thead>\n",
       "    <tr style=\"text-align: right;\">\n",
       "      <th></th>\n",
       "      <th>indi_keyword</th>\n",
       "    </tr>\n",
       "  </thead>\n",
       "  <tbody>\n",
       "    <tr>\n",
       "      <th>0</th>\n",
       "      <td>Autism spectrum disorders</td>\n",
       "    </tr>\n",
       "    <tr>\n",
       "      <th>0</th>\n",
       "      <td>Development of the nervous system</td>\n",
       "    </tr>\n",
       "    <tr>\n",
       "      <th>0</th>\n",
       "      <td>Developmental disorders</td>\n",
       "    </tr>\n",
       "    <tr>\n",
       "      <th>0</th>\n",
       "      <td>Inhibition</td>\n",
       "    </tr>\n",
       "    <tr>\n",
       "      <th>0</th>\n",
       "      <td>Social behaviour</td>\n",
       "    </tr>\n",
       "  </tbody>\n",
       "</table>\n",
       "</div>"
      ],
      "text/plain": [
       "                        indi_keyword\n",
       "0          Autism spectrum disorders\n",
       "0  Development of the nervous system\n",
       "0            Developmental disorders\n",
       "0                         Inhibition\n",
       "0                   Social behaviour"
      ]
     },
     "execution_count": 6,
     "metadata": {},
     "output_type": "execute_result"
    }
   ],
   "source": [
    "#为keyword每个单元格中的列表的每个元素创建一行，列并命名为indi_keyword\n",
    "df3=df2.apply(lambda x : pd.Series(x['keyword']),axis=1).stack().reset_index(level=1,drop=True)\n",
    "df3.name='indi_keyword'\n",
    "data=df2.drop('keyword',axis=1).join(df3)\n",
    "data[:5]"
   ]
  },
  {
   "cell_type": "code",
   "execution_count": 7,
   "metadata": {},
   "outputs": [
    {
     "data": {
      "text/plain": [
       "Neural circuits       33\n",
       "Sensory processing    13\n",
       "Hippocampus           10\n",
       "Amygdala               9\n",
       "Psychology             8\n",
       "Name: indi_keyword, dtype: int64"
      ]
     },
     "execution_count": 7,
     "metadata": {},
     "output_type": "execute_result"
    }
   ],
   "source": [
    "#统计每个indi_keyword出现的次数\n",
    "data_count=data['indi_keyword'].value_counts()\n",
    "data_count[:5]"
   ]
  },
  {
   "cell_type": "code",
   "execution_count": 10,
   "metadata": {},
   "outputs": [
    {
     "data": {
      "text/html": [
       "<div>\n",
       "<style scoped>\n",
       "    .dataframe tbody tr th:only-of-type {\n",
       "        vertical-align: middle;\n",
       "    }\n",
       "\n",
       "    .dataframe tbody tr th {\n",
       "        vertical-align: top;\n",
       "    }\n",
       "\n",
       "    .dataframe thead th {\n",
       "        text-align: right;\n",
       "    }\n",
       "</style>\n",
       "<table border=\"1\" class=\"dataframe\">\n",
       "  <thead>\n",
       "    <tr style=\"text-align: right;\">\n",
       "      <th></th>\n",
       "      <th>num_kw</th>\n",
       "      <th>No.</th>\n",
       "      <th>info</th>\n",
       "    </tr>\n",
       "  </thead>\n",
       "  <tbody>\n",
       "    <tr>\n",
       "      <th>Neural circuits</th>\n",
       "      <td>33</td>\n",
       "      <td>1</td>\n",
       "      <td>Nat. Neuroscience 2017</td>\n",
       "    </tr>\n",
       "    <tr>\n",
       "      <th>Sensory processing</th>\n",
       "      <td>13</td>\n",
       "      <td>2</td>\n",
       "      <td>Nat. Neuroscience 2017</td>\n",
       "    </tr>\n",
       "    <tr>\n",
       "      <th>Hippocampus</th>\n",
       "      <td>10</td>\n",
       "      <td>3</td>\n",
       "      <td>Nat. Neuroscience 2017</td>\n",
       "    </tr>\n",
       "    <tr>\n",
       "      <th>Amygdala</th>\n",
       "      <td>9</td>\n",
       "      <td>4</td>\n",
       "      <td>Nat. Neuroscience 2017</td>\n",
       "    </tr>\n",
       "    <tr>\n",
       "      <th>Psychology</th>\n",
       "      <td>8</td>\n",
       "      <td>5</td>\n",
       "      <td>Nat. Neuroscience 2017</td>\n",
       "    </tr>\n",
       "  </tbody>\n",
       "</table>\n",
       "</div>"
      ],
      "text/plain": [
       "                    num_kw  No.                    info\n",
       "Neural circuits         33    1  Nat. Neuroscience 2017\n",
       "Sensory processing      13    2  Nat. Neuroscience 2017\n",
       "Hippocampus             10    3  Nat. Neuroscience 2017\n",
       "Amygdala                 9    4  Nat. Neuroscience 2017\n",
       "Psychology               8    5  Nat. Neuroscience 2017"
      ]
     },
     "execution_count": 10,
     "metadata": {},
     "output_type": "execute_result"
    }
   ],
   "source": [
    "#存入DF二维格式\n",
    "df_kw=pd.DataFrame(data_count)\n",
    "#添加列名称\n",
    "df_kw.columns=['num_kw']\n",
    "#添加No.列\n",
    "df_kw['No.']=range(1,len(df_kw)+1)\n",
    "#添加info列\n",
    "df_kw['info']='Nat. Neuroscience 2017'\n",
    "#查看\n",
    "df_kw[:5]"
   ]
  },
  {
   "cell_type": "code",
   "execution_count": 11,
   "metadata": {},
   "outputs": [],
   "source": [
    "#保存数据\n",
    "df_kw.to_csv('2017nn_kw.csv')"
   ]
  },
  {
   "cell_type": "code",
   "execution_count": null,
   "metadata": {},
   "outputs": [],
   "source": []
  }
 ],
 "metadata": {
  "kernelspec": {
   "display_name": "Python 3",
   "language": "python",
   "name": "python3"
  },
  "language_info": {
   "codemirror_mode": {
    "name": "ipython",
    "version": 3
   },
   "file_extension": ".py",
   "mimetype": "text/x-python",
   "name": "python",
   "nbconvert_exporter": "python",
   "pygments_lexer": "ipython3",
   "version": "3.7.1"
  }
 },
 "nbformat": 4,
 "nbformat_minor": 2
}
