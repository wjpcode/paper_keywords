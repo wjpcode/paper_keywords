{
 "cells": [
  {
   "cell_type": "code",
   "execution_count": 1,
   "metadata": {},
   "outputs": [],
   "source": [
    "import numpy as np\n",
    "import pandas as pd\n",
    "import csv"
   ]
  },
  {
   "cell_type": "code",
   "execution_count": 2,
   "metadata": {},
   "outputs": [
    {
     "data": {
      "text/html": [
       "<div>\n",
       "<style scoped>\n",
       "    .dataframe tbody tr th:only-of-type {\n",
       "        vertical-align: middle;\n",
       "    }\n",
       "\n",
       "    .dataframe tbody tr th {\n",
       "        vertical-align: top;\n",
       "    }\n",
       "\n",
       "    .dataframe thead th {\n",
       "        text-align: right;\n",
       "    }\n",
       "</style>\n",
       "<table border=\"1\" class=\"dataframe\">\n",
       "  <thead>\n",
       "    <tr style=\"text-align: right;\">\n",
       "      <th></th>\n",
       "      <th>Novel genetic loci underlying human intracranial volume identified through genome-wide association</th>\n",
       "      <th>['Brain', 'Development of the nervous system', 'Genome-wide association studies', 'Image processing']</th>\n",
       "      <th>03 October 2016</th>\n",
       "    </tr>\n",
       "  </thead>\n",
       "  <tbody>\n",
       "    <tr>\n",
       "      <th>0</th>\n",
       "      <td>L1-associated genomic regions are deleted in s...</td>\n",
       "      <td>['Genetics', 'Neuroscience']</td>\n",
       "      <td>12 September 2016</td>\n",
       "    </tr>\n",
       "    <tr>\n",
       "      <th>1</th>\n",
       "      <td>Mechanosensing is critical for axon growth in ...</td>\n",
       "      <td>['Development of the nervous system', 'Motility']</td>\n",
       "      <td>19 September 2016</td>\n",
       "    </tr>\n",
       "    <tr>\n",
       "      <th>2</th>\n",
       "      <td>An interferon-β-resistant and NLRP3 inflammaso...</td>\n",
       "      <td>['Autoimmunity', 'Innate immune cells', 'Multi...</td>\n",
       "      <td>07 November 2016</td>\n",
       "    </tr>\n",
       "    <tr>\n",
       "      <th>3</th>\n",
       "      <td>C9ORF72 interaction with cofilin modulates act...</td>\n",
       "      <td>['Molecular neuroscience', 'Neurodegeneration']</td>\n",
       "      <td>10 October 2016</td>\n",
       "    </tr>\n",
       "    <tr>\n",
       "      <th>4</th>\n",
       "      <td>Astrocytes mediate neurovascular signaling to ...</td>\n",
       "      <td>['Astrocyte', 'Neuro–vascular interactions']</td>\n",
       "      <td>24 October 2016</td>\n",
       "    </tr>\n",
       "  </tbody>\n",
       "</table>\n",
       "</div>"
      ],
      "text/plain": [
       "  Novel genetic loci underlying human intracranial volume identified through genome-wide association  \\\n",
       "0  L1-associated genomic regions are deleted in s...                                                   \n",
       "1  Mechanosensing is critical for axon growth in ...                                                   \n",
       "2  An interferon-β-resistant and NLRP3 inflammaso...                                                   \n",
       "3  C9ORF72 interaction with cofilin modulates act...                                                   \n",
       "4  Astrocytes mediate neurovascular signaling to ...                                                   \n",
       "\n",
       "  ['Brain', 'Development of the nervous system', 'Genome-wide association studies', 'Image processing']  \\\n",
       "0                       ['Genetics', 'Neuroscience']                                                      \n",
       "1  ['Development of the nervous system', 'Motility']                                                      \n",
       "2  ['Autoimmunity', 'Innate immune cells', 'Multi...                                                      \n",
       "3    ['Molecular neuroscience', 'Neurodegeneration']                                                      \n",
       "4       ['Astrocyte', 'Neuro–vascular interactions']                                                      \n",
       "\n",
       "     03 October 2016  \n",
       "0  12 September 2016  \n",
       "1  19 September 2016  \n",
       "2   07 November 2016  \n",
       "3    10 October 2016  \n",
       "4    24 October 2016  "
      ]
     },
     "execution_count": 2,
     "metadata": {},
     "output_type": "execute_result"
    }
   ],
   "source": [
    "df=pd.read_csv('nat_neur_v19_2016.csv')\n",
    "df[:5]"
   ]
  },
  {
   "cell_type": "code",
   "execution_count": 3,
   "metadata": {},
   "outputs": [
    {
     "data": {
      "text/html": [
       "<div>\n",
       "<style scoped>\n",
       "    .dataframe tbody tr th:only-of-type {\n",
       "        vertical-align: middle;\n",
       "    }\n",
       "\n",
       "    .dataframe tbody tr th {\n",
       "        vertical-align: top;\n",
       "    }\n",
       "\n",
       "    .dataframe thead th {\n",
       "        text-align: right;\n",
       "    }\n",
       "</style>\n",
       "<table border=\"1\" class=\"dataframe\">\n",
       "  <thead>\n",
       "    <tr style=\"text-align: right;\">\n",
       "      <th></th>\n",
       "      <th>paper title</th>\n",
       "      <th>keywords</th>\n",
       "      <th>publish_date</th>\n",
       "    </tr>\n",
       "  </thead>\n",
       "  <tbody>\n",
       "    <tr>\n",
       "      <th>0</th>\n",
       "      <td>L1-associated genomic regions are deleted in s...</td>\n",
       "      <td>['Genetics', 'Neuroscience']</td>\n",
       "      <td>12 September 2016</td>\n",
       "    </tr>\n",
       "    <tr>\n",
       "      <th>1</th>\n",
       "      <td>Mechanosensing is critical for axon growth in ...</td>\n",
       "      <td>['Development of the nervous system', 'Motility']</td>\n",
       "      <td>19 September 2016</td>\n",
       "    </tr>\n",
       "    <tr>\n",
       "      <th>2</th>\n",
       "      <td>An interferon-β-resistant and NLRP3 inflammaso...</td>\n",
       "      <td>['Autoimmunity', 'Innate immune cells', 'Multi...</td>\n",
       "      <td>07 November 2016</td>\n",
       "    </tr>\n",
       "    <tr>\n",
       "      <th>3</th>\n",
       "      <td>C9ORF72 interaction with cofilin modulates act...</td>\n",
       "      <td>['Molecular neuroscience', 'Neurodegeneration']</td>\n",
       "      <td>10 October 2016</td>\n",
       "    </tr>\n",
       "    <tr>\n",
       "      <th>4</th>\n",
       "      <td>Astrocytes mediate neurovascular signaling to ...</td>\n",
       "      <td>['Astrocyte', 'Neuro–vascular interactions']</td>\n",
       "      <td>24 October 2016</td>\n",
       "    </tr>\n",
       "  </tbody>\n",
       "</table>\n",
       "</div>"
      ],
      "text/plain": [
       "                                         paper title  \\\n",
       "0  L1-associated genomic regions are deleted in s...   \n",
       "1  Mechanosensing is critical for axon growth in ...   \n",
       "2  An interferon-β-resistant and NLRP3 inflammaso...   \n",
       "3  C9ORF72 interaction with cofilin modulates act...   \n",
       "4  Astrocytes mediate neurovascular signaling to ...   \n",
       "\n",
       "                                            keywords       publish_date  \n",
       "0                       ['Genetics', 'Neuroscience']  12 September 2016  \n",
       "1  ['Development of the nervous system', 'Motility']  19 September 2016  \n",
       "2  ['Autoimmunity', 'Innate immune cells', 'Multi...   07 November 2016  \n",
       "3    ['Molecular neuroscience', 'Neurodegeneration']    10 October 2016  \n",
       "4       ['Astrocyte', 'Neuro–vascular interactions']    24 October 2016  "
      ]
     },
     "execution_count": 3,
     "metadata": {},
     "output_type": "execute_result"
    }
   ],
   "source": [
    "#添加每列字段并查看\n",
    "df.columns=['paper title','keywords','publish_date']\n",
    "df[:5]"
   ]
  },
  {
   "cell_type": "code",
   "execution_count": 4,
   "metadata": {},
   "outputs": [
    {
     "name": "stdout",
     "output_type": "stream",
     "text": [
      "[['Genetics', 'Neuroscience'], ['Development of the nervous system', 'Motility'], ['Autoimmunity', 'Innate immune cells', 'Multiple sclerosis', 'Neuroimmunology'], ['Molecular neuroscience', 'Neurodegeneration'], ['Astrocyte', 'Neuro–vascular interactions'], ['Feeding behaviour', 'Hypothalamus'], ['Amygdala', 'Genetics of the nervous system'], ['Barrel cortex', 'Neural circuits'], ['Learning and memory', 'Sensory processing'], ['Birdsong', 'Premotor cortex'], ['Decision', 'Neural circuits'], ['Cortex', 'Dynamical systems', 'Motivation', 'Navigation', 'Reward'], ['Dynamical systems', 'Network models', 'Neural circuits'], ['Consolidation', 'Long-term memory'], ['Attention', 'Cortex', 'Sensory processing'], ['Cognitive neuroscience', 'Network models'], ['Amygdala', 'Social behaviour'], ['Genome-wide association studies', 'Schizophrenia'], ['Databases', 'Gene expression', 'Genetics of the nervous system', 'Genomics', 'Schizophrenia'], ['Autism spectrum disorders', 'Data integration', 'Functional genomics', 'Machine learning'], ['Autism spectrum disorders', 'Computational biology and bioinformatics'], ['Autism spectrum disorders', 'Developmental neurogenesis', 'Molecular neuroscience', 'Neural progenitors'], ['Amygdala', 'Neural circuits', 'Social behaviour', 'Stress and resilience'], ['Epigenetics and behaviour', 'Histone post-translational modifications', 'Molecular neuroscience', 'Social behaviour', 'Transcription factors'], ['Developmental disorders', 'Epigenetics in the nervous system'], ['Autism spectrum disorders', 'Spine regulation and structure', 'Striatum', 'Synaptic development', 'Transcription factors'], ['Ion channels in the nervous system', 'Molecular neuroscience', 'Synaptic vesicle exocytosis'], ['Cell death in the nervous system', 'Epigenetics and behaviour', '\"Huntingtons disease\"'], ['Cell fate and cell lineage', 'Cell type diversity', 'Differentiation', 'Motor neuron', 'Peripheral nervous system'], ['Hypothalamus', 'Neural circuits', 'Neuronal physiology', 'Obesity'], ['Cortex', 'Fear conditioning', 'Imaging', 'Neural circuits', 'Synaptic plasticity'], ['Motivation', 'Neural circuits', 'Neuronal physiology', 'Sleep', 'Wakefulness'], ['Barrel cortex', 'Navigation', 'Sensory processing', 'Whisker system'], ['Cognitive neuroscience', 'Learning and memory', 'Psychology'], ['Neural circuits', 'Sensory processing', 'Spinal cord'], ['Cortex', 'Learning and memory', 'Motor cortex', 'Myelin biology and repair', 'Oligodendrocyte'], ['Ion channels in the nervous system', 'Long-term depression', 'Synaptic plasticity'], ['Hippocampus', 'Long-term memory'], ['Decision', 'Operant learning', 'Premotor cortex'], ['Barrel cortex', 'Dynamical systems', 'Neural circuits', 'Whisker system'], ['Cognitive neuroscience', 'Neural circuits', 'Visual system'], ['Neural circuits', 'Striate cortex'], ['Astrocyte', 'Molecular neuroscience', 'Synaptic transmission'], ['Addiction', 'Inhibition', 'Neural circuits', 'Neurotransmitters', 'Synaptic plasticity'], ['Limbic system', 'Neural circuits', 'Neuronal physiology', 'Reward'], ['Neural circuits', 'Striate cortex'], ['Amygdala', 'Anxiety', 'Psychology'], ['Glial development', 'Regeneration and repair in the nervous system', 'Schwann cell'], ['Glial development', 'Regeneration and repair in the nervous system', 'Schwann cell'], ['Diseases', 'Regeneration and repair in the nervous system'], ['\"Alzheimers disease\"', 'Diseases of the nervous system'], ['Glial development', 'Myelin biology and repair', 'Schwann cell'], ['Developmental neurogenesis', 'Neural progenitors', 'Neural stem cells'], ['Motivation', 'Olfactory receptors', 'Pheromone'], ['Developmental disorders', 'Epigenetics and behaviour', 'Histone post-translational modifications', 'Molecular neuroscience', 'Neuronal development'], ['Addiction', 'Long-term depression'], ['Social behaviour', 'Synaptic plasticity'], ['Cortex', 'Neural circuits', 'Olfactory cortex'], ['Hippocampus', 'Neural circuits', 'Neuronal physiology'], ['Hippocampus', 'Network models', 'Spatial memory'], ['Consolidation', 'Hippocampus', 'Neural circuits', 'Sleep'], ['Amygdala', 'Fear conditioning', 'Learning algorithms'], ['Neural decoding', 'Reward'], ['Cancer', 'Cancer stem cells', 'CNS cancer'], ['Neural stem cells', 'Neuronal development', 'Non-coding RNAs'], ['Neural circuits', 'Olfactory bulb', 'Scanning electron microscopy'], ['Action potential generation', 'Auditory system', 'Ion channels in the nervous system'], ['Epigenetics and plasticity', 'Hypothalamus', 'Reproductive disorders'], ['Neural circuits', 'Reward'], ['Decision', 'Motivation', 'Neural circuits', 'Neurophysiology', 'Reward'], ['Neurodegenerative diseases', 'Neuroscience'], ['Developmental disorders', 'Multiple sclerosis', 'Oligodendrocyte'], ['Neuronal development', 'Neurotrophic factors', 'Somatosensory system'], ['Motor cortex', 'Spinal cord injury'], ['Motion detection', 'Navigation', 'Neural circuits', 'Neural encoding'], ['Autism spectrum disorders', 'Synaptic development'], ['Neural circuits', 'Reward'], ['Hypothalamus', 'Sensory processing'], ['Basal ganglia', 'Neural circuits'], ['Cortex', 'Network models'], ['Epigenetics', 'Genome-wide association studies', 'Neurodevelopmental disorders', 'Schizophrenia', 'Sequencing'], ['Fluorescent dyes', 'Striatum', 'Synaptic vesicle exocytosis'], ['Circadian mechanisms', 'Circadian regulation', 'Neural circuits', 'Synaptic transmission'], ['Aggression', 'Hypothalamus', 'Motivation', 'Neural circuits', 'Social behaviour'], ['Fear conditioning', 'Neural circuits', 'Neuroscience'], ['Neural decoding', 'Object vision'], ['Genetic markers', 'Genome-wide association studies', 'Magnetic resonance imaging', 'Schizophrenia'], ['Cell death in the nervous system', 'Ion channels in the nervous system', 'Stroke'], ['\"Alzheimers disease\"', 'Long-term potentiation', 'Molecular neuroscience'], ['Consolidation', 'Hippocampus', 'Inhibition', 'Long-term memory'], ['Feeding behaviour', 'Neural circuits', 'Reward', 'Striatum'], ['Learning algorithms', 'Motivation', 'Reward'], ['Motivation', 'Reward'], ['Sensory processing', 'Whisker system'], ['Developmental disorders', 'Gene regulatory networks', 'Systems biology'], ['Inhibition', 'Molecular neuroscience'], ['Multiple sclerosis', 'Neuroimmunology', 'Regeneration and repair in the nervous system'], ['Developmental neurogenesis', 'Neural stem cells', 'Neuronal development'], ['Adult neurogenesis', 'Neurotransmitters'], ['Neural circuits', 'Olfactory bulb', 'Sensory processing'], ['Limbic system', 'Neural circuits'], ['Hypothalamus', 'Neural circuits', 'Non-REM sleep', 'Thalamus', 'Wakefulness'], ['Sensorimotor processing', 'Sensory processing', 'Thalamus'], ['Motion detection', 'Neural circuits', 'Striate cortex', 'Thalamus'], ['Striate cortex', 'Thalamus'], ['Decision', 'Reflexes'], ['Cortex', 'Decision', 'Neuronal physiology'], ['DNA methylation', 'Epigenomics', 'Schizophrenia'], ['DNA methylation', 'Epigenomics', 'Neurodevelopmental disorders', 'Schizophrenia'], ['Endocytosis', 'Mechanisms of disease'], ['Multiple sclerosis', 'Myelin biology and repair', 'Oligodendrocyte'], ['Epigenetics and plasticity', 'Gene regulation', 'Molecular neuroscience', 'Transcriptional regulatory elements'], ['Cellular neuroscience', 'Long-term potentiation', 'Molecular neuroscience'], ['Microglia', 'Neuropathic pain'], ['Chromatin structure', 'DNA methylation', 'Epigenetics and behaviour', 'Epigenetics and plasticity', 'Fear conditioning'], ['Classical conditioning', 'Learning algorithms'], ['Motivation', 'Psychology', 'Reward'], ['Barrel cortex', 'Cortex', 'Neural circuits', 'Sensory processing', 'Whisker system'], ['Cortex', 'Decision', 'Perception'], ['Cognitive control', 'Decision', 'Short-term memory'], ['Cognitive neuroscience', 'Psychology'], ['Language', 'Psychology', 'Sensory processing'], ['Attention', 'Predictive markers']]\n"
     ]
    }
   ],
   "source": [
    "#将每篇paper的keywords由str转换为list，并放在一个大的list中\n",
    "\n",
    "i = 0\n",
    "full_lst=[]\n",
    "\n",
    "while i < len(df):\n",
    "    str_to_lst=df['keywords'][i].replace('[','').replace(\"]\",\"\").replace(\"'\",\"\").split(\",\")\n",
    "    new_str_to_lst=[]\n",
    "    for x in str_to_lst:\n",
    "        del_gap=x.strip()\n",
    "        if del_gap:\n",
    "            new_str_to_lst.append(del_gap)\n",
    "#     print(new_str_to_lst)\n",
    "    full_lst.append(new_str_to_lst)\n",
    "    i += 1\n",
    "print(full_lst)"
   ]
  },
  {
   "cell_type": "code",
   "execution_count": 5,
   "metadata": {},
   "outputs": [
    {
     "data": {
      "text/html": [
       "<div>\n",
       "<style scoped>\n",
       "    .dataframe tbody tr th:only-of-type {\n",
       "        vertical-align: middle;\n",
       "    }\n",
       "\n",
       "    .dataframe tbody tr th {\n",
       "        vertical-align: top;\n",
       "    }\n",
       "\n",
       "    .dataframe thead th {\n",
       "        text-align: right;\n",
       "    }\n",
       "</style>\n",
       "<table border=\"1\" class=\"dataframe\">\n",
       "  <thead>\n",
       "    <tr style=\"text-align: right;\">\n",
       "      <th></th>\n",
       "      <th>keyword</th>\n",
       "    </tr>\n",
       "  </thead>\n",
       "  <tbody>\n",
       "    <tr>\n",
       "      <th>0</th>\n",
       "      <td>[Genetics, Neuroscience]</td>\n",
       "    </tr>\n",
       "    <tr>\n",
       "      <th>1</th>\n",
       "      <td>[Development of the nervous system, Motility]</td>\n",
       "    </tr>\n",
       "    <tr>\n",
       "      <th>2</th>\n",
       "      <td>[Autoimmunity, Innate immune cells, Multiple s...</td>\n",
       "    </tr>\n",
       "    <tr>\n",
       "      <th>3</th>\n",
       "      <td>[Molecular neuroscience, Neurodegeneration]</td>\n",
       "    </tr>\n",
       "    <tr>\n",
       "      <th>4</th>\n",
       "      <td>[Astrocyte, Neuro–vascular interactions]</td>\n",
       "    </tr>\n",
       "  </tbody>\n",
       "</table>\n",
       "</div>"
      ],
      "text/plain": [
       "                                             keyword\n",
       "0                           [Genetics, Neuroscience]\n",
       "1      [Development of the nervous system, Motility]\n",
       "2  [Autoimmunity, Innate immune cells, Multiple s...\n",
       "3        [Molecular neuroscience, Neurodegeneration]\n",
       "4           [Astrocyte, Neuro–vascular interactions]"
      ]
     },
     "execution_count": 5,
     "metadata": {},
     "output_type": "execute_result"
    }
   ],
   "source": [
    "#将full_lst放到Series一维数组\n",
    "df1=pd.Series(full_lst)\n",
    "#再转成DataFrame二维数组\n",
    "df2=pd.DataFrame(df1)\n",
    "#添加列名称keyword\n",
    "df2.columns=['keyword']\n",
    "df2[:5]"
   ]
  },
  {
   "cell_type": "code",
   "execution_count": 6,
   "metadata": {},
   "outputs": [
    {
     "data": {
      "text/html": [
       "<div>\n",
       "<style scoped>\n",
       "    .dataframe tbody tr th:only-of-type {\n",
       "        vertical-align: middle;\n",
       "    }\n",
       "\n",
       "    .dataframe tbody tr th {\n",
       "        vertical-align: top;\n",
       "    }\n",
       "\n",
       "    .dataframe thead th {\n",
       "        text-align: right;\n",
       "    }\n",
       "</style>\n",
       "<table border=\"1\" class=\"dataframe\">\n",
       "  <thead>\n",
       "    <tr style=\"text-align: right;\">\n",
       "      <th></th>\n",
       "      <th>indi_keyword</th>\n",
       "    </tr>\n",
       "  </thead>\n",
       "  <tbody>\n",
       "    <tr>\n",
       "      <th>0</th>\n",
       "      <td>Genetics</td>\n",
       "    </tr>\n",
       "    <tr>\n",
       "      <th>0</th>\n",
       "      <td>Neuroscience</td>\n",
       "    </tr>\n",
       "    <tr>\n",
       "      <th>1</th>\n",
       "      <td>Development of the nervous system</td>\n",
       "    </tr>\n",
       "    <tr>\n",
       "      <th>1</th>\n",
       "      <td>Motility</td>\n",
       "    </tr>\n",
       "    <tr>\n",
       "      <th>2</th>\n",
       "      <td>Autoimmunity</td>\n",
       "    </tr>\n",
       "  </tbody>\n",
       "</table>\n",
       "</div>"
      ],
      "text/plain": [
       "                        indi_keyword\n",
       "0                           Genetics\n",
       "0                       Neuroscience\n",
       "1  Development of the nervous system\n",
       "1                           Motility\n",
       "2                       Autoimmunity"
      ]
     },
     "execution_count": 6,
     "metadata": {},
     "output_type": "execute_result"
    }
   ],
   "source": [
    "#为keyword每个单元格中的列表的每个元素创建一行，列并命名为indi_keyword\n",
    "df3=df2.apply(lambda x : pd.Series(x['keyword']),axis=1).stack().reset_index(level=1,drop=True)\n",
    "df3.name='indi_keyword'\n",
    "data=df2.drop('keyword',axis=1).join(df3)\n",
    "data[:5]"
   ]
  },
  {
   "cell_type": "code",
   "execution_count": 7,
   "metadata": {},
   "outputs": [
    {
     "data": {
      "text/plain": [
       "Neural circuits           32\n",
       "Reward                    10\n",
       "Sensory processing        10\n",
       "Molecular neuroscience    10\n",
       "Cortex                     9\n",
       "Name: indi_keyword, dtype: int64"
      ]
     },
     "execution_count": 7,
     "metadata": {},
     "output_type": "execute_result"
    }
   ],
   "source": [
    "#统计每个indi_keyword出现的次数\n",
    "data_count=data['indi_keyword'].value_counts()\n",
    "data_count[:5]"
   ]
  },
  {
   "cell_type": "code",
   "execution_count": 8,
   "metadata": {},
   "outputs": [
    {
     "data": {
      "text/html": [
       "<div>\n",
       "<style scoped>\n",
       "    .dataframe tbody tr th:only-of-type {\n",
       "        vertical-align: middle;\n",
       "    }\n",
       "\n",
       "    .dataframe tbody tr th {\n",
       "        vertical-align: top;\n",
       "    }\n",
       "\n",
       "    .dataframe thead th {\n",
       "        text-align: right;\n",
       "    }\n",
       "</style>\n",
       "<table border=\"1\" class=\"dataframe\">\n",
       "  <thead>\n",
       "    <tr style=\"text-align: right;\">\n",
       "      <th></th>\n",
       "      <th>num_kw</th>\n",
       "      <th>No.</th>\n",
       "      <th>info</th>\n",
       "    </tr>\n",
       "  </thead>\n",
       "  <tbody>\n",
       "    <tr>\n",
       "      <th>Neural circuits</th>\n",
       "      <td>32</td>\n",
       "      <td>1</td>\n",
       "      <td>Nat. Neuroscience 2016</td>\n",
       "    </tr>\n",
       "    <tr>\n",
       "      <th>Reward</th>\n",
       "      <td>10</td>\n",
       "      <td>2</td>\n",
       "      <td>Nat. Neuroscience 2016</td>\n",
       "    </tr>\n",
       "    <tr>\n",
       "      <th>Sensory processing</th>\n",
       "      <td>10</td>\n",
       "      <td>3</td>\n",
       "      <td>Nat. Neuroscience 2016</td>\n",
       "    </tr>\n",
       "    <tr>\n",
       "      <th>Molecular neuroscience</th>\n",
       "      <td>10</td>\n",
       "      <td>4</td>\n",
       "      <td>Nat. Neuroscience 2016</td>\n",
       "    </tr>\n",
       "    <tr>\n",
       "      <th>Cortex</th>\n",
       "      <td>9</td>\n",
       "      <td>5</td>\n",
       "      <td>Nat. Neuroscience 2016</td>\n",
       "    </tr>\n",
       "  </tbody>\n",
       "</table>\n",
       "</div>"
      ],
      "text/plain": [
       "                        num_kw  No.                    info\n",
       "Neural circuits             32    1  Nat. Neuroscience 2016\n",
       "Reward                      10    2  Nat. Neuroscience 2016\n",
       "Sensory processing          10    3  Nat. Neuroscience 2016\n",
       "Molecular neuroscience      10    4  Nat. Neuroscience 2016\n",
       "Cortex                       9    5  Nat. Neuroscience 2016"
      ]
     },
     "execution_count": 8,
     "metadata": {},
     "output_type": "execute_result"
    }
   ],
   "source": [
    "#存入DF二维格式\n",
    "df_kw=pd.DataFrame(data_count)\n",
    "#添加列名称\n",
    "df_kw.columns=['num_kw']\n",
    "#添加No.列\n",
    "df_kw['No.']=range(1,len(df_kw)+1)\n",
    "#添加info列\n",
    "df_kw['info']='Nat. Neuroscience 2016'\n",
    "#查看\n",
    "df_kw[:5]"
   ]
  },
  {
   "cell_type": "code",
   "execution_count": 9,
   "metadata": {},
   "outputs": [],
   "source": [
    "#保存数据\n",
    "df_kw.to_csv('2016nn_kw.csv')"
   ]
  },
  {
   "cell_type": "code",
   "execution_count": null,
   "metadata": {},
   "outputs": [],
   "source": []
  }
 ],
 "metadata": {
  "kernelspec": {
   "display_name": "Python 3",
   "language": "python",
   "name": "python3"
  },
  "language_info": {
   "codemirror_mode": {
    "name": "ipython",
    "version": 3
   },
   "file_extension": ".py",
   "mimetype": "text/x-python",
   "name": "python",
   "nbconvert_exporter": "python",
   "pygments_lexer": "ipython3",
   "version": "3.7.1"
  }
 },
 "nbformat": 4,
 "nbformat_minor": 2
}
