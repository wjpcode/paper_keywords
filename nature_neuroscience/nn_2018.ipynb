{
 "cells": [
  {
   "cell_type": "code",
   "execution_count": 1,
   "metadata": {},
   "outputs": [],
   "source": [
    "import numpy as np\n",
    "import pandas as pd\n",
    "import csv"
   ]
  },
  {
   "cell_type": "code",
   "execution_count": 2,
   "metadata": {},
   "outputs": [
    {
     "data": {
      "text/html": [
       "<div>\n",
       "<style scoped>\n",
       "    .dataframe tbody tr th:only-of-type {\n",
       "        vertical-align: middle;\n",
       "    }\n",
       "\n",
       "    .dataframe tbody tr th {\n",
       "        vertical-align: top;\n",
       "    }\n",
       "\n",
       "    .dataframe thead th {\n",
       "        text-align: right;\n",
       "    }\n",
       "</style>\n",
       "<table border=\"1\" class=\"dataframe\">\n",
       "  <thead>\n",
       "    <tr style=\"text-align: right;\">\n",
       "      <th></th>\n",
       "      <th>Transancestral GWAS of alcohol dependence reveals common genetic underpinnings with psychiatric disorders</th>\n",
       "      <th>['Addiction', 'Genome-wide association studies']</th>\n",
       "      <th>26 November 2018</th>\n",
       "    </tr>\n",
       "  </thead>\n",
       "  <tbody>\n",
       "    <tr>\n",
       "      <th>0</th>\n",
       "      <td>Characterization of human mosaic Rett syndrome...</td>\n",
       "      <td>['Diseases of the nervous system', 'Epigenetic...</td>\n",
       "      <td>19 November 2018</td>\n",
       "    </tr>\n",
       "    <tr>\n",
       "      <th>1</th>\n",
       "      <td>Large-scale associations between the leukocyte...</td>\n",
       "      <td>['Autism spectrum disorders', 'Psychiatric dis...</td>\n",
       "      <td>26 November 2018</td>\n",
       "    </tr>\n",
       "    <tr>\n",
       "      <th>2</th>\n",
       "      <td>Partial loss of psychiatric risk gene Mir137 i...</td>\n",
       "      <td>['Autism spectrum disorders', 'miRNAs']</td>\n",
       "      <td>05 November 2018</td>\n",
       "    </tr>\n",
       "    <tr>\n",
       "      <th>3</th>\n",
       "      <td>SYNGAP1 heterozygosity disrupts sensory proces...</td>\n",
       "      <td>['Neural circuits', 'Sensory processing']</td>\n",
       "      <td>21 November 2018</td>\n",
       "    </tr>\n",
       "    <tr>\n",
       "      <th>4</th>\n",
       "      <td>Haploinsufficiency of the intellectual disabil...</td>\n",
       "      <td>['Diseases of the nervous system', 'Neuroscien...</td>\n",
       "      <td>19 November 2018</td>\n",
       "    </tr>\n",
       "  </tbody>\n",
       "</table>\n",
       "</div>"
      ],
      "text/plain": [
       "  Transancestral GWAS of alcohol dependence reveals common genetic underpinnings with psychiatric disorders  \\\n",
       "0  Characterization of human mosaic Rett syndrome...                                                          \n",
       "1  Large-scale associations between the leukocyte...                                                          \n",
       "2  Partial loss of psychiatric risk gene Mir137 i...                                                          \n",
       "3  SYNGAP1 heterozygosity disrupts sensory proces...                                                          \n",
       "4  Haploinsufficiency of the intellectual disabil...                                                          \n",
       "\n",
       "    ['Addiction', 'Genome-wide association studies']  26 November 2018  \n",
       "0  ['Diseases of the nervous system', 'Epigenetic...  19 November 2018  \n",
       "1  ['Autism spectrum disorders', 'Psychiatric dis...  26 November 2018  \n",
       "2            ['Autism spectrum disorders', 'miRNAs']  05 November 2018  \n",
       "3          ['Neural circuits', 'Sensory processing']  21 November 2018  \n",
       "4  ['Diseases of the nervous system', 'Neuroscien...  19 November 2018  "
      ]
     },
     "execution_count": 2,
     "metadata": {},
     "output_type": "execute_result"
    }
   ],
   "source": [
    "df=pd.read_csv('nat_neur_v21_2018.csv')\n",
    "df[:5]"
   ]
  },
  {
   "cell_type": "code",
   "execution_count": 3,
   "metadata": {},
   "outputs": [
    {
     "data": {
      "text/html": [
       "<div>\n",
       "<style scoped>\n",
       "    .dataframe tbody tr th:only-of-type {\n",
       "        vertical-align: middle;\n",
       "    }\n",
       "\n",
       "    .dataframe tbody tr th {\n",
       "        vertical-align: top;\n",
       "    }\n",
       "\n",
       "    .dataframe thead th {\n",
       "        text-align: right;\n",
       "    }\n",
       "</style>\n",
       "<table border=\"1\" class=\"dataframe\">\n",
       "  <thead>\n",
       "    <tr style=\"text-align: right;\">\n",
       "      <th></th>\n",
       "      <th>paper title</th>\n",
       "      <th>keywords</th>\n",
       "      <th>publish_date</th>\n",
       "    </tr>\n",
       "  </thead>\n",
       "  <tbody>\n",
       "    <tr>\n",
       "      <th>0</th>\n",
       "      <td>Characterization of human mosaic Rett syndrome...</td>\n",
       "      <td>['Diseases of the nervous system', 'Epigenetic...</td>\n",
       "      <td>19 November 2018</td>\n",
       "    </tr>\n",
       "    <tr>\n",
       "      <th>1</th>\n",
       "      <td>Large-scale associations between the leukocyte...</td>\n",
       "      <td>['Autism spectrum disorders', 'Psychiatric dis...</td>\n",
       "      <td>26 November 2018</td>\n",
       "    </tr>\n",
       "    <tr>\n",
       "      <th>2</th>\n",
       "      <td>Partial loss of psychiatric risk gene Mir137 i...</td>\n",
       "      <td>['Autism spectrum disorders', 'miRNAs']</td>\n",
       "      <td>05 November 2018</td>\n",
       "    </tr>\n",
       "    <tr>\n",
       "      <th>3</th>\n",
       "      <td>SYNGAP1 heterozygosity disrupts sensory proces...</td>\n",
       "      <td>['Neural circuits', 'Sensory processing']</td>\n",
       "      <td>21 November 2018</td>\n",
       "    </tr>\n",
       "    <tr>\n",
       "      <th>4</th>\n",
       "      <td>Haploinsufficiency of the intellectual disabil...</td>\n",
       "      <td>['Diseases of the nervous system', 'Neuroscien...</td>\n",
       "      <td>19 November 2018</td>\n",
       "    </tr>\n",
       "  </tbody>\n",
       "</table>\n",
       "</div>"
      ],
      "text/plain": [
       "                                         paper title  \\\n",
       "0  Characterization of human mosaic Rett syndrome...   \n",
       "1  Large-scale associations between the leukocyte...   \n",
       "2  Partial loss of psychiatric risk gene Mir137 i...   \n",
       "3  SYNGAP1 heterozygosity disrupts sensory proces...   \n",
       "4  Haploinsufficiency of the intellectual disabil...   \n",
       "\n",
       "                                            keywords      publish_date  \n",
       "0  ['Diseases of the nervous system', 'Epigenetic...  19 November 2018  \n",
       "1  ['Autism spectrum disorders', 'Psychiatric dis...  26 November 2018  \n",
       "2            ['Autism spectrum disorders', 'miRNAs']  05 November 2018  \n",
       "3          ['Neural circuits', 'Sensory processing']  21 November 2018  \n",
       "4  ['Diseases of the nervous system', 'Neuroscien...  19 November 2018  "
      ]
     },
     "execution_count": 3,
     "metadata": {},
     "output_type": "execute_result"
    }
   ],
   "source": [
    "#添加每列字段并查看\n",
    "df.columns=['paper title','keywords','publish_date']\n",
    "df[:5]"
   ]
  },
  {
   "cell_type": "code",
   "execution_count": 4,
   "metadata": {},
   "outputs": [
    {
     "name": "stdout",
     "output_type": "stream",
     "text": [
      "[['Diseases of the nervous system', 'Epigenetics in the nervous system'], ['Autism spectrum disorders', 'Psychiatric disorders'], ['Autism spectrum disorders', 'miRNAs'], ['Neural circuits', 'Sensory processing'], ['Diseases of the nervous system', 'Neuroscience'], ['Network models', 'Spinal cord injury'], ['Epilepsy'], ['Cognitive neuroscience', 'Network models', 'Neural circuits'], ['Decision', 'Network models'], ['Dynamical systems', 'Motor cortex', 'Network models', 'Neural circuits'], ['Addiction', 'Social behaviour'], ['Cardiovascular biology', 'Metabolism', 'Molecular neuroscience', 'Neural circuits', 'Neuroscience'], ['Motor cortex', 'Neural circuits'], ['Neural circuits', 'Wakefulness'], ['Classical conditioning', 'Learning algorithms', 'Neural circuits', 'Reward'], ['Cortex', 'Hippocampus', 'Neural circuits', 'Spatial memory'], ['Barrel cortex', 'Cellular neuroscience', 'Neural circuits', 'Sensorimotor processing'], ['Sensorimotor processing', 'Sensory processing'], ['Development of the nervous system', 'Network models', 'Sensory processing'], ['Decision', 'Hippocampus'], ['\"Alzheimers disease\"', 'Epigenomics'], ['Neuroimmunology'], ['Autoimmunity', 'Cytokines', 'Neurodegeneration', 'Neuroimmunology', 'Neuroscience'], ['Autism spectrum disorders', 'Diseases of the nervous system', 'Neuroscience'], ['Neural circuits', 'Schizophrenia'], ['Decision', 'Neural circuits', 'Operant learning', 'Striatum'], ['Cerebellum', 'Neural circuits'], ['Cortex', 'Motor cortex'], ['Neuroscience', 'Physiology'], ['Computational neuroscience', 'Network models', 'Synaptic plasticity'], ['Decision', 'Motivation', 'Reward'], ['Behavioural genetics', 'Psychology'], ['Genetics', 'Genetics of the nervous system', 'Neuroscience'], ['Cellular neuroscience', 'Neural circuits'], ['Monocytes and macrophages', 'Neuroimmunology'], ['Inflammation', 'Innate immune cells', 'Stroke'], ['Autism spectrum disorders', 'Genetics of the nervous system', 'Sexual dimorphism', 'Synaptic transmission'], ['Motivation', 'Neural circuits'], ['Neuroscience', 'Physiology'], ['Epigenetics in the nervous system', 'Neural circuits'], ['Cellular neuroscience', 'Sensors and probes', 'Spine regulation and structure', 'Synaptic plasticity'], ['\"Alzheimers disease\"', 'Epigenetics', 'Gene expression', 'Genetics', 'Neurodegenerative diseases'], ['Cell death in the nervous system', 'Epigenetics and behaviour', 'Microglia', 'Microglial cells', 'Molecular neuroscience'], ['Hypothalamus', 'Microbiology', 'Molecular neuroscience', 'Monocytes and macrophages', 'Stress and resilience'], ['Motivation', 'Reward'], ['Amygdala', 'Neural circuits'], ['Neural circuits', 'Neuroscience'], ['Dynamic networks', 'Network models', 'Schizophrenia', 'Stochastic networks'], ['Axon and dendritic guidance', 'Cell fate and cell lineage', 'Cell type diversity', 'Neuronal development'], ['Neurogenesis', 'Reprogramming'], ['\"Alzheimers disease\"', 'Neurological models'], ['Learning and memory', 'Neural circuits'], ['Long-term depression', 'Stress and resilience'], ['Neural circuits', 'Non-REM sleep', 'Sleep deprivation', 'Wakefulness'], ['Cellular neuroscience', 'Network models', 'Neural circuits'], ['Channelopathies', 'Hippocampus', 'Ion channels in the nervous system', 'Spatial memory'], ['\"Alzheimers disease\"', 'Cellular signalling networks', 'Molecular neuroscience'], ['G protein-coupled receptors', 'Pain'], ['Motivation', 'Social behaviour'], ['Learning and memory', 'Synaptic plasticity'], ['Cortex', 'Striate cortex'], ['Cognitive control', 'Learning algorithms'], ['Axon and dendritic guidance', 'Lamination'], ['Cellular neuroscience', 'Long-term potentiation', 'Molecular neuroscience', 'Spine plasticity', 'Super-resolution microscopy'], ['Glial biology', 'Myelin biology and repair', 'Neural ageing', 'Oligodendrocyte'], ['Myelin biology and repair', 'Neuroscience', 'Oligodendrocyte'], ['Sensory processing', 'Somatic system'], ['Circadian regulation', 'Neural circuits', 'Social behaviour'], ['Learning and memory', 'Sensorimotor processing'], ['Cerebellum', 'Learning and memory', 'Neural circuits', 'Oculomotor system'], ['Epilepsy', 'Neural circuits'], ['Neuroscience', 'Visual system'], ['Neuroimmunology', 'Neuroscience', 'Psychology'], ['Epigenomics', 'Neurodegeneration'], ['Gliogenesis', 'Lymphocytes'], ['Cell type diversity', 'Neural circuits', 'Neural progenitors', 'Neuronal development', 'Regeneration and repair in the nervous system'], ['Gliogenesis', 'Microglia'], ['Amyotrophic lateral sclerosis', 'Diseases of the nervous system', '\"Huntingtons disease\"', 'Multiple sclerosis', 'Neuroimmunology'], ['Amyotrophic lateral sclerosis', 'Dementia', 'Myelin biology and repair'], ['Autism spectrum disorders', 'Experimental models of disease'], ['Motor cortex', 'Spinal cord injury'], ['Learning and memory', 'Neural circuits'], ['Sensory processing', 'Striate cortex'], ['Learning and memory', 'Sensorimotor processing'], ['Cognitive control', 'Computational neuroscience', 'Decision', 'Psychology'], ['Motor neuron disease', 'Regeneration and repair in the nervous system'], ['\"Huntingtons disease\"', 'Reprogramming'], ['Cellular neuroscience', 'Neural circuits', 'Spine regulation and structure', 'Spine structure'], ['Brain–machine interface', 'Motivation', 'Neural circuits'], ['Addiction', 'Long-term potentiation'], ['Extinction', 'Learning and memory', 'Neuroscience'], ['Social neuroscience', 'Stress and resilience'], ['Insula', 'Psychiatric disorders', 'Social behaviour'], ['Cognitive neuroscience', 'Reward', 'Social neuroscience'], ['\"Alzheimers disease\"', 'Imaging'], ['Epigenetics', 'Neural stem cells'], ['Developmental disorders', 'Neuronal development'], ['Cortex', 'Neural circuits', 'Neuronal development'], ['Amyotrophic lateral sclerosis', 'Nuclear pore complex', 'Protein–protein interaction networks'], ['Cerebrovascular disorders', 'Dementia'], ['Biophysical models', 'Sensory processing'], ['Hippocampus', 'Neural circuits'], ['Neural circuits', 'Neuroscience', 'Spatial memory'], ['Cognitive control', 'Cognitive neuroscience', 'Emotion', 'Pain'], ['Synaptic vesicle exocytosis', 'Vesicle trafficking'], ['Fluorescence imaging', 'Neurophysiology', 'Super-resolution microscopy', 'Synaptic vesicle exocytosis'], ['Hippocampus', 'Ion channels in the nervous system', 'Long-term depression', 'Long-term potentiation'], ['Diseases of the nervous system', 'Neurogenesis'], ['\"Alzheimers disease\"', 'Diseases of the nervous system'], ['Neural circuits', 'Neurogenesis', 'Neuroscience', 'Spatial memory'], ['Hippocampus', 'Neurophysiology'], ['Cognitive control', 'Dynamical systems', 'Neuronal physiology'], ['Autism spectrum disorders', 'Sensory processing', 'Social neuroscience']]\n"
     ]
    }
   ],
   "source": [
    "#将每篇paper的keywords由str转换为list，并放在一个大的list中\n",
    "\n",
    "i = 0\n",
    "full_lst=[]\n",
    "\n",
    "while i < len(df):\n",
    "    str_to_lst=df['keywords'][i].replace('[','').replace(\"]\",\"\").replace(\"'\",\"\").split(\",\")\n",
    "    new_str_to_lst=[]\n",
    "    for x in str_to_lst:\n",
    "        del_gap=x.strip()\n",
    "        if del_gap:\n",
    "            new_str_to_lst.append(del_gap)\n",
    "#     print(new_str_to_lst)\n",
    "    full_lst.append(new_str_to_lst)\n",
    "    i += 1\n",
    "print(full_lst)"
   ]
  },
  {
   "cell_type": "code",
   "execution_count": 5,
   "metadata": {},
   "outputs": [],
   "source": [
    "#将full_lst放到Series一维数组\n",
    "df1=pd.Series(full_lst)\n",
    "#再转成DataFrame二维数组\n",
    "df2=pd.DataFrame(df1)"
   ]
  },
  {
   "cell_type": "code",
   "execution_count": 6,
   "metadata": {},
   "outputs": [
    {
     "data": {
      "text/html": [
       "<div>\n",
       "<style scoped>\n",
       "    .dataframe tbody tr th:only-of-type {\n",
       "        vertical-align: middle;\n",
       "    }\n",
       "\n",
       "    .dataframe tbody tr th {\n",
       "        vertical-align: top;\n",
       "    }\n",
       "\n",
       "    .dataframe thead th {\n",
       "        text-align: right;\n",
       "    }\n",
       "</style>\n",
       "<table border=\"1\" class=\"dataframe\">\n",
       "  <thead>\n",
       "    <tr style=\"text-align: right;\">\n",
       "      <th></th>\n",
       "      <th>keyword</th>\n",
       "    </tr>\n",
       "  </thead>\n",
       "  <tbody>\n",
       "    <tr>\n",
       "      <th>0</th>\n",
       "      <td>[Diseases of the nervous system, Epigenetics i...</td>\n",
       "    </tr>\n",
       "    <tr>\n",
       "      <th>1</th>\n",
       "      <td>[Autism spectrum disorders, Psychiatric disord...</td>\n",
       "    </tr>\n",
       "    <tr>\n",
       "      <th>2</th>\n",
       "      <td>[Autism spectrum disorders, miRNAs]</td>\n",
       "    </tr>\n",
       "    <tr>\n",
       "      <th>3</th>\n",
       "      <td>[Neural circuits, Sensory processing]</td>\n",
       "    </tr>\n",
       "    <tr>\n",
       "      <th>4</th>\n",
       "      <td>[Diseases of the nervous system, Neuroscience]</td>\n",
       "    </tr>\n",
       "  </tbody>\n",
       "</table>\n",
       "</div>"
      ],
      "text/plain": [
       "                                             keyword\n",
       "0  [Diseases of the nervous system, Epigenetics i...\n",
       "1  [Autism spectrum disorders, Psychiatric disord...\n",
       "2                [Autism spectrum disorders, miRNAs]\n",
       "3              [Neural circuits, Sensory processing]\n",
       "4     [Diseases of the nervous system, Neuroscience]"
      ]
     },
     "execution_count": 6,
     "metadata": {},
     "output_type": "execute_result"
    }
   ],
   "source": [
    "#添加列名称keyword\n",
    "df2.columns=['keyword']\n",
    "df2[:5]"
   ]
  },
  {
   "cell_type": "code",
   "execution_count": 7,
   "metadata": {},
   "outputs": [
    {
     "data": {
      "text/html": [
       "<div>\n",
       "<style scoped>\n",
       "    .dataframe tbody tr th:only-of-type {\n",
       "        vertical-align: middle;\n",
       "    }\n",
       "\n",
       "    .dataframe tbody tr th {\n",
       "        vertical-align: top;\n",
       "    }\n",
       "\n",
       "    .dataframe thead th {\n",
       "        text-align: right;\n",
       "    }\n",
       "</style>\n",
       "<table border=\"1\" class=\"dataframe\">\n",
       "  <thead>\n",
       "    <tr style=\"text-align: right;\">\n",
       "      <th></th>\n",
       "      <th>indi_keyword</th>\n",
       "    </tr>\n",
       "  </thead>\n",
       "  <tbody>\n",
       "    <tr>\n",
       "      <th>0</th>\n",
       "      <td>Diseases of the nervous system</td>\n",
       "    </tr>\n",
       "    <tr>\n",
       "      <th>0</th>\n",
       "      <td>Epigenetics in the nervous system</td>\n",
       "    </tr>\n",
       "    <tr>\n",
       "      <th>1</th>\n",
       "      <td>Autism spectrum disorders</td>\n",
       "    </tr>\n",
       "    <tr>\n",
       "      <th>1</th>\n",
       "      <td>Psychiatric disorders</td>\n",
       "    </tr>\n",
       "    <tr>\n",
       "      <th>2</th>\n",
       "      <td>Autism spectrum disorders</td>\n",
       "    </tr>\n",
       "  </tbody>\n",
       "</table>\n",
       "</div>"
      ],
      "text/plain": [
       "                        indi_keyword\n",
       "0     Diseases of the nervous system\n",
       "0  Epigenetics in the nervous system\n",
       "1          Autism spectrum disorders\n",
       "1              Psychiatric disorders\n",
       "2          Autism spectrum disorders"
      ]
     },
     "execution_count": 7,
     "metadata": {},
     "output_type": "execute_result"
    }
   ],
   "source": [
    "#为keyword每个单元格中的列表的每个元素创建一行，列并命名为indi_keyword\n",
    "df3=df2.apply(lambda x : pd.Series(x['keyword']),axis=1).stack().reset_index(level=1,drop=True)\n",
    "df3.name='indi_keyword'\n",
    "data=df2.drop('keyword',axis=1).join(df3)\n",
    "data[:5]"
   ]
  },
  {
   "cell_type": "code",
   "execution_count": 8,
   "metadata": {},
   "outputs": [
    {
     "data": {
      "text/plain": [
       "Neural circuits        31\n",
       "Neuroscience           14\n",
       "Network models          8\n",
       "Learning and memory     7\n",
       "Sensory processing      7\n",
       "Name: indi_keyword, dtype: int64"
      ]
     },
     "execution_count": 8,
     "metadata": {},
     "output_type": "execute_result"
    }
   ],
   "source": [
    "#统计每个indi_keyword出现的次数\n",
    "data_count=data['indi_keyword'].value_counts()\n",
    "data_count[:5]"
   ]
  },
  {
   "cell_type": "code",
   "execution_count": 9,
   "metadata": {},
   "outputs": [
    {
     "data": {
      "text/html": [
       "<div>\n",
       "<style scoped>\n",
       "    .dataframe tbody tr th:only-of-type {\n",
       "        vertical-align: middle;\n",
       "    }\n",
       "\n",
       "    .dataframe tbody tr th {\n",
       "        vertical-align: top;\n",
       "    }\n",
       "\n",
       "    .dataframe thead th {\n",
       "        text-align: right;\n",
       "    }\n",
       "</style>\n",
       "<table border=\"1\" class=\"dataframe\">\n",
       "  <thead>\n",
       "    <tr style=\"text-align: right;\">\n",
       "      <th></th>\n",
       "      <th>num_kw</th>\n",
       "      <th>No.</th>\n",
       "      <th>info</th>\n",
       "    </tr>\n",
       "  </thead>\n",
       "  <tbody>\n",
       "    <tr>\n",
       "      <th>Neural circuits</th>\n",
       "      <td>31</td>\n",
       "      <td>1</td>\n",
       "      <td>nn 2018</td>\n",
       "    </tr>\n",
       "    <tr>\n",
       "      <th>Neuroscience</th>\n",
       "      <td>14</td>\n",
       "      <td>2</td>\n",
       "      <td>nn 2018</td>\n",
       "    </tr>\n",
       "    <tr>\n",
       "      <th>Network models</th>\n",
       "      <td>8</td>\n",
       "      <td>3</td>\n",
       "      <td>nn 2018</td>\n",
       "    </tr>\n",
       "    <tr>\n",
       "      <th>Learning and memory</th>\n",
       "      <td>7</td>\n",
       "      <td>4</td>\n",
       "      <td>nn 2018</td>\n",
       "    </tr>\n",
       "    <tr>\n",
       "      <th>Sensory processing</th>\n",
       "      <td>7</td>\n",
       "      <td>5</td>\n",
       "      <td>nn 2018</td>\n",
       "    </tr>\n",
       "  </tbody>\n",
       "</table>\n",
       "</div>"
      ],
      "text/plain": [
       "                     num_kw  No.     info\n",
       "Neural circuits          31    1  nn 2018\n",
       "Neuroscience             14    2  nn 2018\n",
       "Network models            8    3  nn 2018\n",
       "Learning and memory       7    4  nn 2018\n",
       "Sensory processing        7    5  nn 2018"
      ]
     },
     "execution_count": 9,
     "metadata": {},
     "output_type": "execute_result"
    }
   ],
   "source": [
    "#存入DF二维格式\n",
    "df_kw=pd.DataFrame(data_count)\n",
    "#添加列名称\n",
    "df_kw.columns=['num_kw']\n",
    "#添加No.列\n",
    "df_kw['No.']=range(1,len(df_kw)+1)\n",
    "#添加info列\n",
    "df_kw['info']='Nat. Neuroscie 2018'\n",
    "#查看\n",
    "df_kw[:5]"
   ]
  },
  {
   "cell_type": "code",
   "execution_count": null,
   "metadata": {},
   "outputs": [],
   "source": []
  }
 ],
 "metadata": {
  "kernelspec": {
   "display_name": "Python 3",
   "language": "python",
   "name": "python3"
  },
  "language_info": {
   "codemirror_mode": {
    "name": "ipython",
    "version": 3
   },
   "file_extension": ".py",
   "mimetype": "text/x-python",
   "name": "python",
   "nbconvert_exporter": "python",
   "pygments_lexer": "ipython3",
   "version": "3.7.1"
  }
 },
 "nbformat": 4,
 "nbformat_minor": 2
}
